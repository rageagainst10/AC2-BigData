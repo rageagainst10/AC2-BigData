{
 "cells": [
  {
   "cell_type": "markdown",
   "id": "7a640996-42d0-4c63-9d3f-cdb9f232e0da",
   "metadata": {},
   "source": [
    "# Imports #"
   ]
  },
  {
   "cell_type": "code",
   "execution_count": 1,
   "id": "d458d437-189b-432a-a282-597cea3fbe1e",
   "metadata": {},
   "outputs": [],
   "source": [
    "# Importando todas as bibliotecas do projeto\n",
    "from pyspark.sql import SparkSession\n",
    "from pyspark.ml.feature import VectorAssembler, Imputer, StringIndexer\n",
    "from pyspark.ml import Pipeline\n",
    "from pyspark.ml.evaluation import MulticlassClassificationEvaluator\n",
    "from pyspark.sql.types import StructType, StructField, StringType, IntegerType, FloatType, BooleanType\n",
    "from pyspark.sql.functions import col, regexp_replace, to_date, regexp_extract, when, lit, avg, isnan, count as spark_count, desc\n",
    "import matplotlib.pyplot as plt\n",
    "import numpy as np\n",
    "import seaborn as sns\n",
    "from pyspark.ml.classification import DecisionTreeClassifier\n",
    "from pyspark.sql import functions as F\n",
    "from pyspark.ml.regression import RandomForestRegressor\n",
    "from pyspark.ml.evaluation import RegressionEvaluator\n",
    "\n",
    "# Criando a sessão do spark\n",
    "spark = SparkSession.builder \\\n",
    "    .appName(\"US Used cars dataset\") \\\n",
    "    .getOrCreate()"
   ]
  },
  {
   "cell_type": "markdown",
   "id": "67cd2883-ebd7-43f7-ab4f-3bfd79273af6",
   "metadata": {},
   "source": [
    "# Read Dataset #"
   ]
  },
  {
   "cell_type": "code",
   "execution_count": 2,
   "id": "1e08a806-68d3-4d1a-9311-b8295af0508c",
   "metadata": {},
   "outputs": [],
   "source": [
    "# Tipando manualmente o schema do dataframe no PySpark, especificando os nomes das colunas e os tipos de dados.\n",
    "schema = StructType([\n",
    "    StructField(\"Vin\", StringType(), True), #Tipo String. O Número de Identificação do Veículo é uma string codificada exclusiva para cada veículo (ex: \"ZACNJABB5KPJ92081\").\n",
    "    StructField(\"BackLegroom\", StringType(), True), #Tipo String. Espaço para as pernas no banco traseiro (ex: \"35.1 in\").\n",
    "    StructField(\"Bed\", StringType(), True), #Tipo String. Categoria do tamanho da caçamba (área de carga aberta) em caminhonete. Nulo geralmente significa que o veículo não é uma caminhonete (ex: \"NULL 99%\").\n",
    "    StructField(\"BedHeight\", StringType(), True), #Tipo String. Altura da caçamba em polegadas (ex: \"NULL 86#\").\n",
    "    StructField(\"BedLength\", StringType(), True), #Tipo String. Comprimento da caçamba em polegadas (ex: \"NULL 86%\").\n",
    "    StructField(\"BodyType\", StringType(), True), #Tipo String. Tipo de carroceria do veículo. Como Conversível, Hatchback, Sedan, etc (ex: \"SUV / Crossover\").\n",
    "    StructField(\"Cabin\", StringType(), True), #Tipo String. Categoria do tamanho da cabine (área de carga aberta) em caminhonete (ex: \"NULL 98%\").\n",
    "    StructField(\"City\", StringType(), True), #Tipo String. cidade onde o carro está listado (ex: \"Houston, San Antonio,\").\n",
    "    StructField(\"CityFuelEconomy\", FloatType(), True), # Tipo Float. A economia de combustível combinada é uma média ponderada da economia de combustível na cidade e na rodovia, em km por litro (ex: \"grafico, verificar\").\n",
    "    StructField(\"CombineFuelEconomy\", FloatType(), True), #Tipo Float. A economia de combustível combinada é uma média ponderada da economia de combustível na cidade e na rodovia, em km por litro (ex: \"NULL 100%\").\n",
    "    StructField(\"DaysOnMarket\", IntegerType(), True), #Tipo Inteiro. Dias desde que o veículo foi anunciado pela primeira vez no site (ex: \"522\").\n",
    "    StructField(\"DealerZip\", IntegerType(), True), #Tipo Inteiro. CEP do revendedor (ex: \"00960\").\n",
    "    StructField(\"Description\", StringType(), True), #Tipo String. Descrição do veículo na página de listagem do veículo(ex: \"[!@@Additional Info@@!]Engine: 2.4L I4 ZERO EVAP M-AIR,Full Size Temporary Use Spare Tire,Manufactur...\").\n",
    "    StructField(\"EngineCylinders\", StringType(), True), #Tipo String. A configuração do motor (ex: \" I4, V6\").\n",
    "    StructField(\"EngineDisplacement\", FloatType(), True), #Tipo Float. engine_displacement é a medida do volume do cilindro varrido por todos os pistões de um motor a pistão, excluindo as câmaras de combustão (ex: \"1300.0\").\n",
    "    StructField(\"EngineType\", StringType(), True), #Tipo String. A configuração do motor(ex: \"I4, V6\").\n",
    "    StructField(\"ExteriorColor\", StringType(), True), #Tipo String. Cor externa do veículo, geralmente uma cor sofisticada, igual à do folheto (ex: \"Solar Yellow\").\n",
    "    StructField(\"Fleet\", BooleanType(), True), #Tipo booleano. Se o veículo já fez parte de uma frota (ex: \"True, False, NULL 48%\").\n",
    "    StructField(\"FrameDamaged\", BooleanType(), True), #Tipo booleano. Indica se o chassi do veículo está danificado (ex: \"\"True, False, NULL 48%).\n",
    "    StructField(\"FranchiseDealer\", BooleanType(), True), #Tipo booleano. Indica se o revendedor é um franqueado (ex: \"True, False\").\n",
    "    StructField(\"FranchiseMake\", StringType(), True), #Tipo String. A empresa proprietária da franquia (ex: \"Jeep, NULL 19%\").\n",
    "    StructField(\"FrontLegroom\", StringType(), True), #Tipo String. Espaço para as pernas em polegadas para o assento do passageiro (ex: \"41.2 in\").\n",
    "    StructField(\"fuel_tank_volume\", StringType(), True), #Tipo String. Capacidade de enchimento do tanque de combustível em galões (ex: \"12.7 gal\").\n",
    "    StructField(\"fuel_type\", StringType(), True), #Tipo String. Tipo dominante de combustível ingerido pelo veículo (ex: \"Gasoline\").\n",
    "    StructField(\"has_accidents\", BooleanType(), True), #Tipo booleano. Se o veiculo possui algum acidente registrado (ex: \"True, False, NUUL 48%\").\n",
    "    StructField(\"height\", StringType(), True), #Tipo String. Altura do veículo em polegadas (ex: \"66.5 in\").\n",
    "    StructField(\"highway_fuel_economy\", FloatType(), True), # Tipo Float. Economia de combustível no trânsito rodoviário em km por litro (ex: \"23.0, verificar\").\n",
    "    StructField(\"horsepower\", FloatType(), True), # Tipo Float. Potência é a potência produzida por um motor (ex: \"177.0, verificar\").\n",
    "    StructField(\"interior_color\", StringType(), True), #Tipo String. Cor do interior do veículo, geralmente uma cor sofisticada, igual à do folheto (ex: \"Black\").\n",
    "    StructField(\"isCab\", BooleanType(), True), #Tipo booleano. Se o veículo era anteriormente era um táxi (ex: \"True, False, NULL 48%\").\n",
    "    StructField(\"is_certified\", BooleanType(), True), # Tipo booleano. Se o veículo é certificado. Carros certificados são cobertos durante o período de garantia (ex: \"NULL 100%\").\n",
    "    StructField(\"is_cpo\", BooleanType(), True), #Tipo booleano. Carros usados ​​certificados pela concessionária. Veículos certificados contam com garantia do fabricante para reparos gratuitos por um determinado período (ex: \"True, False, NULL 94%\").\n",
    "    StructField(\"is_new\", BooleanType(), True), #Tipo booleano. Se True, significa que o veículo foi lançado há menos de 2 anos (ex: \"True, False\").\n",
    "    StructField(\"is_oemcpo\", BooleanType(), True), #Tipo booleano. Carros usados ​​certificados pelo fabricante. Saiba mais em (ex: \"True, False, NULL 95%\").\n",
    "    StructField(\"latitude\", FloatType(), True), #Digite Float. Latitude a partir da geolocalização da concessionária. (ex: \"18.3988 verificar\").\n",
    "    StructField(\"length\", StringType(), True), #Tipo String. Comprimento do veículo em polegadas (ex: \"166.6 in\").\n",
    "    StructField(\"listed_date\", StringType(), True),  #Tipo String. A data em que o veículo foi anunciado no site. Não torna o days_on_market obsoleto. O preço é days_on_market dias após a data anunciada (ex: \"2019-04-06\").\n",
    "    StructField(\"listing_color\", StringType(), True), #Tipo String. Grupo de cores dominante da cor externa (ex: \"YELLOW\").\n",
    "    StructField(\"listing_id\", IntegerType(), True), # Tipo Único Inteiro. ID de listagem do site (ex: \"237132766\").\n",
    "    StructField(\"longitude\", FloatType(), True), #Digite Float. Longitude a partir da geolocalização da concessionária (ex: \"-66.1582 verificar\").\n",
    "    StructField(\"main_picture_url\", StringType(), True), #Tipo String (ex: \"https://static.cargurus.com/images/forsale/20..., NULL 12%\").\n",
    "    StructField(\"major_options\", StringType(), True), #É um array verificar dps (ex: \"['Quick Order Package'], verificar pq é um array\").\n",
    "    StructField(\"make_name\", StringType(), True), #Nome da marca (ex: Jeep)\n",
    "    StructField(\"maximum_seating\", StringType(), True), #Assentos máximos (ex: \"5 seats\")\n",
    "    StructField(\"mileage\", FloatType(), True), #Quilometragem (ex: 7.0)\n",
    "    StructField(\"model_name\", StringType(), True), #Nome do modelo (ex: \"Renegade\")\n",
    "    StructField(\"owner_count\", IntegerType(), True), #Número de proprietários (ex: 1 a 19)\n",
    "    StructField(\"power\", StringType(), True), #Potência do veículo (ex: \"177 hp @ 5,750 RPM\")\n",
    "    StructField(\"price\", FloatType(), True), #Preço do veículo (ex: 23141.0)\n",
    "    StructField(\"salvage\", BooleanType(), True), #Indicador de salvamento (True ou False)\n",
    "    StructField(\"savings_amount\", IntegerType(), True), #Quantia de economia (ex: de 0 até 147k)\n",
    "    StructField(\"seller_rating\", FloatType(), True), #Avaliação do vendedor (ex: 2.8)\n",
    "    StructField(\"sp_id\", IntegerType(), True), #ID do vendedor/revendedor (ex: 370599)\n",
    "    StructField(\"sp_name\", StringType(), True), #Nome do vendedor/revendedor (ex: \"Flagship Chrysler\")\n",
    "    StructField(\"theft_title\", BooleanType(), True), #Indica se o título do veículo é de roubo (True ou False)\n",
    "    StructField(\"torque\", StringType(), True), # Torque do motor (ex: \"200 lb-ft @ 1,750 RPM\")\n",
    "    StructField(\"transmission\", StringType(), True), #Tipo de transmissão (ex: \"A\" ou \"CVT\")\n",
    "    StructField(\"transmission_display\", StringType(), True), # Tipo de transmissão legível (ex: \"9-Speed Automatic Overdrive\")\n",
    "    StructField(\"trimId\", StringType(), True), #Identificador do acabamento (ex: \"t87739\")\n",
    "    StructField(\"trim_name\", StringType(), True), #Nome do acabamento do veículo (ex: \"SE FWD\")\n",
    "    StructField(\"vehicle_damage_category\", StringType(), True), #Categoria de danos do veículo (ex: \"null\")\n",
    "    StructField(\"wheel_system\", StringType(), True), #Tipo de tração (ex: \"AWD\", \"FWD\", \"RWD\", \"4WD\")\n",
    "    StructField(\"wheel_system_display\", StringType(), True), # Exibição do sistema de tração (ex: \"Front-Wheel Drive\")\n",
    "    StructField(\"wheelbase\", StringType(), True), # Distância entre os eixos (ex: \"101.2 in\")\n",
    "    StructField(\"width\", StringType(), True), # Largura do veículo (ex: \"79.6 in\")\n",
    "    StructField(\"year\", IntegerType(), True) # Ano do modelo (ex: 2019)\n",
    "])"
   ]
  },
  {
   "cell_type": "code",
   "execution_count": 3,
   "id": "df522158-8a24-4bf6-8c81-34c6be0e50fe",
   "metadata": {},
   "outputs": [
    {
     "name": "stdout",
     "output_type": "stream",
     "text": [
      "Número de linhas no DataFrame: 3000507\n"
     ]
    }
   ],
   "source": [
    "# Passando o dataset dentro da variavel dataframe e printando o numero de linhas para confirmar que o dataset esta completo.\n",
    "dataframe = spark.read.csv(\"used_cars_data.csv\",header=True, schema=schema)\n",
    "#dataframe = dataframe.limit(1000000)\n",
    "num_linhas = dataframe.count()\n",
    "print(f\"Número de linhas no DataFrame: {num_linhas}\")"
   ]
  },
  {
   "cell_type": "markdown",
   "id": "4bee1845-7785-43ec-bfea-15e23b2376c5",
   "metadata": {},
   "source": [
    "# Data Analysis #"
   ]
  },
  {
   "cell_type": "code",
   "execution_count": 4,
   "id": "39bac4e7-cce3-4904-bbc1-0d5f409cd249",
   "metadata": {},
   "outputs": [
    {
     "name": "stdout",
     "output_type": "stream",
     "text": [
      "Tipo: string, Quantidade: 38\n",
      "Tipo: float, Quantidade: 10\n",
      "Tipo: int, Quantidade: 7\n",
      "Tipo: boolean, Quantidade: 11\n"
     ]
    }
   ],
   "source": [
    "# Obtem os tipos de colunas\n",
    "column_types = dataframe.dtypes\n",
    "\n",
    "# Conta a quantidade de cada tipo de dado\n",
    "type_counts = {}\n",
    "\n",
    "for column, dtype in column_types:\n",
    "    if dtype not in type_counts:\n",
    "        type_counts[dtype] = 0\n",
    "    type_counts[dtype] += 1\n",
    "\n",
    "# Printa a quantidade de cada tipo de dado\n",
    "for dtype, count in type_counts.items():\n",
    "    print(f\"Tipo: {dtype}, Quantidade: {count}\")"
   ]
  },
  {
   "cell_type": "code",
   "execution_count": 5,
   "id": "17617060-2f25-408c-9c6f-37417f01b96c",
   "metadata": {},
   "outputs": [
    {
     "name": "stdout",
     "output_type": "stream",
     "text": [
      "root\n",
      " |-- Vin: string (nullable = true)\n",
      " |-- BackLegroom: string (nullable = true)\n",
      " |-- Bed: string (nullable = true)\n",
      " |-- BedHeight: string (nullable = true)\n",
      " |-- BedLength: string (nullable = true)\n",
      " |-- BodyType: string (nullable = true)\n",
      " |-- Cabin: string (nullable = true)\n",
      " |-- City: string (nullable = true)\n",
      " |-- CityFuelEconomy: float (nullable = true)\n",
      " |-- CombineFuelEconomy: float (nullable = true)\n",
      " |-- DaysOnMarket: integer (nullable = true)\n",
      " |-- DealerZip: integer (nullable = true)\n",
      " |-- Description: string (nullable = true)\n",
      " |-- EngineCylinders: string (nullable = true)\n",
      " |-- EngineDisplacement: float (nullable = true)\n",
      " |-- EngineType: string (nullable = true)\n",
      " |-- ExteriorColor: string (nullable = true)\n",
      " |-- Fleet: boolean (nullable = true)\n",
      " |-- FrameDamaged: boolean (nullable = true)\n",
      " |-- FranchiseDealer: boolean (nullable = true)\n",
      " |-- FranchiseMake: string (nullable = true)\n",
      " |-- FrontLegroom: string (nullable = true)\n",
      " |-- fuel_tank_volume: string (nullable = true)\n",
      " |-- fuel_type: string (nullable = true)\n",
      " |-- has_accidents: boolean (nullable = true)\n",
      " |-- height: string (nullable = true)\n",
      " |-- highway_fuel_economy: float (nullable = true)\n",
      " |-- horsepower: float (nullable = true)\n",
      " |-- interior_color: string (nullable = true)\n",
      " |-- isCab: boolean (nullable = true)\n",
      " |-- is_certified: boolean (nullable = true)\n",
      " |-- is_cpo: boolean (nullable = true)\n",
      " |-- is_new: boolean (nullable = true)\n",
      " |-- is_oemcpo: boolean (nullable = true)\n",
      " |-- latitude: float (nullable = true)\n",
      " |-- length: string (nullable = true)\n",
      " |-- listed_date: string (nullable = true)\n",
      " |-- listing_color: string (nullable = true)\n",
      " |-- listing_id: integer (nullable = true)\n",
      " |-- longitude: float (nullable = true)\n",
      " |-- main_picture_url: string (nullable = true)\n",
      " |-- major_options: string (nullable = true)\n",
      " |-- make_name: string (nullable = true)\n",
      " |-- maximum_seating: string (nullable = true)\n",
      " |-- mileage: float (nullable = true)\n",
      " |-- model_name: string (nullable = true)\n",
      " |-- owner_count: integer (nullable = true)\n",
      " |-- power: string (nullable = true)\n",
      " |-- price: float (nullable = true)\n",
      " |-- salvage: boolean (nullable = true)\n",
      " |-- savings_amount: integer (nullable = true)\n",
      " |-- seller_rating: float (nullable = true)\n",
      " |-- sp_id: integer (nullable = true)\n",
      " |-- sp_name: string (nullable = true)\n",
      " |-- theft_title: boolean (nullable = true)\n",
      " |-- torque: string (nullable = true)\n",
      " |-- transmission: string (nullable = true)\n",
      " |-- transmission_display: string (nullable = true)\n",
      " |-- trimId: string (nullable = true)\n",
      " |-- trim_name: string (nullable = true)\n",
      " |-- vehicle_damage_category: string (nullable = true)\n",
      " |-- wheel_system: string (nullable = true)\n",
      " |-- wheel_system_display: string (nullable = true)\n",
      " |-- wheelbase: string (nullable = true)\n",
      " |-- width: string (nullable = true)\n",
      " |-- year: integer (nullable = true)\n",
      "\n"
     ]
    }
   ],
   "source": [
    "# Verificando se o esquema dos dados do PySpark foi tipado corretamente.\n",
    "dataframe.printSchema()"
   ]
  },
  {
   "cell_type": "code",
   "execution_count": 6,
   "id": "ab53917f-a216-4dd0-90b2-e46eb09b0421",
   "metadata": {},
   "outputs": [
    {
     "name": "stdout",
     "output_type": "stream",
     "text": [
      "+-----------------+-----------+----+---------+---------+---------------+-----+--------+---------------+------------------+------------+---------+--------------------+---------------+------------------+----------+-------------+-----+------------+---------------+-------------+------------+----------------+---------+-------------+-------+--------------------+----------+--------------------+-----+------------+------+------+---------+--------+--------+-----------+-------------+----------+---------+--------------------+--------------------+----------+---------------+-------+---------------+-----------+------------------+-------+-------+--------------+-------------+------+-------------------+-----------+--------------------+------------+--------------------+------+------------+-----------------------+------------+--------------------+---------+-------+----+\n",
      "|              Vin|BackLegroom| Bed|BedHeight|BedLength|       BodyType|Cabin|    City|CityFuelEconomy|CombineFuelEconomy|DaysOnMarket|DealerZip|         Description|EngineCylinders|EngineDisplacement|EngineType|ExteriorColor|Fleet|FrameDamaged|FranchiseDealer|FranchiseMake|FrontLegroom|fuel_tank_volume|fuel_type|has_accidents| height|highway_fuel_economy|horsepower|      interior_color|isCab|is_certified|is_cpo|is_new|is_oemcpo|latitude|  length|listed_date|listing_color|listing_id|longitude|    main_picture_url|       major_options| make_name|maximum_seating|mileage|     model_name|owner_count|             power|  price|salvage|savings_amount|seller_rating| sp_id|            sp_name|theft_title|              torque|transmission|transmission_display|trimId|   trim_name|vehicle_damage_category|wheel_system|wheel_system_display|wheelbase|  width|year|\n",
      "+-----------------+-----------+----+---------+---------+---------------+-----+--------+---------------+------------------+------------+---------+--------------------+---------------+------------------+----------+-------------+-----+------------+---------------+-------------+------------+----------------+---------+-------------+-------+--------------------+----------+--------------------+-----+------------+------+------+---------+--------+--------+-----------+-------------+----------+---------+--------------------+--------------------+----------+---------------+-------+---------------+-----------+------------------+-------+-------+--------------+-------------+------+-------------------+-----------+--------------------+------------+--------------------+------+------------+-----------------------+------------+--------------------+---------+-------+----+\n",
      "|ZACNJABB5KPJ92081|    35.1 in|NULL|     NULL|     NULL|SUV / Crossover| NULL| Bayamon|           NULL|              NULL|         522|      960|[!@@Additional In...|             I4|            1300.0|        I4| Solar Yellow| NULL|        NULL|           true|         Jeep|     41.2 in|        12.7 gal| Gasoline|         NULL|66.5 in|                NULL|     177.0|               Black| NULL|        NULL|  NULL|  true|     NULL| 18.3988|166.6 in| 2019-04-06|       YELLOW| 237132766| -66.1582|https://static.ca...|['Quick Order Pac...|      Jeep|        5 seats|    7.0|       Renegade|       NULL|177 hp @ 5,750 RPM|23141.0|   NULL|             0|          2.8|370599|  Flagship Chrysler|       NULL|200 lb-ft @ 1,750...|           A|9-Speed Automatic...|t83804|Latitude FWD|                   NULL|         FWD|   Front-Wheel Drive| 101.2 in|79.6 in|2019|\n",
      "|SALCJ2FX1LH858117|    38.1 in|NULL|     NULL|     NULL|SUV / Crossover| NULL|San Juan|           NULL|              NULL|         207|      922|[!@@Additional In...|             I4|            2000.0|        I4| Narvik Black| NULL|        NULL|           true|   Land Rover|     39.1 in|        17.7 gal| Gasoline|         NULL|  68 in|                NULL|     246.0|       Black (Ebony)| NULL|        NULL|  NULL|  true|     NULL| 18.4439|  181 in| 2020-02-15|        BLACK| 265946296| -66.0785|https://static.ca...|['Adaptive Cruise...|Land Rover|        7 seats|    8.0|Discovery Sport|       NULL|246 hp @ 5,500 RPM|46500.0|   NULL|             0|          3.0|389227|Land Rover San Juan|       NULL|269 lb-ft @ 1,400...|           A|9-Speed Automatic...|t86759|       S AWD|                   NULL|         AWD|     All-Wheel Drive| 107.9 in|85.6 in|2020|\n",
      "|JF1VA2M67G9829723|    35.4 in|NULL|     NULL|     NULL|          Sedan| NULL|Guaynabo|           17.0|              NULL|        1233|      969|                NULL|             H4|            2500.0|        H4|         None|false|       false|           true|         FIAT|     43.3 in|        15.9 gal| Gasoline|        false|58.1 in|                23.0|     305.0|                None|false|        NULL|  NULL| false|     NULL| 18.3467|180.9 in| 2017-04-25|      UNKNOWN| 173473508| -66.1098|                NULL|['Alloy Wheels', ...|    Subaru|        5 seats|   NULL|        WRX STI|       NULL|305 hp @ 6,000 RPM|46995.0|  false|             0|         NULL|370467|   FIAT de San Juan|      false|290 lb-ft @ 4,000...|           M|      6-Speed Manual|t58994|        Base|                   NULL|         AWD|     All-Wheel Drive| 104.3 in|78.9 in|2016|\n",
      "|SALRR2RV0L2433391|    37.6 in|NULL|     NULL|     NULL|SUV / Crossover| NULL|San Juan|           NULL|              NULL|         196|      922|[!@@Additional In...|             V6|            3000.0|        V6|   Eiger Gray| NULL|        NULL|           true|   Land Rover|       39 in|        23.5 gal| Gasoline|         NULL|  73 in|                NULL|     340.0|Gray (Ebony/Ebony...| NULL|        NULL|  NULL|  true|     NULL| 18.4439|195.1 in| 2020-02-26|         GRAY| 266911050| -66.0785|https://static.ca...|                NULL|Land Rover|        7 seats|   11.0|      Discovery|       NULL|340 hp @ 6,500 RPM|67430.0|   NULL|             0|          3.0|389227|Land Rover San Juan|       NULL|332 lb-ft @ 3,500...|           A|8-Speed Automatic...|t86074|  V6 HSE AWD|                   NULL|         AWD|     All-Wheel Drive|   115 in|87.4 in|2020|\n",
      "|SALCJ2FXXLH862327|    38.1 in|NULL|     NULL|     NULL|SUV / Crossover| NULL|San Juan|           NULL|              NULL|         137|      922|[!@@Additional In...|             I4|            2000.0|        I4| Narvik Black| NULL|        NULL|           true|   Land Rover|     39.1 in|        17.7 gal| Gasoline|         NULL|  68 in|                NULL|     246.0|       Black (Ebony)| NULL|        NULL|  NULL|  true|     NULL| 18.4439|  181 in| 2020-04-25|        BLACK| 270957414| -66.0785|https://static.ca...|['Adaptive Cruise...|Land Rover|        7 seats|    7.0|Discovery Sport|       NULL|246 hp @ 5,500 RPM|48880.0|   NULL|             0|          3.0|389227|Land Rover San Juan|       NULL|269 lb-ft @ 1,400...|           A|9-Speed Automatic...|t86759|       S AWD|                   NULL|         AWD|     All-Wheel Drive| 107.9 in|85.6 in|2020|\n",
      "+-----------------+-----------+----+---------+---------+---------------+-----+--------+---------------+------------------+------------+---------+--------------------+---------------+------------------+----------+-------------+-----+------------+---------------+-------------+------------+----------------+---------+-------------+-------+--------------------+----------+--------------------+-----+------------+------+------+---------+--------+--------+-----------+-------------+----------+---------+--------------------+--------------------+----------+---------------+-------+---------------+-----------+------------------+-------+-------+--------------+-------------+------+-------------------+-----------+--------------------+------------+--------------------+------+------------+-----------------------+------------+--------------------+---------+-------+----+\n",
      "only showing top 5 rows\n",
      "\n"
     ]
    }
   ],
   "source": [
    "# Mostrando as primeiras linhas do DataFrame\n",
    "dataframe.show(5)"
   ]
  },
  {
   "cell_type": "markdown",
   "id": "ce3f0af4-00ca-4038-9157-56a08832dc81",
   "metadata": {},
   "source": [
    "## Analise de Graficos ##"
   ]
  },
  {
   "cell_type": "code",
   "execution_count": 7,
   "id": "95a0cfa6-fbd1-40bd-8300-994dab9d2014",
   "metadata": {},
   "outputs": [
    {
     "data": {
      "image/png": "[encoded data removed]",
      "text/plain": [
       "<Figure size 1800x1800 with 1 Axes>"
      ]
     },
     "metadata": {},
     "output_type": "display_data"
    }
   ],
   "source": [
    "# Aqui eu passei uma lista com todas as colunas do meu dataset\n",
    "columns_to_check = [\n",
    "    \"Vin\", \"BackLegroom\", \"Bed\", \"BedHeight\", \"BedLength\", \"BodyType\", \"Cabin\", \"City\",\n",
    "    \"CityFuelEconomy\", \"CombineFuelEconomy\", \"DaysOnMarket\", \"DealerZip\", \"Description\",\n",
    "    \"EngineCylinders\", \"EngineDisplacement\", \"EngineType\", \"ExteriorColor\", \"Fleet\",\n",
    "    \"FrameDamaged\", \"FranchiseDealer\", \"FranchiseMake\", \"FrontLegroom\", \"fuel_tank_volume\",\n",
    "    \"fuel_type\", \"has_accidents\", \"height\", \"highway_fuel_economy\", \"horsepower\",\n",
    "    \"interior_color\", \"isCab\", \"is_certified\", \"is_cpo\", \"is_new\", \"is_oemcpo\", \"latitude\",\n",
    "    \"length\", \"listed_date\", \"listing_color\", \"listing_id\", \"longitude\", \"main_picture_url\",\n",
    "    \"major_options\", \"make_name\", \"maximum_seating\", \"mileage\", \"model_name\", \"owner_count\",\n",
    "    \"power\", \"price\", \"salvage\", \"savings_amount\", \"seller_rating\", \"sp_id\", \"sp_name\",\n",
    "    \"theft_title\", \"torque\", \"transmission\", \"transmission_display\", \"trimId\", \"trim_name\",\n",
    "    \"vehicle_damage_category\", \"wheel_system\", \"wheel_system_display\", \"wheelbase\", \"width\", \"year\"\n",
    "]\n",
    "\n",
    "# Calcula a quantidade de valores nulos por coluna\n",
    "null_counts = (\n",
    "    dataframe.select([\n",
    "        spark_count(when(col(c).isNull(), c)).alias(c) for c in columns_to_check\n",
    "    ])\n",
    "    .collect()[0]\n",
    ")\n",
    "\n",
    "# Total de linhas para cálculo de porcentagem\n",
    "total_rows = dataframe.count()\n",
    "\n",
    "# Preparar dados para gráfico\n",
    "labels = []\n",
    "null_values = []\n",
    "null_percentages = []\n",
    "\n",
    "for col_name in columns_to_check:\n",
    "    null_count = null_counts[col_name]\n",
    "    percent = (null_count / total_rows) * 100\n",
    "    labels.append(col_name)\n",
    "    null_values.append(null_count)\n",
    "    null_percentages.append(percent)\n",
    "\n",
    "# Plotar gráfico de barras\n",
    "plt.figure(figsize=(18, 18))\n",
    "bars = plt.barh(labels, null_percentages, color='skyblue')\n",
    "plt.xlabel('Porcentagem de valores nulos (%)')\n",
    "plt.title('Porcentagem de valores nulos por coluna')\n",
    "plt.xlim(0, 100)\n",
    "\n",
    "# Adicionar os valores nas barras\n",
    "for bar, percent in zip(bars, null_percentages):\n",
    "    plt.text(bar.get_width() + 1, bar.get_y() + bar.get_height()/2,\n",
    "             f\"{percent:.1f}%\", va='center')\n",
    "\n",
    "plt.tight_layout()\n",
    "plt.show()"
   ]
  },
  {
   "cell_type": "code",
   "execution_count": null,
   "id": "15d8ef15-7dfc-4e65-a008-87b847a162a8",
   "metadata": {},
   "outputs": [],
   "source": [
    "bol_columns = ['fleet', 'FrameDamaged', 'has_accidents', 'isCab', 'is_new', 'salvage']\n",
    "\n",
    "# Coletar os dados\n",
    "data_for_plot = []\n",
    "\n",
    "for col_name in bol_columns:\n",
    "    group = dataframe.groupBy(col_name).agg(avg(\"price\").alias(\"avg_price\")).collect()\n",
    "\n",
    "    for row in group:\n",
    "        value = row[col_name]\n",
    "        value_label = str(value) if value is not None else \"Null\"\n",
    "        data_for_plot.append({\n",
    "            \"Coluna\": col_name,\n",
    "            \"Valor\": value_label,\n",
    "            \"PrecoMedio\": row[\"avg_price\"]\n",
    "        })\n"
   ]
  },
  {
   "cell_type": "code",
   "execution_count": null,
   "id": "7e511e1d-c594-4b51-bae5-fc3c263ec9f7",
   "metadata": {},
   "outputs": [],
   "source": [
    "# Construir manualmente o formato que o seaborn espera (dict de listas)\n",
    "df_plot_dict = {\"Coluna\": [], \"Valor\": [], \"PrecoMedio\": []}\n",
    "\n",
    "for col_name in bol_columns:\n",
    "    group = dataframe.groupBy(col_name).agg(avg(\"price\").alias(\"avg_price\")).collect()\n",
    "\n",
    "    for row in group:\n",
    "        valor = row[col_name]\n",
    "        valor_str = str(valor) if valor is not None else \"Null\"\n",
    "\n",
    "        df_plot_dict[\"Coluna\"].append(col_name)\n",
    "        df_plot_dict[\"Valor\"].append(valor_str)\n",
    "        df_plot_dict[\"PrecoMedio\"].append(row[\"avg_price\"])"
   ]
  },
  {
   "cell_type": "code",
   "execution_count": null,
   "id": "23deafbc-a6c0-4622-ad17-3b77bc3ad708",
   "metadata": {},
   "outputs": [],
   "source": [
    "# Criar gráfico com seaborn\n",
    "plt.figure(figsize=(12, 6))\n",
    "sns.barplot(\n",
    "    data=df_plot_dict,\n",
    "    x=\"Coluna\", y=\"PrecoMedio\", hue=\"Valor\",\n",
    "    palette=\"Set2\"\n",
    ")\n",
    "\n",
    "plt.title(\"Preço Médio por Valor Booleano\")\n",
    "plt.ylabel(\"Preço Médio (USD)\")\n",
    "plt.xticks(rotation=45)\n",
    "plt.legend(title=\"Valor da Variável\")\n",
    "plt.tight_layout()\n",
    "plt.show()"
   ]
  },
  {
   "cell_type": "markdown",
   "id": "b750ba6a-858f-43ac-9821-48bd485fef8d",
   "metadata": {},
   "source": [
    "# Clean Dataset #"
   ]
  },
  {
   "cell_type": "markdown",
   "id": "31ed79c3-690c-4753-a60c-a8d630e7a52d",
   "metadata": {},
   "source": [
    "## Julgando colunas com NULL maior que 30% para validar sua remoção ##"
   ]
  },
  {
   "cell_type": "code",
   "execution_count": null,
   "id": "59e3ac40-c5b7-40ff-9fc5-8d83b8ea556e",
   "metadata": {},
   "outputs": [],
   "source": [
    "# conta numero de linhas\n",
    "total_rows = dataframe.count()\n",
    "\n",
    "# Verificando os tipos das colunas\n",
    "schema = dataframe.schema\n",
    "\n",
    "# For para contar valores nulos\n",
    "exprs = []\n",
    "for field in schema:\n",
    "    if field.dataType.typeName() in [\"float\", \"double\"]:\n",
    "        expr = spark_count(when(col(field.name).isNull() | isnan(col(field.name)), field.name)).alias(field.name)\n",
    "    else:\n",
    "        expr = spark_count(when(col(field.name).isNull(), field.name)).alias(field.name)\n",
    "    exprs.append(expr)\n",
    "\n",
    "# contagem\n",
    "null_counts_row = dataframe.select(exprs).collect()[0]\n",
    "\n",
    "# Plota colunas com mais de 30% de dados nulos\n",
    "print(\"Colunas com mais de 30% de valores nulos:\\n\")\n",
    "count_above_30 = 0\n",
    "\n",
    "for col_name in dataframe.columns:\n",
    "    null_count = null_counts_row[col_name]\n",
    "    percent = (null_count / total_rows) * 100\n",
    "    if percent > 30:\n",
    "        print(f\"- {col_name}: {percent:.2f}%\")\n",
    "        count_above_30 += 1\n",
    "\n",
    "print(f\"\\nTotal de colunas com mais de 30% de valores nulos: {count_above_30}\")"
   ]
  },
  {
   "cell_type": "code",
   "execution_count": null,
   "id": "accc4a8e-44a2-4aae-aed5-dcc1ed12330e",
   "metadata": {},
   "outputs": [],
   "source": [
    "# Printando a primeira lista de colunas com dados nulos maior que 30% para julgar se elas serao retiradas ou tratadas por meio de tecnicas de processamento.\n",
    "colunasComNull1 = [\n",
    "    'Bed','BedHeight','BedLength','Cabin','CombineFuelEconomy','EngineDisplacement','Fleet','FrameDamaged','FranchiseDealer','has_accidents','highway_fuel_economy','horsepower'\n",
    "]\n",
    "# 12 colunas\n",
    "dataframe.select(*colunasComNull1).show()"
   ]
  },
  {
   "cell_type": "code",
   "execution_count": null,
   "id": "53d94b4d-c957-4bb6-a68f-3383fbf481d7",
   "metadata": {},
   "outputs": [],
   "source": [
    "# Primeira lista das colunas que serão removidas do dataframe \n",
    "dataframe = dataframe.drop('Bed','BedHeight','BedLength','Cabin','CombineFuelEconomy','engine_displacement','FranchiseDealer','highway_fuel_economy','horsepower')\n",
    "\n",
    "# COLUNA ALVO: price\n",
    "\n",
    "# Bed = Categoria do tamanho da caçamba, NULL significa que o veicula nao é uma camionete (esta coluna foi removida por que 99.34 sao outros tipos de veiculos).\n",
    "# BedHeight = Altura da caçamba em polegadas (ja que 99.34 dos veiculos nao sao camionetes esta coluna perde seu valor alem de ter 85.70 de dados nulos).\n",
    "# BedLength = largura da caçamba em polegadas (ja que 99.34 dos veiculos nao sao camionetes esta coluna perde seu valor alem de ter 85.70 de dados nulos).\n",
    "# Cabin = Tamanho da cabine (área de carga aberta) em caminhonete (ja que 99.34 dos veiculos nao sao camionetes esta coluna perde seu valor alem de ter 97.88% de dados nulos).\n",
    "# CombineFuelEconomy = economia de combustível na cidade e na rodovia, em km por litro (coluna 100% nula entao eu so removo a coluna)\n",
    "# engine_displacement = é a medida do volume do cilindro de um motor a pistão (irei remover esta coluna por conta de ter 43.5% de dados Nulos e por conta de outras colunas poderem representala com uma quantidade menor de valores nulos).\n",
    "# highway_fuel_economy = Economia de combustível no trânsito rodoviário em km por litro (possui 49.48% de dados nulos e esta coluna esta sugeita a muita variaveis tornando-se um dado prejudicial ao meu modelo).\n",
    "# horsepower = Potencia do motor (possui 42.88 de dados nulos e pode ser representada por outras colunas com menos dados nulos, por conta disto irei removela).\n",
    "# FranchiseDealer (boolean) = Indica se o revendedor é um franqueado (esta coluna apresenta 38.70% de valores nulos, irei remover pois a franqueado do vendedor nao esta relacionado ao preço do carro).\n",
    "\n",
    "\n",
    "# EM VALORES BOOLEAN OS VALORES NULOS PODEM REPRESENTAR VERDADEIRO OU FALSO, DE CASO PARA CASO, ENTAO IREI CONVERTER TODOS EM VALORES NUMERICOS E TESTAR O MEU MODELO.\n",
    "# fleet (boolean) = indica se o carro ja esteve em uma frota (esta coluna possui 65.95% de dados nulos, os dados nulos podem indicar tambem que carro nunca fez parte de uma frota).\n",
    "# FrameDamaged (boolean) = Indica se o chassi do veículo está danificado (esta coluna possui 65.53% de dados nulos, os valores nulos podem indicar que o carro nunca foi danificado).\n",
    "# has_accidents (boolean) = indica se o meu carro ja sofreu algum acidente (possui 64.73%% de valores nulos, valores nulos podem indicar que o carro nunca sofreu um acidente)."
   ]
  },
  {
   "cell_type": "code",
   "execution_count": null,
   "id": "75774e3c-d5e1-41ec-beed-fe2f78e48a1c",
   "metadata": {},
   "outputs": [],
   "source": [
    "# Printando a segunda lista de colunas com dados nulos maior que 30% para julgar se elas serao retiradas ou tratadas por meio de tecnicas de processamento.\n",
    "colunasComNull2 = [\n",
    "    'isCab','is_certified','is_cpo','is_new','is_oemcpo','latitude','listing_id','longitude','mileage','owner_count','salvage','savings_amount','seller_rating','sp_id',\n",
    "    'theft_title'\n",
    "]\n",
    "dataframe.select(*colunasComNull2).show()"
   ]
  },
  {
   "cell_type": "code",
   "execution_count": null,
   "id": "3388b3ab-c841-467e-87dc-1bf08d16cb10",
   "metadata": {},
   "outputs": [],
   "source": [
    "# Segunda lista das colunas que serão removidas do dataframe \n",
    "dataframe = dataframe.drop('is_certified','is_cpo','is_oemcpo','latitude','listing_id','longitude', 'owner_count', 'savings_amount','sp_id','theft_title')\n",
    "\n",
    "# is_certified (boolean) = Se o veículo é certificado. Carros certificados são cobertos durante o período de garantia (irei remover esta coluna por conta de ela ter 98.84% de dados nulos).\n",
    "# is_cpo (boolean) = Carros usados ​​certificados pela concessionária (irei remover esta coluna por conta de ela ter 95.68% e dados nulos).\n",
    "# is_oemcpo (boolean) = Carros usados ​​certificados pelo fabricante (irei remover esta coluna por conta de ela ter 95.96% e dados nulos).\n",
    "# latitude = Latitude a partir da geolocalização da concessionária. (possui 39.02% de dados nulos, irei remover pois geolocalização nao esta relacionado ao preço do carro).\n",
    "# listing_id = ID de listagem do site (possui 39.67% de dados nulos, id nao se relaiona com o preço do carro).\n",
    "# longitude = Longitude a partir da geolocalização da concessionária (possui 37.99% de dados nulos, irei remover pois geolocalização nao esta relacionado ao preço do carro).\n",
    "# owner_count = Número de proprietários (irei remover esta coluna por conta de ela ter 99.69% e dados nulos).\n",
    "# savings_amount = Quantia de economia (39.48% de dados nulos, por isto irei removela).\n",
    "# seller_rating = Avaliação do vendedor (37.65% de dados nulos, irei remover pois a avaliacao nao esta relacionada com o preço do veiculo).\n",
    "# sp_id = ID do vendedor/revendedor (43.70% de dados nulos, id nao se relaiona com o preço do carro).\n",
    "# theft_title (boolean) = #Indica se o título do veículo é de roubo (irei remover esta coluna por conta de ela ter 65.17% e dados nulos).\n",
    "\n",
    "# mileage = Quilometragem (39.56% de dados nulos, esta coluna e importante entao nao irei removela)\n",
    "\n",
    "# EM VALORES BOOLEAN OS VALORES NULOS PODEM REPRESENTAR VERDADEIRO OU FALSO, DE CASO PARA CASO, ENTAO IREI CONVERTER TODOS EM VALORES NUMERICOS E TESTAR O MEU MODELO.\n",
    "# isCab (boolean) = Indica se o veicula anteriormente era um taxi (65.03% de dados nulos).\n",
    "# is_new (boolean) = significa que o veículo foi lançado há menos de 2 anos (38.36% de dados nulos).\n",
    "# salvage (boolean)= carro recuperado (65.52% de dados nulos)."
   ]
  },
  {
   "cell_type": "code",
   "execution_count": null,
   "id": "7dbb2df2-4839-4f9c-9a71-3955fbf1348f",
   "metadata": {},
   "outputs": [],
   "source": [
    "# Printando a terceira lista de colunas com dados nulos maior que 30% para julgar se elas serao retiradas ou tratadas por meio de tecnicas de processamento.\n",
    "colunasComNull3 = [\n",
    "    'vehicle_damage_category','main_picture_url'\n",
    "]\n",
    "\n",
    "dataframe.select(*colunasComNull3).show()"
   ]
  },
  {
   "cell_type": "code",
   "execution_count": null,
   "id": "58a53fed-824a-4eaa-95cf-8c7b8c3b8574",
   "metadata": {},
   "outputs": [],
   "source": [
    "# Terceira lista das colunas que serão removidas do dataframe \n",
    "dataframe = dataframe.drop('vehicle_damage_category','main_picture_url')\n",
    "\n",
    "# vehicle_damage_category = Categoria de danos do veículo (61.39% de dados nulos, irei remover pois categoria de danos nao esta relacionado ao preço do carro)\n",
    "# main_picture_url = 61.39% de dados nulos irei remover pois url nao esta relacionado ao preço do carro."
   ]
  },
  {
   "cell_type": "code",
   "execution_count": null,
   "id": "aa7a2e8a-fd81-43d0-bed2-4b95ed05147f",
   "metadata": {},
   "outputs": [],
   "source": [
    "# Obtem os tipos de colunas\n",
    "column_types = dataframe.dtypes\n",
    "\n",
    "# Conta a quantidade de cada tipo de dado\n",
    "type_counts = {}\n",
    "\n",
    "for column, dtype in column_types:\n",
    "    if dtype not in type_counts:\n",
    "        type_counts[dtype] = 0\n",
    "    type_counts[dtype] += 1\n",
    "\n",
    "# Printa a quantidade de cada tipo de dado\n",
    "for dtype, count in type_counts.items():\n",
    "    print(f\"Tipo: {dtype}, Quantidade: {count}\")"
   ]
  },
  {
   "cell_type": "markdown",
   "id": "ed66376f-183e-47bd-a555-60481040dc18",
   "metadata": {},
   "source": [
    "## Removendo colunas que não agregao valor à variável alvo price (preço). ##"
   ]
  },
  {
   "cell_type": "code",
   "execution_count": null,
   "id": "625d62e2-f7d8-43db-9cb6-0300f0cfd4ae",
   "metadata": {},
   "outputs": [],
   "source": [
    "# Consulta de colunas que nao agregam valor á classe alvo price\n",
    "colunaInuteis = ['trimId','Vin','DealerZip','Description','sp_name','City','DaysOnMarket','trim_name','seller_rating','CityFuelEconomy']\n",
    "dataframe.select(*colunaInuteis).show()"
   ]
  },
  {
   "cell_type": "code",
   "execution_count": null,
   "id": "c7d6b36f-6900-40e3-b315-466fcce0a952",
   "metadata": {},
   "outputs": [],
   "source": [
    "dataframe = dataframe.drop(*colunaInuteis)\n",
    "\n",
    "# COLUNAS QUE NAO AGREGAO VALOR Á COLUNA ALVO \"price\" \n",
    "# trimId = Identificador do acabamento\n",
    "# Vin = Número de Identificação do Veículo é uma string codificada exclusiva para cada veículo\n",
    "# DealerZip = CEP do revendedor\n",
    "# Description = Descrição do veículo na página de listagem do veículo\n",
    "# sp_name = Nome do vendedor/revendedor \n",
    "# City = cidade onde o carro está listado\n",
    "# DaysOnMarket = Dias desde que o veículo foi anunciado pela primeira vez no site \n",
    "# trim_name = Tipo de acabamento (esta coluna possui muitas variaveis pois, cada veículo geralmente possui seu próprio tipo de acabamento variando de acordo com configuração do veiculo)\n",
    "# seller_rating = Avaliação do vendedor (nao interfere com a classe alvo)\n",
    "# CityFuelEconomy = A economia de combustível combinada é uma média ponderada da economia de combustível na cidade e na rodovia (possui muitas variaveis)"
   ]
  },
  {
   "cell_type": "code",
   "execution_count": null,
   "id": "6bf906db-52f4-42e2-8ad6-55cf84708bc5",
   "metadata": {},
   "outputs": [],
   "source": [
    "# Obtem os tipos de colunas\n",
    "column_types = dataframe.dtypes\n",
    "\n",
    "# Conta a quantidade de cada tipo de dado\n",
    "type_counts = {}\n",
    "\n",
    "for column, dtype in column_types:\n",
    "    if dtype not in type_counts:\n",
    "        type_counts[dtype] = 0\n",
    "    type_counts[dtype] += 1\n",
    "\n",
    "# Printa a quantidade de cada tipo de dado\n",
    "for dtype, count in type_counts.items():\n",
    "    print(f\"Tipo: {dtype}, Quantidade: {count}\")"
   ]
  },
  {
   "cell_type": "markdown",
   "id": "40fdefed-479b-45d3-80e8-b1327aa61d0b",
   "metadata": {},
   "source": [
    "## (6/6) Bolleans filtrando ##"
   ]
  },
  {
   "cell_type": "code",
   "execution_count": null,
   "id": "28cced25-85ba-449c-8466-8b1ed67d955c",
   "metadata": {},
   "outputs": [],
   "source": [
    "# filtrando as colunas booleans\n",
    "boolean_columns = [field.name for field in dataframe.schema.fields if isinstance(field.dataType, BooleanType)]\n",
    "\n",
    "# printando o nome das colunas booleans\n",
    "print(boolean_columns)\n"
   ]
  },
  {
   "cell_type": "code",
   "execution_count": null,
   "id": "d519a06a-1170-4c02-b432-de7dd88d5298",
   "metadata": {},
   "outputs": [],
   "source": [
    "# Lista de colunas booleanas que você irá tratar\n",
    "boolean_columns = ['Fleet', 'FrameDamaged', 'has_accidents', 'isCab', 'is_new', 'salvage']\n",
    "\n",
    "# Filtrando e contando a quantidade de valores únicos, excluindo nulls\n",
    "for col_name in boolean_columns:\n",
    "    print(f\"Contagem de valores únicos (excluindo null) na coluna '{col_name}':\")\n",
    "    \n",
    "    # Verifica e faz groupBy para contar todos os valores únicos, excluindo null\n",
    "    dataframe.where(col(col_name).isNotNull()).groupBy(col(col_name)).count().orderBy('count', ascending=False).show()\n"
   ]
  },
  {
   "cell_type": "code",
   "execution_count": null,
   "id": "e621d967-0285-4207-a0a1-aebddb450bc9",
   "metadata": {},
   "outputs": [],
   "source": [
    "# Obtem os tipos de colunas\n",
    "column_types = dataframe.dtypes\n",
    "\n",
    "# Conta a quantidade de cada tipo de dado\n",
    "type_counts = {}\n",
    "\n",
    "for column, dtype in column_types:\n",
    "    if dtype not in type_counts:\n",
    "        type_counts[dtype] = 0\n",
    "    type_counts[dtype] += 1\n",
    "\n",
    "# Printa a quantidade de cada tipo de dado\n",
    "for dtype, count in type_counts.items():\n",
    "    print(f\"Tipo: {dtype}, Quantidade: {count}\")"
   ]
  },
  {
   "cell_type": "markdown",
   "id": "3ceef025-89f7-4660-a850-3f31a1460914",
   "metadata": {},
   "source": [
    "## (1/1) Int filtrando e normalizando ##"
   ]
  },
  {
   "cell_type": "code",
   "execution_count": null,
   "id": "8e9e6af6-fcd1-4971-9a70-5e1a72d1b160",
   "metadata": {},
   "outputs": [],
   "source": [
    "# filtrando as colunas int\n",
    "int_columns = [field.name for field in dataframe.schema.fields if isinstance(field.dataType, IntegerType)]\n",
    "\n",
    "# printando o nome das colunas int\n",
    "print(int_columns)"
   ]
  },
  {
   "cell_type": "code",
   "execution_count": null,
   "id": "93fb2433-0b8b-4b2f-ab7a-ef16d4f01d1c",
   "metadata": {},
   "outputs": [],
   "source": [
    "# Do um groupby para ver a quantidade de valores por linha\n",
    "colunas = [\"year\"]\n",
    "\n",
    "for coluna in colunas:\n",
    "    print(f\"\\nValores da coluna: {coluna}\")\n",
    "    dataframe.groupBy(coluna).count().orderBy(\"count\", ascending=False).show(truncate=False)"
   ]
  },
  {
   "cell_type": "code",
   "execution_count": null,
   "id": "24fcc2ac-f51e-47de-8b9f-63f06b769017",
   "metadata": {},
   "outputs": [],
   "source": [
    "colunaYear = 'year'\n",
    "\n",
    "# Validar se é um ano no formato correto (quatro dígitos entre 1900 e 2100), senão coloca NULL\n",
    "dataframe = dataframe.withColumn(\n",
    "    colunaYear,\n",
    "    when(\n",
    "        col(colunaYear).rlike(r'^\\d{4}$') & (col(colunaYear).cast('int') >= 1900) & (col(colunaYear).cast('int') <= 2025),\n",
    "        col(colunaYear).cast('int')\n",
    "    ).otherwise(None)\n",
    ")\n",
    "\n",
    "# Ver resultado\n",
    "# Do um groupby para ver a quantidade de valores por linha\n",
    "colunas = [\"year\"]\n",
    "\n",
    "for coluna in colunas:\n",
    "    print(f\"\\nValores da coluna: {coluna}\")\n",
    "    dataframe.groupBy(coluna).count().orderBy(\"count\", ascending=False).show(truncate=False)\n"
   ]
  },
  {
   "cell_type": "markdown",
   "id": "ce335ba9-05bf-40a6-a1b3-6b1b49a1007d",
   "metadata": {},
   "source": [
    "## (3/3) Float filtrando e normalizando ##"
   ]
  },
  {
   "cell_type": "code",
   "execution_count": null,
   "id": "254a736a-a092-426c-b9fa-e3cf8184ef81",
   "metadata": {},
   "outputs": [],
   "source": [
    "# filtrando as colunas strings\n",
    "float_columns = [field.name for field in dataframe.schema.fields if isinstance(field.dataType, FloatType)]\n",
    "\n",
    "# printando o nome das colunas string\n",
    "print(float_columns)\n",
    "\n",
    "# StructField(\"EngineDisplacement\", FloatType(), True), #Tipo Float. engine_displacement é a medida do volume do cilindro varrido por todos os pistões de um motor a pistão, excluindo as câmaras de combustão (ex: \"1300.0\").\n",
    "# StructField(\"mileage\", FloatType(), True), #Quilometragem (ex: 7.0)"
   ]
  },
  {
   "cell_type": "code",
   "execution_count": null,
   "id": "b63406ae-21b6-4482-b69e-4e2728ce52c4",
   "metadata": {},
   "outputs": [],
   "source": [
    "# Do um groupby para ver a quantidade de valores por linha\n",
    "colunas = [\"EngineDisplacement\", \"mileage\", \"price\"]\n",
    "\n",
    "for coluna in colunas:\n",
    "    print(f\"\\nValores da coluna: {coluna}\")\n",
    "    dataframe.groupBy(coluna).count().orderBy(\"count\", ascending=False).show(truncate=False)"
   ]
  },
  {
   "cell_type": "markdown",
   "id": "c1132334-158b-4118-b179-808743f4fb36",
   "metadata": {},
   "source": [
    "## (26/26) String filtrando e normalizando ##"
   ]
  },
  {
   "cell_type": "code",
   "execution_count": null,
   "id": "62711b47-61b3-4c8f-9f6b-4df4bf0f1659",
   "metadata": {},
   "outputs": [],
   "source": [
    "# filtrando as colunas strings\n",
    "string_columns = [field.name for field in dataframe.schema.fields if isinstance(field.dataType, StringType)]\n",
    "\n",
    "# printando o nome das colunas string\n",
    "print(string_columns)"
   ]
  },
  {
   "cell_type": "markdown",
   "id": "9cb7b313-6fb8-4b2e-aaae-615c600d6b7a",
   "metadata": {},
   "source": [
    "### (26/6) Strings com \"in\" filtrando e trocando o tipo ###"
   ]
  },
  {
   "cell_type": "code",
   "execution_count": null,
   "id": "9e4975bf-bc76-4c99-84cc-a39b6d5b250b",
   "metadata": {},
   "outputs": [],
   "source": [
    "# Estou printando as colunas string com in para convertelas de string para float\n",
    "colunasComIn = ['BackLegroom','FrontLegroom','height','length','wheelbase','width']\n",
    "dataframe.select(*colunasComIn).show()"
   ]
  },
  {
   "cell_type": "code",
   "execution_count": null,
   "id": "02d62d22-7e90-4b86-bf53-7373984c93c2",
   "metadata": {},
   "outputs": [],
   "source": [
    "#colunasComIn = ['BackLegroom', 'FrontLegroom', 'height', 'length', 'wheelbase', 'width']\n",
    "\n",
    "# Substituir valores que NÃO contêm 'in' por NULL e remover 'in'\n",
    "for coluna in colunasComIn:\n",
    "    dataframe = dataframe.withColumn(\n",
    "        coluna,\n",
    "        when(col(coluna).contains('in'), \n",
    "             regexp_replace(col(coluna), ' in', ''))\n",
    "        .otherwise(None)\n",
    "    )\n",
    "\n",
    "# Converter os valores restantes para float\n",
    "for coluna in colunasComIn:\n",
    "    dataframe = dataframe.withColumn(\n",
    "        coluna,\n",
    "        col(coluna).cast('float')\n",
    "    )\n",
    "\n",
    "# verificando os dados convertidos nas colunas\n",
    "dataframe.select(colunasComIn).show()"
   ]
  },
  {
   "cell_type": "code",
   "execution_count": null,
   "id": "18757b2d-5b46-4fd0-a4e8-9461ab657182",
   "metadata": {},
   "outputs": [],
   "source": [
    "# Do um groupby para ver a quantidade de valores por linha\n",
    "colunas = [\"BackLegroom\", \"FrontLegroom\", \"height\", \"length\", \"wheelbase\", \"width\"]\n",
    "\n",
    "for coluna in colunas:\n",
    "    print(f\"\\nValores da coluna: {coluna}\")\n",
    "    dataframe.groupBy(coluna).count().orderBy(\"count\", ascending=False).show(truncate=False)"
   ]
  },
  {
   "cell_type": "code",
   "execution_count": null,
   "id": "aa4ddc00-dfb7-4382-8e02-f79134f54cfc",
   "metadata": {},
   "outputs": [],
   "source": [
    "# Obtem os tipos de colunas\n",
    "column_types = dataframe.dtypes\n",
    "\n",
    "# Conta a quantidade de cada tipo de dado\n",
    "type_counts = {}\n",
    "\n",
    "for column, dtype in column_types:\n",
    "    if dtype not in type_counts:\n",
    "        type_counts[dtype] = 0\n",
    "    type_counts[dtype] += 1\n",
    "\n",
    "# Printa a quantidade de cada tipo de dado\n",
    "for dtype, count in type_counts.items():\n",
    "    print(f\"Tipo: {dtype}, Quantidade: {count}\")"
   ]
  },
  {
   "cell_type": "markdown",
   "id": "2c4f650b-caec-486a-ac2d-9df3ce196cc8",
   "metadata": {},
   "source": [
    "### (26/11) Strings com filtro semelhante ###"
   ]
  },
  {
   "cell_type": "code",
   "execution_count": null,
   "id": "3c520d36-9896-4609-9b8f-55f2aed34beb",
   "metadata": {},
   "outputs": [],
   "source": [
    "# lista de strings que utilizao tecnicas semelhantes de filtro\n",
    "colunasOutros = ['fuel_tank_volume','maximum_seating','power','torque','listed_date']\n",
    "dataframe.select(*colunasOutros).show()"
   ]
  },
  {
   "cell_type": "markdown",
   "id": "1dd0ec42-6bf4-4975-bc78-3c8ba59eee37",
   "metadata": {},
   "source": [
    "#### 1.fuel_tank_volume (capacidade de enchimento do tanque de combustível em galões) ####"
   ]
  },
  {
   "cell_type": "code",
   "execution_count": null,
   "id": "a34e7475-37be-4fdf-b214-7a550884688f",
   "metadata": {},
   "outputs": [],
   "source": [
    "colunasComGal = ['fuel_tank_volume']\n",
    "\n",
    "# Substituir valores que NÃO contêm 'gal' por NULL e remove 'gal'\n",
    "for coluna in colunasComGal:\n",
    "    dataframe = dataframe.withColumn(\n",
    "        coluna,\n",
    "        when(col(coluna).contains('gal'), \n",
    "             regexp_replace(col(coluna), ' gal', ''))\n",
    "        .otherwise(None)\n",
    "    )\n",
    "\n",
    "# Converter os valores restantes para int\n",
    "for coluna in colunasComGal:\n",
    "    dataframe = dataframe.withColumn(\n",
    "        coluna,\n",
    "        col(coluna).cast('float')\n",
    "    )\n",
    "\n",
    "# Printar os dados da coluna apos o filtro\n",
    "dataframe.groupBy(colunasComGal).count().orderBy(\"count\", ascending=False).show(truncate=False) "
   ]
  },
  {
   "cell_type": "markdown",
   "id": "90a10e09-9c7f-457a-bcef-2a80adec8469",
   "metadata": {},
   "source": [
    "#### 2.maximum_seating (assentos máximos) ####"
   ]
  },
  {
   "cell_type": "code",
   "execution_count": null,
   "id": "91bfdad5-0f1d-4caf-a3e3-a1e8eb8ae754",
   "metadata": {},
   "outputs": [],
   "source": [
    "colunasComSeats = ['maximum_seating']\n",
    "\n",
    "# Substituir valores que NÃO contêm 'seats' por NULL e remover 'seats'\n",
    "for coluna in colunasComSeats:\n",
    "    dataframe = dataframe.withColumn(\n",
    "        coluna,\n",
    "        when(col(coluna).contains('seats'), \n",
    "             regexp_replace(col(coluna), ' seats', ''))\n",
    "        .otherwise(None)\n",
    "    )\n",
    "\n",
    "# Converter os valores restantes para int\n",
    "for coluna in colunasComSeats:\n",
    "    dataframe = dataframe.withColumn(\n",
    "        coluna,\n",
    "        col(coluna).cast('int')\n",
    "    )\n",
    "    \n",
    "# Agrupa e conta primeiro\n",
    "grouped_df = dataframe.groupBy(\"maximum_seating\").count()\n",
    "\n",
    "# EStou listando as primeiras 100 linhas do groupby,\n",
    "grouped_df.orderBy(col(\"count\").desc()).show(20, truncate=False)"
   ]
  },
  {
   "cell_type": "markdown",
   "id": "952a69fa-a5ed-43ed-b701-ba7f59cd90ba",
   "metadata": {},
   "source": [
    "#### 3.power (potência do veículo) ####"
   ]
  },
  {
   "cell_type": "code",
   "execution_count": null,
   "id": "7602d8fa-c0f4-4046-987c-85f034eb7f27",
   "metadata": {},
   "outputs": [],
   "source": [
    "colunasComHp = ['power']\n",
    "\n",
    "# Substituir valores que NÃO contêm 'hp' por NULL e extrair apenas o primeiro número\n",
    "for coluna in colunasComHp:\n",
    "    dataframe = dataframe.withColumn(\n",
    "        coluna,\n",
    "        when(\n",
    "            col(coluna).contains('hp'),\n",
    "            regexp_extract(col(coluna), r'^(\\d+)', 1)\n",
    "        ).otherwise(None)\n",
    "    )\n",
    "\n",
    "# Converter para float\n",
    "for coluna in colunasComHp:\n",
    "    dataframe = dataframe.withColumn(\n",
    "        coluna,\n",
    "        col(coluna).cast('int')\n",
    "    )\n",
    "\n",
    "# Printar os dados da coluna apos o filtro\n",
    "dataframe.select(colunasComHp).show()"
   ]
  },
  {
   "cell_type": "markdown",
   "id": "5152f033-6f63-4e00-9676-c2f0aff29a82",
   "metadata": {},
   "source": [
    "#### 4.torque (Torque do motor) ####"
   ]
  },
  {
   "cell_type": "code",
   "execution_count": null,
   "id": "09791209-f100-4f8b-a507-41cb8462a5c0",
   "metadata": {},
   "outputs": [],
   "source": [
    "colunasComTorque = ['torque']\n",
    "\n",
    "# Substituir valores que NÃO contêm 'lb-ft' por NULL e extrair apenas o primeiro número\n",
    "for coluna in colunasComTorque:\n",
    "    dataframe = dataframe.withColumn(\n",
    "        coluna,\n",
    "        when(\n",
    "            col(coluna).contains('lb-ft'),\n",
    "            regexp_extract(col(coluna), r'^(\\d+)', 1)\n",
    "        ).otherwise(None)\n",
    "    )\n",
    "\n",
    "# Converter para float\n",
    "for coluna in colunasComTorque:\n",
    "    dataframe = dataframe.withColumn(\n",
    "        coluna,\n",
    "        col(coluna).cast('int')\n",
    "    )\n",
    "\n",
    "# Printar os dados da coluna apos o filtro\n",
    "dataframe.select(colunasComTorque).show()"
   ]
  },
  {
   "cell_type": "markdown",
   "id": "3ab78378-fac2-4d4e-8b68-91a4aee73081",
   "metadata": {},
   "source": [
    "#### 5.listed_date (data em que o veículo foi anunciado no site) ####"
   ]
  },
  {
   "cell_type": "code",
   "execution_count": null,
   "id": "19ba8402-91fb-4fb5-80f5-7e5e41fda10c",
   "metadata": {},
   "outputs": [],
   "source": [
    "colunaData = 'listed_date'\n",
    "\n",
    "# Validar se a data está no formato 'YYYY-MM-DD', senao passa como NULL\n",
    "dataframe = dataframe.withColumn(\n",
    "    colunaData,\n",
    "    when(\n",
    "        col(colunaData).rlike(r'^\\d{4}-\\d{2}-\\d{2}$'),\n",
    "        to_date(col(colunaData), 'yyyy-MM-dd')\n",
    "    ).otherwise(None)\n",
    ")\n",
    "\n",
    "# Printar os dados da coluna apos o filtro\n",
    "dataframe.select(colunaData).show()"
   ]
  },
  {
   "cell_type": "code",
   "execution_count": null,
   "id": "2fa48af5-4787-488c-bb4c-f2dbe9126649",
   "metadata": {},
   "outputs": [],
   "source": [
    "# Lista de todas as colunas que eu filtrei\n",
    "colunasOutros = ['fuel_tank_volume','maximum_seating','power','torque','listed_date']\n",
    "\n",
    "# Dando um groupby e printando todas as colunas da minhas lista\n",
    "for coluna in colunasOutros:\n",
    "    print(f\"\\nValores da coluna: {coluna}\")\n",
    "    dataframe.groupBy(coluna).count().orderBy(\"count\", ascending=False).show(truncate=False)"
   ]
  },
  {
   "cell_type": "code",
   "execution_count": null,
   "id": "7df47563-b4fa-4a79-a48f-89a3fbb22fd6",
   "metadata": {},
   "outputs": [],
   "source": [
    "# Obtem os tipos de colunas\n",
    "column_types = dataframe.dtypes\n",
    "\n",
    "# Conta a quantidade de cada tipo de dado\n",
    "type_counts = {}\n",
    "\n",
    "for column, dtype in column_types:\n",
    "    if dtype not in type_counts:\n",
    "        type_counts[dtype] = 0\n",
    "    type_counts[dtype] += 1\n",
    "\n",
    "# Printa a quantidade de cada tipo de dado\n",
    "for dtype, count in type_counts.items():\n",
    "    print(f\"Tipo: {dtype}, Quantidade: {count}\")"
   ]
  },
  {
   "cell_type": "markdown",
   "id": "cfbef9f3-7d6c-4eec-894c-2605fc3045a6",
   "metadata": {},
   "source": [
    "### (26/26) String corrigindo tipos de dados, valores fora do padrão e eliminando duplicatas ###"
   ]
  },
  {
   "cell_type": "markdown",
   "id": "8c609261-29ba-41ce-9f67-8566863fbacf",
   "metadata": {},
   "source": [
    "#### 1.BodyType (tipo de carroceria). ####"
   ]
  },
  {
   "cell_type": "code",
   "execution_count": null,
   "id": "0345d656-f601-4c00-911f-4f54bd6ce9eb",
   "metadata": {},
   "outputs": [],
   "source": [
    "# Fazendo o groupby na minha coluna bodytype e printando a tabela para visualizar os tipos de carroceria que tem na coluna\n",
    "dataframe.groupBy(\"BodyType\").count().orderBy(\"count\", ascending=False).show(truncate=False)"
   ]
  },
  {
   "cell_type": "code",
   "execution_count": null,
   "id": "9ae1ab00-4ec8-4784-a737-51ca180f9cfd",
   "metadata": {},
   "outputs": [],
   "source": [
    "# Lista de tipos de carroceria validos para a minha coluna\n",
    "tipos_validos = [\n",
    "    \"SUV / Crossover\", \"Sedan\", \"Pickup Truck\", \"Hatchback\",\n",
    "    \"Minivan\", \"Coupe\", \"Van\", \"Wagon\", \"Convertible\"\n",
    "]\n",
    "\n",
    "# Eu filtro os tipos de carroceria e oque for diferente doque esta dentro da minha variavel tipos_validos é passado como NULL\n",
    "dataframe = dataframe.withColumn(\n",
    "    \"BodyType\",\n",
    "    when(col(\"BodyType\").isin(tipos_validos), col(\"BodyType\")).otherwise(None)\n",
    ")\n",
    "\n",
    "# Conto as linhas repetidas e exebo em uma tabela\n",
    "dataframe.groupBy(\"BodyType\").count().orderBy(\"count\", ascending=False).show(truncate=False)"
   ]
  },
  {
   "cell_type": "markdown",
   "id": "4da23f25-0941-4637-ac65-ef222666a514",
   "metadata": {},
   "source": [
    "#### 2.EngineCylinders (cilindros do motor). ####"
   ]
  },
  {
   "cell_type": "code",
   "execution_count": null,
   "id": "dd80c715-35b9-4e1b-9116-cc723c422f80",
   "metadata": {},
   "outputs": [],
   "source": [
    "# Fazendo o groupby na minha coluna EngineCylinders e printando a tabela para visualizar os tipos de cilindros do motor que tem na coluna\n",
    "dataframe.groupBy(\"EngineCylinders\").count().orderBy(\"count\", ascending=False).show(truncate=False)"
   ]
  },
  {
   "cell_type": "code",
   "execution_count": null,
   "id": "efe9c631-4e45-42a1-9f06-52d1851713b8",
   "metadata": {},
   "outputs": [],
   "source": [
    "regex_cilindro = r\"^(I[0-9]+|V[0-9]+|H[0-9]+)( .+)?$\"\n",
    "\n",
    "# Aplica o filtro com regex: mantém apenas os que correspondem ao padrão, o resto vira NULL\n",
    "dataframe = dataframe.withColumn(\n",
    "    \"EngineCylinders\",\n",
    "    when(col(\"EngineCylinders\").rlike(regex_cilindro), col(\"EngineCylinders\")).otherwise(None)\n",
    ")\n",
    "\n",
    "# Agrupa e conta os registros por cilindrada (válidos)\n",
    "dataframe.groupBy(\"EngineCylinders\").count().orderBy(\"count\", ascending=False).show(truncate=False)"
   ]
  },
  {
   "cell_type": "markdown",
   "id": "cca15e13-b021-45d8-8c9f-0cdfa200448c",
   "metadata": {},
   "source": [
    "#### 3.EngineType (tipo de motor). ####"
   ]
  },
  {
   "cell_type": "code",
   "execution_count": null,
   "id": "99a6b501-0ed4-4f3c-b35f-6e55504ae581",
   "metadata": {},
   "outputs": [],
   "source": [
    "# Fazendo o groupby na minha coluna EngineType e printando a tabela para visualizar os tipos de motor do motor que tem na coluna\n",
    "dataframe.groupBy(\"EngineType\").count().orderBy(\"count\", ascending=False).show(truncate=False)"
   ]
  },
  {
   "cell_type": "code",
   "execution_count": null,
   "id": "1c80dbc0-7e3d-46ff-9622-f1f5747bab9a",
   "metadata": {},
   "outputs": [],
   "source": [
    "regex_engineType = r\"^(I[0-9]+|V[0-9]+|H[0-9]+)( .+)?$\"\n",
    "\n",
    "# Aplica o filtro com regex: mantém apenas os que correspondem ao padrão, o resto vira NULL\n",
    "dataframe = dataframe.withColumn(\n",
    "    \"EngineType\",\n",
    "    when(col(\"EngineType\").rlike(regex_engineType), col(\"EngineType\")).otherwise(None)\n",
    ")\n",
    "\n",
    "# Agrupa e conta os registros por cilindrada (válidos)\n",
    "dataframe.groupBy(\"EngineType\").count().orderBy(\"count\", ascending=False).show(truncate=False)"
   ]
  },
  {
   "cell_type": "markdown",
   "id": "c2cf36c7-0958-4c42-8287-b3c1b242c80f",
   "metadata": {},
   "source": [
    "#### 4.ExteriorColor (cor externa do veículo). ####"
   ]
  },
  {
   "cell_type": "code",
   "execution_count": null,
   "id": "9719a3db-1f95-477b-858e-f7af4388742d",
   "metadata": {},
   "outputs": [],
   "source": [
    "# Agrupa e conta primeiro\n",
    "grouped_df = dataframe.groupBy(\"ExteriorColor\").count()\n",
    "\n",
    "# Danto groupby para ver os tipos de cores que temos na coluna ExteriorColor\n",
    "grouped_df.orderBy(col(\"count\").desc()).show(20, truncate=False)\n",
    "# Esta coluna tem muitas linhas dps de aplicar o groupby isto e visivel apos observar o primeiro conjunto que e composto por 105646 linhas de um dataset com 3000507\n",
    "# O valor do conjunto so vai diminuindo desta forma criando varios conjuntos de dados"
   ]
  },
  {
   "cell_type": "code",
   "execution_count": null,
   "id": "51a40964-3a4b-4f65-ae26-77f220f16f68",
   "metadata": {},
   "outputs": [],
   "source": [
    "# Lista das cores base\n",
    "cores_validas = [\n",
    "    \"Black\", \"White\", \"Silver\", \"Gray\", \"Blue\", \"Red\", \"Green\", \"Brown\",\n",
    "    \"Gold\", \"Yellow\", \"Orange\", \"Purple\", \"Beige\", \"Maroon\"\n",
    "]\n",
    "\n",
    "# Expressão para filtrar grupos que sao variaçoes da lista cores_validas\n",
    "regex_cores = r\"(?i)\\b(\" + \"|\".join(cores_validas) + r\")\\b\"\n",
    "\n",
    "# Aplica o filtro mantendo só as linhas que possuem variações dessas cores\n",
    "dataframe = dataframe.withColumn(\n",
    "    \"ExteriorColor\",\n",
    "    when(col(\"ExteriorColor\").rlike(regex_cores), col(\"ExteriorColor\")).otherwise(None)\n",
    ")\n",
    "\n",
    "# Agrupa e conta os registros por cor\n",
    "dataframe.groupBy(\"ExteriorColor\").count().orderBy(col(\"count\").desc()).show(20, truncate=False)"
   ]
  },
  {
   "cell_type": "markdown",
   "id": "a26b6e31-7ce0-45b7-8511-82351e10c06b",
   "metadata": {},
   "source": [
    "#### 5.FranchiseMake (empresa proprietária da franquia). ####"
   ]
  },
  {
   "cell_type": "code",
   "execution_count": null,
   "id": "332079e1-b574-46a4-a093-f27f3d7ad847",
   "metadata": {},
   "outputs": [],
   "source": [
    "# Agrupa o mome das franquias para criar uma lista para o filtro\n",
    "grouped_df = dataframe.groupBy(\"FranchiseMake\").count()\n",
    "\n",
    "# Printando a tabela do groupyby\n",
    "grouped_df.orderBy(col(\"count\").desc()).show(20, truncate=False)"
   ]
  },
  {
   "cell_type": "code",
   "execution_count": null,
   "id": "7d86785c-f859-4ea7-b39c-734888209d23",
   "metadata": {},
   "outputs": [],
   "source": [
    "# Lista de marcas válidas para a coluna \"FranchiseMake\"\n",
    "marcas_validas = [\n",
    "    \"Ford\", \"Chevrolet\", \"Honda\", \"Toyota\", \"Jeep\", \"Nissan\", \"Hyundai\", \"Kia\",\n",
    "    \"Buick\", \"Subaru\", \"Volkswagen\", \"GMC\", \"BMW\", \"Mazda\", \"RAM\", \"Mercedes-Benz\",\n",
    "    \"Acura\", \"Dodge\", \"Audi\", \"Chrysler\", \"Lincoln\", \"Infiniti\", \"Volvo\", \"Cadillac\",\n",
    "    \"Porsche\", \"Mitsubishi\", \"Land Rover\", \"Lexus\", \"Jaguar\", \"MINI\", \"Fiat\",\n",
    "    \"Tesla\", \"Genesis\", \"Scion\", \"Maserati\"\n",
    "]\n",
    "\n",
    "# Filtra a coluna \"FranchiseMake\" e coloca NULL para os valores que não são válidos\n",
    "dataframe = dataframe.withColumn(\n",
    "    \"FranchiseMake\",\n",
    "    when(col(\"FranchiseMake\").isin(marcas_validas), col(\"FranchiseMake\")).otherwise(None)\n",
    ")\n",
    "\n",
    "# Contagem das linhas repetidas e exibição da tabela\n",
    "dataframe.groupBy(\"FranchiseMake\").count().orderBy(\"count\", ascending=False).show(truncate=False)"
   ]
  },
  {
   "cell_type": "markdown",
   "id": "fb632acc-cc1d-4d59-98e2-187d73b0f72f",
   "metadata": {},
   "source": [
    "#### 6.fuel_type (tipo de combustível). ####"
   ]
  },
  {
   "cell_type": "code",
   "execution_count": null,
   "id": "cadd007f-a0db-4de9-bd0d-e604bb109cd3",
   "metadata": {},
   "outputs": [],
   "source": [
    "# Agrupando os tipos de combustiveis com groupby\n",
    "grouped_df = dataframe.groupBy(\"fuel_type\").count()\n",
    "\n",
    "# Printando a uma tabela com os tipos de combustivel para criar uma lista de filtro\n",
    "grouped_df.orderBy(col(\"count\").desc()).show(20, truncate=False)"
   ]
  },
  {
   "cell_type": "code",
   "execution_count": null,
   "id": "fff9c2b6-81db-4d35-b47f-9684051b6f8f",
   "metadata": {},
   "outputs": [],
   "source": [
    "# Lista de filtro para os tipos de combustivel\n",
    "tipos_validos_combustivel = [\n",
    "    \"Gasoline\", \"Flex Fuel Vehicle\", \"Hybrid\", \"Diesel\", \"Biodiesel\", \"Electric\",\n",
    "]\n",
    "\n",
    "# Filtra a coluna \"fuel_type\" e coloca NULL para os valores que não são válidos\n",
    "dataframe = dataframe.withColumn(\n",
    "    \"fuel_type\",\n",
    "    when(col(\"fuel_type\").isin(tipos_validos_combustivel), col(\"fuel_type\")).otherwise(None)\n",
    ")\n",
    "\n",
    "# Da um groupby para visualizar a quantidade de linhas por combustivel\n",
    "dataframe.groupBy(\"fuel_type\").count().orderBy(\"count\", ascending=False).show(truncate=False)"
   ]
  },
  {
   "cell_type": "markdown",
   "id": "1545bf22-f322-47f9-8c71-3de794667cc2",
   "metadata": {},
   "source": [
    "#### 7.interior_color (cor do interior do veículo). ####"
   ]
  },
  {
   "cell_type": "code",
   "execution_count": null,
   "id": "376fbc30-9841-40eb-a4d4-2646b8279d13",
   "metadata": {},
   "outputs": [],
   "source": [
    "# Fazendo o groupby na minha coluna interior_color\n",
    "grouped_df = dataframe.groupBy(\"interior_color\").count()\n",
    "\n",
    "# Printando a tabela para visualizar os tipos de cores\n",
    "grouped_df.orderBy(col(\"count\").desc()).show(20, truncate=False)"
   ]
  },
  {
   "cell_type": "code",
   "execution_count": null,
   "id": "5124491f-5300-4b09-ace2-2ae07e712f6d",
   "metadata": {},
   "outputs": [],
   "source": [
    "# Lista do filtro das cores base\n",
    "cores_validas2 = [\n",
    "    \"Black\", \"White\", \"Silver\", \"Gray\", \"Blue\", \"Red\", \"Green\", \"Brown\",\n",
    "    \"Gold\", \"Yellow\", \"Orange\", \"Purple\", \"Beige\", \"Maroon\"\n",
    "]\n",
    "\n",
    "# Esta é uma expressão usada para filtrar grupos que sao variaçoes de cores\n",
    "regex_cores = r\"(?i)\\b(\" + \"|\".join(cores_validas2) + r\")\\b\"\n",
    "\n",
    "# Aplica o filtro mantendo só as linhas que possuem variações da lista cores_validas2\n",
    "dataframe = dataframe.withColumn(\n",
    "    \"interior_color\",\n",
    "    when(col(\"interior_color\").rlike(regex_cores), col(\"interior_color\")).otherwise(None)\n",
    ")\n",
    "\n",
    "# Agrupa e conta as linhas por cor\n",
    "dataframe.groupBy(\"interior_color\").count().orderBy(col(\"count\").desc()).show(100, truncate=False)"
   ]
  },
  {
   "cell_type": "markdown",
   "id": "bfa53515-afd6-46b0-b056-363ceed97e72",
   "metadata": {},
   "source": [
    "#### 8.listing_color (grupo de cores dominante). ####"
   ]
  },
  {
   "cell_type": "code",
   "execution_count": null,
   "id": "8f8aded4-7707-4aa0-9ef4-b565720973ab",
   "metadata": {},
   "outputs": [],
   "source": [
    "# Agrupa e conta primeiro\n",
    "grouped_df = dataframe.groupBy(\"listing_color\").count()\n",
    "\n",
    "# Printando os grupos do listing_color\n",
    "grouped_df.orderBy(col(\"count\").desc()).show(20, truncate=False)"
   ]
  },
  {
   "cell_type": "code",
   "execution_count": null,
   "id": "0ec44e9a-e95d-45a3-ba02-5a0d5edc3843",
   "metadata": {},
   "outputs": [],
   "source": [
    "# Lista das cores base\n",
    "cores_validas3 = [\n",
    "    \"Black\", \"White\", \"Silver\", \"Gray\", \"Blue\", \"Red\", \"Green\", \"Brown\",\n",
    "    \"Gold\", \"Yellow\", \"Orange\", \"Purple\", \"Beige\", \"Maroon\"\n",
    "]\n",
    "\n",
    "# Expressão regex case-insensitive\n",
    "regex_cores = r\"(?i)\\b(\" + \"|\".join(cores_validas3) + r\")\\b\"\n",
    "\n",
    "# Aplicar o filtro na coluna listing_color\n",
    "dataframe = dataframe.withColumn(\n",
    "    \"listing_color\",\n",
    "    when(col(\"listing_color\").rlike(regex_cores), col(\"listing_color\")).otherwise(None)\n",
    ")\n",
    "\n",
    "# Agrupar e contar as cores reconhecidas\n",
    "dataframe.groupBy(\"listing_color\").count().orderBy(col(\"count\").desc()).show(20, truncate=False)\n"
   ]
  },
  {
   "cell_type": "markdown",
   "id": "da0f4037-be5d-47a5-a2c4-a6657d04d76f",
   "metadata": {},
   "source": [
    "#### 9.make_name (nome da marca). ####"
   ]
  },
  {
   "cell_type": "code",
   "execution_count": null,
   "id": "329eab8d-9689-4ed9-9d02-ca9c22145a65",
   "metadata": {},
   "outputs": [],
   "source": [
    "# Agrupa e conta primeiro\n",
    "grouped_df = dataframe.groupBy(\"make_name\").count()\n",
    "\n",
    "# Estou listando as primeiras com groupby,\n",
    "grouped_df.orderBy(col(\"count\").desc()).show(20, truncate=False)"
   ]
  },
  {
   "cell_type": "code",
   "execution_count": null,
   "id": "ef188b2a-cf5b-430f-8994-e1642e6916e1",
   "metadata": {},
   "outputs": [],
   "source": [
    "# Lista de marcas para filtro\n",
    "tipos_validos_make = [\n",
    "    \"Ford\", \"Chevrolet\", \"Toyota\", \"Honda\", \"Nissan\", \"Hyundai\", \"Jeep\", \"Kia\", \n",
    "    \"GMC\", \"Volkswagen\", \"Subaru\", \"Dodge\", \"BMW\", \"Mercedes-Benz\", \"RAM\", \"Mazda\", \n",
    "    \"Buick\", \"Lexus\", \"Acura\", \"Audi\", \"Cadillac\", \"INFINITI\", \"Lincoln\", \"Chrysler\", \n",
    "    \"Volvo\", \"Mitsubishi\", \"Porsche\", \"Jaguar\", \"Land Rover\", \"MINI\", \"Genesis\", \n",
    "    \"Pontiac\", \"Scion\", \"FIAT\", \"Tesla\", \"Alfa Romeo\", \"Mercury\", \"Saturn\"\n",
    "]\n",
    "\n",
    "# Filtra a coluna \"make_name\" e coloca NULL para os valores que nao estao na lista tipos_validos_make\n",
    "dataframe = dataframe.withColumn(\n",
    "    \"make_name\",\n",
    "    when(col(\"make_name\").isin(tipos_validos_make), col(\"make_name\")).otherwise(None)\n",
    ")\n",
    "\n",
    "# Conta as linhas repetidas e printa a tabela\n",
    "dataframe.groupBy(\"make_name\").count().orderBy(\"count\", ascending=False).show(truncate=False)"
   ]
  },
  {
   "cell_type": "markdown",
   "id": "2a26004a-5be9-4a81-96fd-d2b8b5061720",
   "metadata": {},
   "source": [
    "#### 10.model_name (nome do modelo). PAREI AQUI ####"
   ]
  },
  {
   "cell_type": "code",
   "execution_count": null,
   "id": "dc954c09-a6ad-409b-832e-47a237ae8bc3",
   "metadata": {},
   "outputs": [],
   "source": [
    "# Agrupa e conta primeiro\n",
    "grouped_df = dataframe.groupBy(\"model_name\").count()\n",
    "\n",
    "# EStou listando as primeiras 100 linhas do groupby,\n",
    "grouped_df.orderBy(col(\"count\").desc()).show(100, truncate=False)"
   ]
  },
  {
   "cell_type": "code",
   "execution_count": null,
   "id": "adf0f30c-63c3-49e3-bbae-adf8e9bf4dd4",
   "metadata": {},
   "outputs": [],
   "source": [
    "# Lista de modelos válidos (você pode expandir conforme necessário)\n",
    "tipos_validos_model = [\n",
    "    \"F-150\", \"Escape\", \"Camry\", \"Rogue\", \"Equinox\", \"Silverado 1500\", \"CR-V\", \"Accord\", \n",
    "    \"Civic\", \"Explorer\", \"Fusion\", \"1500\", \"Altima\", \"Tucson\", \"Corolla\", \"RAV4\", \n",
    "    \"Grand Cherokee\", \"Highlander\", \"Sonata\", \"Elantra\", \"Edge\", \"Malibu\", \"Trax\", \n",
    "    \"CX-5\", \"Sentra\", \"Pilot\", \"Odyssey\", \"Cherokee\", \"Outback\", \"Jetta\", \"Traverse\", \n",
    "    \"Compass\", \"Expedition\", \"Soul\", \"Sportage\", \"Kona\", \"Sierra 1500\", \"Mustang\", \n",
    "    \"Grand Caravan\", \"F-250 Super Duty\", \"Sorento\", \"Encore\", \"Forte\", \"Tacoma\", \n",
    "    \"HR-V\", \"3 Series\", \"Acadia\", \"EcoSport\", \"Tahoe\", \"Tiguan\", \"Forester\", \n",
    "    \"Santa Fe\", \"Murano\", \"MDX\", \"Optima\", \"Passat\", \"Focus\", \"Versa\", \"Cruze\", \"Journey\", \n",
    "    \"Ford\", \"Fusion Hybrid\", \"Sienna\", \"4Runner\", \"Prius\", \"C-Class\", \"Renegade\", \n",
    "    \"Charger\", \"Enclave\", \"QX60\", \"Ranger\", \"Chevrolet\", \"2500\", \"RDX\", \"MAZDA3\", \n",
    "    \"Envision\", \"Crosstrek\", \"Encore GX\", \"E-Class\", \"Fit\", \"Impala\", \"F-350 Super Duty\", \n",
    "    \"Impreza\", \"Rogue Sport\", \"Durango\", \"Kicks\", \"Colorado\", \"Silverado 2500HD\", \"X5\", \n",
    "    \"Pacifica\", \"Tundra\", \"Suburban\", \"Highlander Hybrid\", \"XT5\", \"Camaro\", \"Challenger\", \n",
    "    \"Transit Connect\", \"MKZ\", \"Maxima\", \"Frontier\", \"XC90\", \"Blazer\", \"Atlas\", \"Yukon\", \n",
    "    \"RX 350\", \"Gladiator\", \"Outlander Sport\", \"Q5\", \"Legacy\", \"Q50\", \"Fiesta\", \"CX-9\", \n",
    "    \"Armada\", \"Accent\", \"Yukon XL\", \"Town & Country\"\n",
    "]\n",
    "\n",
    "# Filtra a coluna \"model_name\" e coloca NULL para os valores que não são válidos\n",
    "dataframe = dataframe.withColumn(\n",
    "    \"model_name\",\n",
    "    when(col(\"model_name\").isin(tipos_validos_model), col(\"model_name\")).otherwise(None)\n",
    ")\n",
    "\n",
    "# Contagem das linhas repetidas e exibição da tabela\n",
    "dataframe.groupBy(\"model_name\").count().orderBy(\"count\", ascending=False).show(truncate=False)\n"
   ]
  },
  {
   "cell_type": "markdown",
   "id": "34dfc05d-9e0f-4f1f-80ed-6431842ae188",
   "metadata": {},
   "source": [
    "#### 11.transmission (tipo de transmissão). ####"
   ]
  },
  {
   "cell_type": "code",
   "execution_count": null,
   "id": "198c68be-4aa4-4d2b-9535-515f9472644e",
   "metadata": {},
   "outputs": [],
   "source": [
    "# Agrupa e conta primeiro\n",
    "\n",
    "grouped_df = dataframe.groupBy(\"transmission\").count()\n",
    "\n",
    "# EStou listando as primeiras 100 linhas do groupby,\n",
    "grouped_df.orderBy(col(\"count\").desc()).show(20, truncate=False)"
   ]
  },
  {
   "cell_type": "code",
   "execution_count": null,
   "id": "b4c1f6f5-88a5-4509-810c-d627c1259cf1",
   "metadata": {},
   "outputs": [],
   "source": [
    "# Lista de transmissões válidas (exemplo com algumas transmissões válidas\n",
    "tipos_validos_transmission = [\n",
    "    \"A\", \"CVT\", \"M\", \"Dual Clutch\"\n",
    "]\n",
    "\n",
    "# Filtra a coluna \"transmission\" e coloca NULL para os valores que não são válidos\n",
    "dataframe = dataframe.withColumn(\n",
    "    \"transmission\",\n",
    "    when(col(\"transmission\").isin(tipos_validos_transmission), col(\"transmission\")).otherwise(None)\n",
    ")\n",
    "\n",
    "# Contagem das linhas repetidas e exibição da tabela\n",
    "dataframe.groupBy(\"transmission\").count().orderBy(\"count\", ascending=False).show(truncate=False)\n"
   ]
  },
  {
   "cell_type": "markdown",
   "id": "bd0ca100-35de-4c91-8740-2b8f13578db7",
   "metadata": {},
   "source": [
    "#### 12.transmission_display (tipo de transmissão legível). ####"
   ]
  },
  {
   "cell_type": "code",
   "execution_count": null,
   "id": "def24171-4a44-4a77-942b-84b20b40b5f8",
   "metadata": {},
   "outputs": [],
   "source": [
    "# Agrupa e conta primeiro\n",
    "grouped_df = dataframe.groupBy(\"transmission_display\").count()\n",
    "\n",
    "# EStou listando as primeiras 100 linhas do groupby,\n",
    "grouped_df.orderBy(col(\"count\").desc()).show(20, truncate=False)"
   ]
  },
  {
   "cell_type": "code",
   "execution_count": null,
   "id": "3a047ca7-4af2-448d-9e58-c733fc2fca17",
   "metadata": {},
   "outputs": [],
   "source": [
    "# Lista de valores para transmission_display\n",
    "tipos_validos_transmission_display = [\n",
    "    \"Automatic\",\"Continuously Variable Transmission\",\"6-Speed Automatic\",\"8-Speed Automatic\",\"9-Speed Automatic\",\"5-Speed Automatic\",\"6-Speed Manual\",\"Manual\",\n",
    "    \"7-Speed Automatic\",\"8-Speed Automatic Overdrive\",\"5-Speed Automatic Overdrive\",\"6-Speed Automatic Overdrive\",\"1-Speed Automatic\",\"6-Speed Dual Clutch\",\"5-Speed Manual\",\n",
    "    \"7-Speed CVT\",\"8-Speed Dual Clutch\",\"9-Speed Automatic Overdrive\",\"7-Speed Automatic Overdrive\"\n",
    "]\n",
    "\n",
    "# Filtra a coluna \"transmission_display\" com a lista tipos_validos_transmission_display\n",
    "dataframe = dataframe.withColumn(\n",
    "    \"transmission_display\",\n",
    "    when(col(\"transmission_display\").isin(tipos_validos_transmission_display), col(\"transmission_display\")).otherwise(None)\n",
    ")\n",
    "\n",
    "# Plotando tabela com groupby\n",
    "dataframe.groupBy(\"transmission_display\").count().orderBy(\"count\", ascending=False).show(truncate=False)"
   ]
  },
  {
   "cell_type": "markdown",
   "id": "12bd9c32-cb40-4e31-891d-ff451577e59a",
   "metadata": {},
   "source": [
    "#### 13.wheel_system (tipo de tração). ####"
   ]
  },
  {
   "cell_type": "code",
   "execution_count": null,
   "id": "087307bb-85cc-4fec-840f-988668560f6c",
   "metadata": {},
   "outputs": [],
   "source": [
    "# Agrupa e conta primeiro\n",
    "grouped_df = dataframe.groupBy(\"wheel_system\").count()\n",
    "\n",
    "# EStou listando as primeiras linhas\n",
    "grouped_df.orderBy(col(\"count\").desc()).show(20, truncate=False)"
   ]
  },
  {
   "cell_type": "code",
   "execution_count": null,
   "id": "df4beccf-ce2e-46e9-9791-15bd7547c314",
   "metadata": {
    "scrolled": true
   },
   "outputs": [],
   "source": [
    "# Lista do filtro das cores base\n",
    "mapa_wheel_system = [ \n",
    "    \"FWD\", \"Front-Wheel Drive\", \"RWD\", \"Rear-Wheel Drive\",\"AWD\", \"All-Wheel Drive\", \"4WD\", \"Four-Wheel Drive\", \"4X2\" , \"Two-Wheel Drive\"    \n",
    "]\n",
    "\n",
    "# Esta é uma expressão usada para filtrar grupos que sao variaçoes de cores\n",
    "regex_wheel_system = r\"\\b(\" + \"|\".join(mapa_wheel_system) + r\")\\b\"\n",
    "\n",
    "# Aplica o filtro mantendo só as linhas que possuem variações da lista cores_validas2\n",
    "dataframe = dataframe.withColumn(\n",
    "    \"wheel_system\",\n",
    "    when(col(\"wheel_system\").rlike(regex_wheel_system), col(\"wheel_system\")).otherwise(None)\n",
    ")\n",
    "\n",
    "# Agrupa e conta as linhas por cor\n",
    "dataframe.groupBy(\"wheel_system\").count().orderBy(col(\"count\").desc()).show(20, truncate=False)"
   ]
  },
  {
   "cell_type": "markdown",
   "id": "a452fe71-f7f9-4c23-855a-7b29141986b4",
   "metadata": {},
   "source": [
    "#### 14.wheel_system_display (exibição do sistema de tração). ####"
   ]
  },
  {
   "cell_type": "code",
   "execution_count": null,
   "id": "2730f927-c178-4841-ae9a-b97fc90fb058",
   "metadata": {},
   "outputs": [],
   "source": [
    "# Agrupa e conta primeiro\n",
    "grouped_df = dataframe.groupBy(\"wheel_system_display\").count()\n",
    "\n",
    "# EStou listando as primeiras 100 linhas do groupby,\n",
    "grouped_df.orderBy(col(\"count\").desc()).show(20, truncate=False)"
   ]
  },
  {
   "cell_type": "code",
   "execution_count": null,
   "id": "8da3c460-41d7-4406-bc48-841853a61b95",
   "metadata": {},
   "outputs": [],
   "source": [
    "# Lista do filtro das cores base\n",
    "mapa_wheel_system_display = [ \n",
    "    \"FWD\", \"Front-Wheel Drive\", \"RWD\", \"Rear-Wheel Drive\",\"AWD\", \"All-Wheel Drive\", \"4WD\", \"Four-Wheel Drive\", \"4X2\" , \"Two-Wheel Drive\"    \n",
    "]\n",
    "\n",
    "# Esta é uma expressão usada para filtrar grupos que sao variaçoes de cores\n",
    "regex_wheel_system_display = r\"\\b(\" + \"|\".join(mapa_wheel_system_display) + r\")\\b\"\n",
    "\n",
    "# Aplica o filtro mantendo só as linhas que possuem variações da lista cores_validas2\n",
    "dataframe = dataframe.withColumn(\n",
    "    \"wheel_system_display\",\n",
    "    when(col(\"wheel_system_display\").rlike(regex_wheel_system_display), col(\"wheel_system_display\")).otherwise(None)\n",
    ")\n",
    "\n",
    "# Agrupa e conta as linhas por cor\n",
    "dataframe.groupBy(\"wheel_system_display\").count().orderBy(col(\"count\").desc()).show(20, truncate=False)"
   ]
  },
  {
   "cell_type": "markdown",
   "id": "9d967abb-117a-4b5a-85cf-3699772c319a",
   "metadata": {},
   "source": [
    "#### 15.major_options (array). PERRELA VIADAO ####"
   ]
  },
  {
   "cell_type": "code",
   "execution_count": null,
   "id": "eaadecad-c758-4ba1-96f2-dbd0a5301ee7",
   "metadata": {},
   "outputs": [],
   "source": []
  },
  {
   "cell_type": "markdown",
   "id": "e54cb3e3-29eb-4aeb-91d0-f20a72cff5dd",
   "metadata": {},
   "source": [
    "## Verificando como ficou as minhas colunas apos realizar seus respectivos filtros ##"
   ]
  },
  {
   "cell_type": "code",
   "execution_count": null,
   "id": "25e9dc00-12f6-4db8-8397-d19a7f7c578f",
   "metadata": {},
   "outputs": [],
   "source": [
    "# Aqui eu passei uma lista com todas as colunas do meu dataset\n",
    "columns_to_check = dataframe.columns\n",
    "\n",
    "\n",
    "# Calcula a quantidade de valores nulos por coluna\n",
    "null_counts = (\n",
    "    dataframe.select([\n",
    "        spark_count(when(col(c).isNull(), c)).alias(c) for c in columns_to_check\n",
    "    ])\n",
    "    .collect()[0]\n",
    ")\n",
    "\n",
    "# Total de linhas para cálculo de porcentagem\n",
    "total_rows = dataframe.count()\n",
    "\n",
    "# Preparar dados para gráfico\n",
    "labels = []\n",
    "null_values = []\n",
    "null_percentages = []\n",
    "\n",
    "for col_name in columns_to_check:\n",
    "    null_count = null_counts[col_name]\n",
    "    percent = (null_count / total_rows) * 100\n",
    "    labels.append(col_name)\n",
    "    null_values.append(null_count)\n",
    "    null_percentages.append(percent)\n",
    "\n",
    "# Plotar gráfico de barras\n",
    "plt.figure(figsize=(18, 18))\n",
    "bars = plt.barh(labels, null_percentages, color='skyblue')\n",
    "plt.xlabel('Porcentagem de valores nulos (%)')\n",
    "plt.title('Porcentagem de valores nulos por coluna')\n",
    "plt.xlim(0, 100)\n",
    "\n",
    "# Adicionar os valores nas barras\n",
    "for bar, percent in zip(bars, null_percentages):\n",
    "    plt.text(bar.get_width() + 1, bar.get_y() + bar.get_height()/2,\n",
    "             f\"{percent:.1f}%\", va='center')\n",
    "\n",
    "plt.tight_layout()\n",
    "plt.show()"
   ]
  },
  {
   "cell_type": "code",
   "execution_count": null,
   "id": "fe7e9886-282d-454e-932d-51799c6e9f63",
   "metadata": {},
   "outputs": [],
   "source": [
    "# Apos o filtro foi encontrado muitos outliers entao irei remover mais colunas\n",
    "colunaInuteis2 = [\n",
    "    'width','wheelbase','length','FrontLegroom','height','transmission_display','wheel_system_display','torque','listed_date','interior_color','FranchiseMake','power','mileage',\n",
    "    'EngineCylinders','major_options','EngineDisplacement'\n",
    "]\n",
    "dataframe = dataframe.drop(*colunaInuteis2)\n",
    "\n",
    "# COLUNAS QUE IREI REMOVER\n",
    "# width = Largura do veículo (ex: \"79.6 in\") \n",
    "# wheelbase = Distância entre os eixos (ex: \"101.2 in\") \n",
    "# length = Tipo String. Comprimento do veículo em polegadas (ex: \"166.6 in\"). \n",
    "# FrontLegroom = Tipo String. Espaço para as pernas em polegadas para o assento do passageiro (ex: \"41.2 in\"). \n",
    "# height = Tipo String. Altura do veículo em polegadas (ex: \"66.5 in\").\n",
    "# transmission_display = Tipo de transmissão legível (ex: \"9-Speed Automatic Overdrive\") \n",
    "# wheel_system_display = Exibição do sistema de tração (ex: \"Front-Wheel Drive\") \n",
    "# torque = Torque do motor (ex: \"200 lb-ft @ 1,750 RPM\")\n",
    "# listed_date = Tipo String. A data em que o veículo foi anunciado no site. Não torna o days_on_market obsoleto. O preço é days_on_market dias após a data anunciada (ex: \"2019-04-06\"). \n",
    "# interior_color = Tipo String. Cor do interior do veículo, geralmente uma cor sofisticada, igual à do folheto (ex: \"Black\").\n",
    "# FranchiseMake = Tipo String. A empresa proprietária da franquia (ex: \"Jeep, NULL 19%\").\n",
    "# EngineCylinders = Tipo String. A configuração do motor (ex: \" I4, V6\"). \n",
    "# major_options = É um array verificar dps (ex: \"['Quick Order Package'], verificar pq é um array\").\n",
    "# EngineDisplacement = Tipo Float. engine_displacement é a medida do volume do cilindro varrido por todos os pistões de um motor a pistão, excluindo as câmaras de combustão (ex: \"1300.0\"). \n",
    "\n",
    "\n",
    "# BackLegroom = Tipo String. Espaço para as pernas no banco traseiro (ex: \"35.1 in\").\n",
    "# year =  Ano do modelo (ex: 2019)\n",
    "# wheel_system = Tipo de tração (ex: \"AWD\", \"FWD\", \"RWD\", \"4WD\")\n",
    "# transmission = Tipo de transmissão (ex: \"A\" ou \"CVT\")\n",
    "# power = Potência do veículo (ex: \"177 hp @ 5,750 RPM\")\n",
    "# price = Preço do veículo (ex: 23141.0)\n",
    "# model_name = Nome do modelo (ex: \"Renegade\")\n",
    "# make_name\" = Nome da marca (ex: Jeep)\n",
    "# maximum_seating = Assentos máximos (ex: \"5 seats\")\n",
    "# mileage = Quilometragem (ex: 7.0)\n",
    "# listing_color = Tipo String. Grupo de cores dominante da cor externa (ex: \"YELLOW\").\n",
    "# fuel_tank_volume = Tipo String. Capacidade de enchimento do tanque de combustível em galões (ex: \"12.7 gal\").\n",
    "# fuel_type\" = Tipo String. Tipo dominante de combustível ingerido pelo veículo (ex: \"Gasoline\").\n",
    "# ExteriorColor = Tipo String. Cor externa do veículo, geralmente uma cor sofisticada, igual à do folheto (ex: \"Solar Yellow\").\n",
    "# EngineType = Tipo String. A configuração do motor(ex: \"I4, V6\").\n",
    "# BodyType = Tipo String. Tipo de carroceria do veículo. Como Conversível, Hatchback, Sedan, etc (ex: \"SUV / Crossover\").\n",
    "\n",
    "\n",
    "# salvage = Indicador de salvamento (True ou False)\n",
    "# is_new = Tipo booleano. Se True, significa que o veículo foi lançado há menos de 2 anos (ex: \"True, False\").\n",
    "# isCab = Tipo booleano. Se o veículo era anteriormente era um táxi (ex: \"True, False, NULL 48%\").\n",
    "# has_accidents = Tipo booleano. Se o veiculo possui algum acidente registrado (ex: \"True, False, NUUL 48%\").\n",
    "# FrameDamaged = Tipo booleano. Indica se o chassi do veículo está danificado (ex: \"\"True, False, NULL 48%).\n",
    "# Fleet = Tipo booleano. Se o veículo já fez parte de uma frota (ex: \"True, False, NULL 48%\")."
   ]
  },
  {
   "cell_type": "code",
   "execution_count": null,
   "id": "edf67bba-56b6-458c-8356-b36bbca012bd",
   "metadata": {},
   "outputs": [],
   "source": [
    "# Obtem os tipos de colunas\n",
    "column_types = dataframe.dtypes\n",
    "\n",
    "# Conta a quantidade de cada tipo de dado\n",
    "type_counts = {}\n",
    "\n",
    "for column, dtype in column_types:\n",
    "    if dtype not in type_counts:\n",
    "        type_counts[dtype] = 0\n",
    "    type_counts[dtype] += 1\n",
    "\n",
    "# Printa a quantidade de cada tipo de dado\n",
    "for dtype, count in type_counts.items():\n",
    "    print(f\"Tipo: {dtype}, Quantidade: {count}\")"
   ]
  },
  {
   "cell_type": "markdown",
   "id": "29f9c6cb-cf39-468a-8c04-628eed44e7ed",
   "metadata": {},
   "source": [
    "# Data Pré-processing #"
   ]
  },
  {
   "cell_type": "markdown",
   "id": "f6f61248-b60e-4069-96b3-e98fdc17267d",
   "metadata": {},
   "source": [
    "## Booleans convertendo e normalizando (media) ##"
   ]
  },
  {
   "cell_type": "code",
   "execution_count": null,
   "id": "1a09f9e0-121b-4db1-9031-fcc5d3367252",
   "metadata": {},
   "outputs": [],
   "source": [
    "# Lista de colunas booleanas\n",
    "boolean_columns = ['Fleet', 'FrameDamaged', 'has_accidents', 'isCab', 'is_new', 'salvage']\n",
    "\n",
    "# Converter para int se ainda não estiver\n",
    "for column in boolean_columns:\n",
    "    if column in dataframe.columns:\n",
    "        dataframe = dataframe.withColumn(column, col(column).cast(\"int\"))\n",
    "\n",
    "# Usar groupBy + count para cada coluna e exibir os valores únicos\n",
    "for column in boolean_columns:\n",
    "    if column in dataframe.columns:\n",
    "        print(f\"\\nValores distintos da coluna '{column}':\")\n",
    "        dataframe.groupBy(column).count().orderBy(column).show()"
   ]
  },
  {
   "cell_type": "code",
   "execution_count": null,
   "id": "28b4596e-4eb0-4566-900e-bea125ae40c0",
   "metadata": {},
   "outputs": [],
   "source": [
    "from pyspark.sql.functions import col\n",
    "\n",
    "# Lista de colunas booleanas (já com nomes corrigidos, respeitando maiúsculas/minúsculas)\n",
    "boolean_columns = ['Fleet', 'FrameDamaged', 'has_accidents', 'isCab', 'is_new', 'salvage']\n",
    "\n",
    "# Converter para int\n",
    "for column in boolean_columns:\n",
    "    if column in dataframe.columns:\n",
    "        dataframe = dataframe.withColumn(column, col(column).cast(\"int\"))\n",
    "\n",
    "# Preencher nulls com 0 nessas colunas\n",
    "dataframe = dataframe.fillna({col: 0 for col in boolean_columns})\n",
    "\n",
    "# Verificar se há nulls restantes\n",
    "for column in boolean_columns:\n",
    "    null_count = dataframe.filter(col(column).isNull()).count()\n",
    "    print(f\"NULLs restantes em '{column}': {null_count}\")\n"
   ]
  },
  {
   "cell_type": "code",
   "execution_count": null,
   "id": "84e5db4a-728a-46fa-9ea6-0419684ecddc",
   "metadata": {},
   "outputs": [],
   "source": [
    "# Lista de colunas booleanas\n",
    "boolean_columns = ['Fleet', 'FrameDamaged', 'has_accidents', 'isCab', 'is_new', 'salvage']\n",
    "\n",
    "# Converter para int se ainda não estiver\n",
    "for column in boolean_columns:\n",
    "    if column in dataframe.columns:\n",
    "        df = dataframe.withColumn(column, col(column).cast(\"int\"))\n",
    "\n",
    "# Usar groupBy + count para cada coluna e exibir os valores únicos\n",
    "for column in boolean_columns:\n",
    "    if column in df.columns:\n",
    "        print(f\"\\nValores distintos da coluna '{column}':\")\n",
    "        df.groupBy(column).count().orderBy(column).show()"
   ]
  },
  {
   "cell_type": "code",
   "execution_count": null,
   "id": "b1ef7c1d-f87e-4135-acd2-7c104c24dd50",
   "metadata": {},
   "outputs": [],
   "source": [
    "# Obtem os tipos de colunas\n",
    "column_types = dataframe.dtypes\n",
    "\n",
    "# Conta a quantidade de cada tipo de dado\n",
    "type_counts = {}\n",
    "\n",
    "for column, dtype in column_types:\n",
    "    if dtype not in type_counts:\n",
    "        type_counts[dtype] = 0\n",
    "    type_counts[dtype] += 1\n",
    "\n",
    "# Printa a quantidade de cada tipo de dado\n",
    "for dtype, count in type_counts.items():\n",
    "    print(f\"Tipo: {dtype}, Quantidade: {count}\")"
   ]
  },
  {
   "cell_type": "markdown",
   "id": "072fa976-fec8-4296-b593-8944ed0e5f0e",
   "metadata": {},
   "source": [
    "## Float ##"
   ]
  },
  {
   "cell_type": "markdown",
   "id": "c4e576d8-8ec7-4834-a980-ec3df7208217",
   "metadata": {},
   "source": [
    "### BackLegroom float ###"
   ]
  },
  {
   "cell_type": "code",
   "execution_count": null,
   "id": "e50b5a98-3d14-4db7-ae4f-bd536be599c5",
   "metadata": {},
   "outputs": [],
   "source": [
    "# BackLegroom Aproximação da MEDIANA (50%)\n",
    "mediana = dataframe.approxQuantile(\"BackLegroom\", [0.5], 0.01)[0]\n",
    "dataframe = dataframe.withColumn(\n",
    "    \"BackLegroom\",\n",
    "    when(col(\"BackLegroom\").isNull(), mediana).otherwise(col(\"BackLegroom\"))\n",
    ")"
   ]
  },
  {
   "cell_type": "code",
   "execution_count": null,
   "id": "253b8a79-3b16-43f6-8f98-9bd3be99a9fe",
   "metadata": {},
   "outputs": [],
   "source": [
    "# Agrupa e conta primeiro\n",
    "grouped_df = dataframe.groupBy(\"BackLegroom\").count()\n",
    "\n",
    "# EStou listando as primeiras 100 linhas do groupby,\n",
    "grouped_df.orderBy(col(\"count\").desc()).show(20, truncate=False)"
   ]
  },
  {
   "cell_type": "markdown",
   "id": "845096ee-355f-4a34-8e0d-81fb76ebd84a",
   "metadata": {},
   "source": [
    "### fuel_tank_volume float ###"
   ]
  },
  {
   "cell_type": "code",
   "execution_count": null,
   "id": "86e1f2d1-42ef-437d-8439-346dbfa93758",
   "metadata": {},
   "outputs": [],
   "source": [
    "# Calcular a moda (ignora NULLs)\n",
    "moda_row = dataframe.filter(col(\"fuel_tank_volume\").isNotNull()) \\\n",
    "    .groupBy(\"fuel_tank_volume\") \\\n",
    "    .count() \\\n",
    "    .orderBy(col(\"count\").desc()) \\\n",
    "    .first()\n",
    "\n",
    "moda_valor = moda_row[\"fuel_tank_volume\"]\n",
    "\n",
    "# Substituir os NULLs pelo valor da moda\n",
    "dataframe = dataframe.withColumn(\n",
    "    \"fuel_tank_volume\",\n",
    "    when(col(\"fuel_tank_volume\").isNull(), moda_valor)\n",
    "    .otherwise(col(\"fuel_tank_volume\"))\n",
    ")\n",
    "\n",
    "# (Opcional) Verificar resultado\n",
    "dataframe.groupBy(\"fuel_tank_volume\").count().orderBy(col(\"count\").desc()).show()"
   ]
  },
  {
   "cell_type": "markdown",
   "id": "4afd1ecd-534b-45a2-878f-f82714dc281a",
   "metadata": {},
   "source": [
    "## Int ##"
   ]
  },
  {
   "cell_type": "markdown",
   "id": "3881df68-e536-478c-b742-34f5c78f37de",
   "metadata": {},
   "source": [
    "### maximum_seating int ###"
   ]
  },
  {
   "cell_type": "code",
   "execution_count": null,
   "id": "0acc80a3-5155-4d16-b40e-4b926c0afac9",
   "metadata": {},
   "outputs": [],
   "source": [
    "# Passo 3: Calcular a moda (ignorar NULLs)\n",
    "grouped_df = dataframe.groupBy(\"maximum_seating\").count()\n",
    "moda_valor = grouped_df.filter(col(\"maximum_seating\").isNotNull()).orderBy(desc(\"count\")).first()[\"maximum_seating\"]\n",
    "\n",
    "# Passo 4: Substituir os NULL pela moda\n",
    "dataframe = dataframe.withColumn(\n",
    "    \"maximum_seating\",\n",
    "    when(col(\"maximum_seating\").isNull(), moda_valor)\n",
    "    .otherwise(col(\"maximum_seating\"))\n",
    ")\n",
    "\n",
    "# Verificar resultado final\n",
    "dataframe.groupBy(\"maximum_seating\").count().orderBy(desc(\"count\")).show(20)"
   ]
  },
  {
   "cell_type": "code",
   "execution_count": null,
   "id": "3fc86a91-9207-43c8-a15f-32165599f2c7",
   "metadata": {},
   "outputs": [],
   "source": [
    "dataframe.filter(col(\"maximum_seating\").isin(\"\", \" \", \"null\", \"None\")).count()"
   ]
  },
  {
   "cell_type": "markdown",
   "id": "9a963ea8-2903-4667-a576-5d03d31392a0",
   "metadata": {},
   "source": [
    "### year int ###"
   ]
  },
  {
   "cell_type": "code",
   "execution_count": null,
   "id": "0f7ce593-6710-46ad-a6fb-e46ff4b4a27d",
   "metadata": {},
   "outputs": [],
   "source": [
    "# Converter a coluna para inteiro\n",
    "dataframe = dataframe.withColumn(\"year\", col(\"year\").cast(\"int\"))\n",
    "\n",
    "# Calcular a mediana (aproximação)\n",
    "mediana_year = dataframe.approxQuantile(\"year\", [0.5], 0.01)[0]\n",
    "\n",
    "# Substituir valores nulos pela mediana\n",
    "dataframe = dataframe.withColumn(\n",
    "    \"year\",\n",
    "    when(col(\"year\").isNull(), mediana_year).otherwise(col(\"year\"))\n",
    ")"
   ]
  },
  {
   "cell_type": "code",
   "execution_count": null,
   "id": "9258f2cf-74d4-48f0-9c25-2a6c3cfdcb6f",
   "metadata": {},
   "outputs": [],
   "source": [
    "# Agrupa e conta primeiro\n",
    "grouped_df = dataframe.groupBy(\"year\").count()\n",
    "\n",
    "# EStou listando as primeiras 100 linhas do groupby,\n",
    "grouped_df.orderBy(col(\"count\").desc()).show(20, truncate=False)"
   ]
  },
  {
   "cell_type": "markdown",
   "id": "4e3cad95-f292-4886-9a4f-3e3b41b5b3c2",
   "metadata": {},
   "source": [
    "## String ##"
   ]
  },
  {
   "cell_type": "markdown",
   "id": "33944541-6a8b-49be-a8ae-334d8508766e",
   "metadata": {},
   "source": [
    "### wheel_system string ###"
   ]
  },
  {
   "cell_type": "code",
   "execution_count": null,
   "id": "aabc73ce-90f2-47e4-b121-550a8108581f",
   "metadata": {},
   "outputs": [],
   "source": [
    "# Lista das marcas válidas - coluna make_name_int\n",
    "tipos_validos_make = [\n",
    "    \"FWD\", \"Front-Wheel Drive\", \"RWD\", \"Rear-Wheel Drive\",\"AWD\", \"All-Wheel Drive\", \"4WD\", \"Four-Wheel Drive\", \"4X2\" , \"Two-Wheel Drive\"\n",
    "]\n",
    "\n",
    "\n",
    "# Criar a coluna make_name_int com base nos valores\n",
    "dataframe = dataframe.withColumn(\"wheel_system_name_int\", F.lit(None))\n",
    "\n",
    "# Cria expressões regex para cada marca e aplica com .rlike() ignorando o case\n",
    "for i, marca in enumerate(tipos_validos_make, start=1):\n",
    "    regex = f\"(?i)^{marca}$\"  # ignora maiúsculas/minúsculas\n",
    "    dataframe = dataframe.withColumn(\n",
    "        \"wheel_system_name_int\",\n",
    "        F.when(F.col(\"wheel_system\").rlike(regex), i).otherwise(F.col(\"wheel_system_name_int\"))\n",
    "    )\n",
    "\n",
    "# Converte a coluna \"make_name_int\" para tipo inteiro\n",
    "# dataframe = dataframe.withColumn(\"transmission_name_intt\", F.col(\"transmission_name_int\").cast(\"int\"))\n",
    "\n",
    "# Agrupa os dados pela coluna \"make_name_int\" e conta as ocorrências\n",
    "grouped_df = dataframe.groupBy(\"wheel_system_name_int\").count()\n",
    "\n",
    "# Ordena os resultados pela contagem em ordem decrescente\n",
    "grouped_df.orderBy(F.col(\"count\").desc()).show(20, truncate=False)\n",
    "\n",
    "\n",
    "# dados nulos\n",
    "\n",
    "from pyspark.sql.functions import col, when, isnan, count\n",
    "import random\n",
    "\n",
    "# Etapa 1: Contar valores não nulos\n",
    "value_counts = (\n",
    "    dataframe.filter(col(\"wheel_system_name_int\").isNotNull())\n",
    "    .groupBy(\"wheel_system_name_int\")\n",
    "    .count()\n",
    "    .collect()\n",
    ")\n",
    "\n",
    "# Etapa 2: Calcular distribuição (probabilidades)\n",
    "total = sum(row[\"count\"] for row in value_counts)\n",
    "distribuicao = {row[\"wheel_system_name_int\"]: row[\"count\"] / total for row in value_counts}\n",
    "\n",
    "# Etapa 3: Criar uma função que retorna um valor aleatório com base nas probabilidades\n",
    "def sample_by_distribution():\n",
    "    valores = list(distribuicao.keys())\n",
    "    pesos = list(distribuicao.values())\n",
    "    return random.choices(valores, weights=pesos, k=1)[0]\n",
    "\n",
    "# Etapa 4: Registrar função UDF\n",
    "from pyspark.sql.functions import udf\n",
    "from pyspark.sql.types import StringType\n",
    "\n",
    "amostrador_udf = udf(lambda: sample_by_distribution(), StringType())\n",
    "\n",
    "# Etapa 5: Aplicar no DataFrame para substituir os nulls\n",
    "dataframe = dataframe.withColumn(\n",
    "    \"wheel_system_name_int\",\n",
    "    when(col(\"wheel_system_name_int\").isNull(), amostrador_udf()).otherwise(col(\"wheel_system_name_int\"))\n",
    ")\n",
    "\n",
    "#dataframe_preenchido = dataframe.withColumn(\n",
    "#    \"make_name_int\",\n",
    "#    when(col(\"make_name_int\").isNull(), amostrador_udf()).otherwise(col(\"make_name_int\"))\n",
    "#)\n",
    "\n",
    "# Agrupa os dados pela coluna \"make_name_int\" e conta as ocorrências\n",
    "grouped_df_mod = dataframe.groupBy(\"wheel_system_name_int\").count()\n",
    "#grouped_df_mod = dataframe_preenchido.groupBy(\"make_name_int\").count()\n",
    "\n",
    "# Ordena os resultados pela contagem em ordem decrescente\n",
    "grouped_df_mod.orderBy(F.col(\"count\").desc()).show(20, truncate=False)\n",
    "\n",
    "# Garante que a coluna make_name_int seja do tipo IntegerType\n",
    "dataframe = dataframe.withColumn(\n",
    "    \"wheel_system_name_int\", col(\"wheel_system_name_int\").cast(IntegerType())\n",
    ")"
   ]
  },
  {
   "cell_type": "markdown",
   "id": "76433a93-d366-4c0f-8591-fa3a4acfe7ee",
   "metadata": {},
   "source": [
    "### transmission string ###"
   ]
  },
  {
   "cell_type": "code",
   "execution_count": null,
   "id": "994c1e22-a645-4cb2-83e0-eb833c3c5dd4",
   "metadata": {},
   "outputs": [],
   "source": [
    "# Lista das marcas válidas - coluna make_name_int\n",
    "tipos_validos_make = [\n",
    "    \"A\", \"CVT\", \"M\", \"Dual Clutch\"\n",
    "]\n",
    "\n",
    "\n",
    "# Criar a coluna make_name_int com base nos valores\n",
    "dataframe = dataframe.withColumn(\"transmission_name_int\", F.lit(None))\n",
    "\n",
    "# Cria expressões regex para cada marca e aplica com .rlike() ignorando o case\n",
    "for i, marca in enumerate(tipos_validos_make, start=1):\n",
    "    regex = f\"(?i)^{marca}$\"  # ignora maiúsculas/minúsculas\n",
    "    dataframe = dataframe.withColumn(\n",
    "        \"transmission_name_int\",\n",
    "        F.when(F.col(\"transmission\").rlike(regex), i).otherwise(F.col(\"transmission_name_int\"))\n",
    "    )\n",
    "\n",
    "# Converte a coluna \"make_name_int\" para tipo inteiro\n",
    "# dataframe = dataframe.withColumn(\"transmission_name_intt\", F.col(\"transmission_name_int\").cast(\"int\"))\n",
    "\n",
    "# Agrupa os dados pela coluna \"make_name_int\" e conta as ocorrências\n",
    "grouped_df = dataframe.groupBy(\"transmission_name_int\").count()\n",
    "\n",
    "# Ordena os resultados pela contagem em ordem decrescente\n",
    "grouped_df.orderBy(F.col(\"count\").desc()).show(20, truncate=False)\n",
    "\n",
    "\n",
    "# dados nulos\n",
    "\n",
    "from pyspark.sql.functions import col, when, isnan, count\n",
    "import random\n",
    "\n",
    "# Etapa 1: Contar valores não nulos\n",
    "value_counts = (\n",
    "    dataframe.filter(col(\"transmission_name_int\").isNotNull())\n",
    "    .groupBy(\"transmission_name_int\")\n",
    "    .count()\n",
    "    .collect()\n",
    ")\n",
    "\n",
    "# Etapa 2: Calcular distribuição (probabilidades)\n",
    "total = sum(row[\"count\"] for row in value_counts)\n",
    "distribuicao = {row[\"transmission_name_int\"]: row[\"count\"] / total for row in value_counts}\n",
    "\n",
    "# Etapa 3: Criar uma função que retorna um valor aleatório com base nas probabilidades\n",
    "def sample_by_distribution():\n",
    "    valores = list(distribuicao.keys())\n",
    "    pesos = list(distribuicao.values())\n",
    "    return random.choices(valores, weights=pesos, k=1)[0]\n",
    "\n",
    "# Etapa 4: Registrar função UDF\n",
    "from pyspark.sql.functions import udf\n",
    "from pyspark.sql.types import StringType\n",
    "\n",
    "amostrador_udf = udf(lambda: sample_by_distribution(), StringType())\n",
    "\n",
    "# Etapa 5: Aplicar no DataFrame para substituir os nulls\n",
    "dataframe = dataframe.withColumn(\n",
    "    \"transmission_name_int\",\n",
    "    when(col(\"transmission_name_int\").isNull(), amostrador_udf()).otherwise(col(\"transmission_name_int\"))\n",
    ")\n",
    "\n",
    "#dataframe_preenchido = dataframe.withColumn(\n",
    "#    \"make_name_int\",\n",
    "#    when(col(\"make_name_int\").isNull(), amostrador_udf()).otherwise(col(\"make_name_int\"))\n",
    "#)\n",
    "\n",
    "# Agrupa os dados pela coluna \"make_name_int\" e conta as ocorrências\n",
    "grouped_df_mod = dataframe.groupBy(\"transmission_name_int\").count()\n",
    "#grouped_df_mod = dataframe_preenchido.groupBy(\"make_name_int\").count()\n",
    "\n",
    "# Ordena os resultados pela contagem em ordem decrescente\n",
    "grouped_df_mod.orderBy(F.col(\"count\").desc()).show(20, truncate=False)\n",
    "\n",
    "# Garante que a coluna make_name_int seja do tipo IntegerType\n",
    "dataframe = dataframe.withColumn(\n",
    "    \"transmission_name_int\", col(\"transmission_name_int\").cast(IntegerType())\n",
    ")"
   ]
  },
  {
   "cell_type": "markdown",
   "id": "161a4084-3b7c-41d2-9eda-7b400fbb2090",
   "metadata": {},
   "source": [
    "### model_name string ###"
   ]
  },
  {
   "cell_type": "code",
   "execution_count": null,
   "id": "2201ccb1-7aa8-4fa1-9f1a-4fa4966198a0",
   "metadata": {},
   "outputs": [],
   "source": [
    "# Lista das marcas válidas - coluna make_name_int\n",
    "tipos_validos_make = [\n",
    "    \"F-150\", \"Escape\", \"Camry\", \"Rogue\", \"Equinox\", \"Silverado 1500\", \"CR-V\", \"Accord\", \n",
    "    \"Civic\", \"Explorer\", \"Fusion\", \"1500\", \"Altima\", \"Tucson\", \"Corolla\", \"RAV4\", \n",
    "    \"Grand Cherokee\", \"Highlander\", \"Sonata\", \"Elantra\", \"Edge\", \"Malibu\", \"Trax\", \n",
    "    \"CX-5\", \"Sentra\", \"Pilot\", \"Odyssey\", \"Cherokee\", \"Outback\", \"Jetta\", \"Traverse\", \n",
    "    \"Compass\", \"Expedition\", \"Soul\", \"Sportage\", \"Kona\", \"Sierra 1500\", \"Mustang\", \n",
    "    \"Grand Caravan\", \"F-250 Super Duty\", \"Sorento\", \"Encore\", \"Forte\", \"Tacoma\", \n",
    "    \"HR-V\", \"3 Series\", \"Acadia\", \"EcoSport\", \"Tahoe\", \"Tiguan\", \"Forester\", \n",
    "    \"Santa Fe\", \"Murano\", \"MDX\", \"Optima\", \"Passat\", \"Focus\", \"Versa\", \"Cruze\", \"Journey\", \n",
    "    \"Ford\", \"Fusion Hybrid\", \"Sienna\", \"4Runner\", \"Prius\", \"C-Class\", \"Renegade\", \n",
    "    \"Charger\", \"Enclave\", \"QX60\", \"Ranger\", \"Chevrolet\", \"2500\", \"RDX\", \"MAZDA3\", \n",
    "    \"Envision\", \"Crosstrek\", \"Encore GX\", \"E-Class\", \"Fit\", \"Impala\", \"F-350 Super Duty\", \n",
    "    \"Impreza\", \"Rogue Sport\", \"Durango\", \"Kicks\", \"Colorado\", \"Silverado 2500HD\", \"X5\", \n",
    "    \"Pacifica\", \"Tundra\", \"Suburban\", \"Highlander Hybrid\", \"XT5\", \"Camaro\", \"Challenger\", \n",
    "    \"Transit Connect\", \"MKZ\", \"Maxima\", \"Frontier\", \"XC90\", \"Blazer\", \"Atlas\", \"Yukon\", \n",
    "    \"RX 350\", \"Gladiator\", \"Outlander Sport\", \"Q5\", \"Legacy\", \"Q50\", \"Fiesta\", \"CX-9\", \n",
    "    \"Armada\", \"Accent\", \"Yukon XL\", \"Town & Country\"\n",
    "]\n",
    "\n",
    "# Criar a coluna make_name_int com base nos valores\n",
    "dataframe = dataframe.withColumn(\"model_name_int\", F.lit(None))\n",
    "\n",
    "# Cria expressões regex para cada marca e aplica com .rlike() ignorando o case\n",
    "for i, marca in enumerate(tipos_validos_make, start=1):\n",
    "    regex = f\"(?i)^{marca}$\"  # ignora maiúsculas/minúsculas\n",
    "    dataframe = dataframe.withColumn(\n",
    "        \"model_name_int\",\n",
    "        F.when(F.col(\"model_name\").rlike(regex), i).otherwise(F.col(\"model_name_int\"))\n",
    "    )\n",
    "\n",
    "# Converte a coluna \"make_name_int\" para tipo inteiro\n",
    "# dataframe = dataframe.withColumn(\"make_name_intt\", F.col(\"make_name_int\").cast(\"int\"))\n",
    "\n",
    "# Agrupa os dados pela coluna \"make_name_int\" e conta as ocorrências\n",
    "grouped_df = dataframe.groupBy(\"model_name_int\").count()\n",
    "\n",
    "# Ordena os resultados pela contagem em ordem decrescente\n",
    "grouped_df.orderBy(F.col(\"count\").desc()).show(20, truncate=False)\n",
    "\n",
    "# dados nulos\n",
    "\n",
    "from pyspark.sql.functions import col, when, isnan, count\n",
    "import random\n",
    "\n",
    "# Etapa 1: Contar valores não nulos\n",
    "value_counts = (\n",
    "    dataframe.filter(col(\"model_name_int\").isNotNull())\n",
    "    .groupBy(\"model_name_int\")\n",
    "    .count()\n",
    "    .collect()\n",
    ")\n",
    "\n",
    "# Etapa 2: Calcular distribuição (probabilidades)\n",
    "total = sum(row[\"count\"] for row in value_counts)\n",
    "distribuicao = {row[\"model_name_int\"]: row[\"count\"] / total for row in value_counts}\n",
    "\n",
    "# Etapa 3: Criar uma função que retorna um valor aleatório com base nas probabilidades\n",
    "def sample_by_distribution():\n",
    "    valores = list(distribuicao.keys())\n",
    "    pesos = list(distribuicao.values())\n",
    "    return random.choices(valores, weights=pesos, k=1)[0]\n",
    "\n",
    "# Etapa 4: Registrar função UDF\n",
    "from pyspark.sql.functions import udf\n",
    "from pyspark.sql.types import StringType\n",
    "\n",
    "amostrador_udf = udf(lambda: sample_by_distribution(), StringType())\n",
    "\n",
    "# Etapa 5: Aplicar no DataFrame para substituir os nulls\n",
    "dataframe = dataframe.withColumn(\n",
    "    \"model_name_int\",\n",
    "    when(col(\"model_name_int\").isNull(), amostrador_udf()).otherwise(col(\"model_name_int\"))\n",
    ")\n",
    "\n",
    "#dataframe_preenchido = dataframe.withColumn(\n",
    "#    \"make_name_int\",\n",
    "#    when(col(\"make_name_int\").isNull(), amostrador_udf()).otherwise(col(\"make_name_int\"))\n",
    "#)\n",
    "\n",
    "# Agrupa os dados pela coluna \"make_name_int\" e conta as ocorrências\n",
    "grouped_df_mod = dataframe.groupBy(\"model_name_int\").count()\n",
    "#grouped_df_mod = dataframe_preenchido.groupBy(\"make_name_int\").count()\n",
    "\n",
    "# Ordena os resultados pela contagem em ordem decrescente\n",
    "grouped_df_mod.orderBy(F.col(\"count\").desc()).show(20, truncate=False)\n",
    "\n",
    "# Garante que a coluna make_name_int seja do tipo IntegerType\n",
    "dataframe = dataframe.withColumn(\n",
    "    \"model_name_int\", col(\"model_name_int\").cast(IntegerType())\n",
    ")"
   ]
  },
  {
   "cell_type": "markdown",
   "id": "bbc9a951-32da-496b-9c4c-e8f43d1fd8cb",
   "metadata": {},
   "source": [
    "### make_name string ###"
   ]
  },
  {
   "cell_type": "code",
   "execution_count": null,
   "id": "3ea696c2-6735-4122-9b0a-80728e2bc229",
   "metadata": {},
   "outputs": [],
   "source": [
    "# Lista das marcas válidas - coluna make_name_int\n",
    "tipos_validos_make = [\n",
    "    \"Ford\", \"Chevrolet\", \"Toyota\", \"Honda\", \"Nissan\", \"Hyundai\", \"Jeep\", \"Kia\", \n",
    "    \"GMC\", \"Volkswagen\", \"Subaru\", \"Dodge\", \"BMW\", \"Mercedes-Benz\", \"RAM\", \"Mazda\", \n",
    "    \"Buick\", \"Lexus\", \"Acura\", \"Audi\", \"Cadillac\", \"INFINITI\", \"Lincoln\", \"Chrysler\", \n",
    "    \"Volvo\", \"Mitsubishi\", \"Porsche\", \"Jaguar\", \"Land Rover\", \"MINI\", \"Genesis\", \n",
    "    \"Pontiac\", \"Scion\", \"FIAT\", \"Tesla\", \"Alfa Romeo\", \"Mercury\", \"Saturn\"\n",
    "]\n",
    "\n",
    "# Criar a coluna make_name_int com base nos valores\n",
    "dataframe = dataframe.withColumn(\"make_name_int\", F.lit(None))\n",
    "\n",
    "# Cria expressões regex para cada marca e aplica com .rlike() ignorando o case\n",
    "for i, marca in enumerate(tipos_validos_make, start=1):\n",
    "    regex = f\"(?i)^{marca}$\"  # ignora maiúsculas/minúsculas\n",
    "    dataframe = dataframe.withColumn(\n",
    "        \"make_name_int\",\n",
    "        F.when(F.col(\"make_name\").rlike(regex), i).otherwise(F.col(\"make_name_int\"))\n",
    "    )\n",
    "\n",
    "# Converte a coluna \"make_name_int\" para tipo inteiro\n",
    "# dataframe = dataframe.withColumn(\"make_name_intt\", F.col(\"make_name_int\").cast(\"int\"))\n",
    "\n",
    "# Agrupa os dados pela coluna \"make_name_int\" e conta as ocorrências\n",
    "grouped_df = dataframe.groupBy(\"make_name_int\").count()\n",
    "\n",
    "# Ordena os resultados pela contagem em ordem decrescente\n",
    "grouped_df.orderBy(F.col(\"count\").desc()).show(20, truncate=False)\n",
    "\n",
    "# dados nulos\n",
    "\n",
    "from pyspark.sql.functions import col, when, isnan, count\n",
    "import random\n",
    "\n",
    "# Etapa 1: Contar valores não nulos\n",
    "value_counts = (\n",
    "    dataframe.filter(col(\"make_name_int\").isNotNull())\n",
    "    .groupBy(\"make_name_int\")\n",
    "    .count()\n",
    "    .collect()\n",
    ")\n",
    "\n",
    "# Etapa 2: Calcular distribuição (probabilidades)\n",
    "total = sum(row[\"count\"] for row in value_counts)\n",
    "distribuicao = {row[\"make_name_int\"]: row[\"count\"] / total for row in value_counts}\n",
    "\n",
    "# Etapa 3: Criar uma função que retorna um valor aleatório com base nas probabilidades\n",
    "def sample_by_distribution():\n",
    "    valores = list(distribuicao.keys())\n",
    "    pesos = list(distribuicao.values())\n",
    "    return random.choices(valores, weights=pesos, k=1)[0]\n",
    "\n",
    "# Etapa 4: Registrar função UDF\n",
    "from pyspark.sql.functions import udf\n",
    "from pyspark.sql.types import StringType\n",
    "\n",
    "amostrador_udf = udf(lambda: sample_by_distribution(), StringType())\n",
    "\n",
    "# Etapa 5: Aplicar no DataFrame para substituir os nulls\n",
    "dataframe = dataframe.withColumn(\n",
    "    \"make_name_int\",\n",
    "    when(col(\"make_name_int\").isNull(), amostrador_udf()).otherwise(col(\"make_name_int\"))\n",
    ")\n",
    "\n",
    "#dataframe_preenchido = dataframe.withColumn(\n",
    "#    \"make_name_int\",\n",
    "#    when(col(\"make_name_int\").isNull(), amostrador_udf()).otherwise(col(\"make_name_int\"))\n",
    "#)\n",
    "\n",
    "# Agrupa os dados pela coluna \"make_name_int\" e conta as ocorrências\n",
    "grouped_df_mod = dataframe.groupBy(\"make_name_int\").count()\n",
    "#grouped_df_mod = dataframe_preenchido.groupBy(\"make_name_int\").count()\n",
    "\n",
    "# Ordena os resultados pela contagem em ordem decrescente\n",
    "grouped_df_mod.orderBy(F.col(\"count\").desc()).show(20, truncate=False)\n",
    "\n",
    "# Garante que a coluna make_name_int seja do tipo IntegerType\n",
    "dataframe = dataframe.withColumn(\n",
    "    \"make_name_int\", col(\"make_name_int\").cast(IntegerType())\n",
    ")"
   ]
  },
  {
   "cell_type": "markdown",
   "id": "7d18ec2a-b7f9-4152-861e-e9fa38cc2c9e",
   "metadata": {},
   "source": [
    "### listing_color string  ###"
   ]
  },
  {
   "cell_type": "code",
   "execution_count": null,
   "id": "a18bbf41-aef1-4130-9f73-e52d72f272bb",
   "metadata": {},
   "outputs": [],
   "source": [
    "# Lista das marcas válidas - coluna make_name_int\n",
    "tipos_validos_make = [\n",
    "    \"Black\", \"White\", \"Silver\", \"Gray\", \"Blue\", \"Red\", \"Green\", \"Brown\",\n",
    "    \"Gold\", \"Yellow\", \"Orange\", \"Purple\", \"Beige\", \"Maroon\"\n",
    "]\n",
    "\n",
    "\n",
    "# Criar a coluna make_name_int com base nos valores\n",
    "dataframe = dataframe.withColumn(\"listing_color_int\", F.lit(None))\n",
    "\n",
    "# Cria expressões regex para cada marca e aplica com .rlike() ignorando o case\n",
    "for i, marca in enumerate(tipos_validos_make, start=1):\n",
    "    regex = f\"(?i)^{marca}$\"  # ignora maiúsculas/minúsculas\n",
    "    dataframe = dataframe.withColumn(\n",
    "        \"listing_color_int\",\n",
    "        F.when(F.col(\"listing_color\").rlike(regex), i).otherwise(F.col(\"listing_color_int\"))\n",
    "    )\n",
    "\n",
    "# Converte a coluna \"make_name_int\" para tipo inteiro\n",
    "# dataframe = dataframe.withColumn(\"transmission_name_intt\", F.col(\"transmission_name_int\").cast(\"int\"))\n",
    "\n",
    "# Agrupa os dados pela coluna \"make_name_int\" e conta as ocorrências\n",
    "grouped_df = dataframe.groupBy(\"listing_color_int\").count()\n",
    "\n",
    "# Ordena os resultados pela contagem em ordem decrescente\n",
    "grouped_df.orderBy(F.col(\"count\").desc()).show(20, truncate=False)\n",
    "\n",
    "\n",
    "# dados nulos\n",
    "\n",
    "from pyspark.sql.functions import col, when, isnan, count\n",
    "import random\n",
    "\n",
    "# Etapa 1: Contar valores não nulos\n",
    "value_counts = (\n",
    "    dataframe.filter(col(\"listing_color_int\").isNotNull())\n",
    "    .groupBy(\"listing_color_int\")\n",
    "    .count()\n",
    "    .collect()\n",
    ")\n",
    "\n",
    "# Etapa 2: Calcular distribuição (probabilidades)\n",
    "total = sum(row[\"count\"] for row in value_counts)\n",
    "distribuicao = {row[\"listing_color_int\"]: row[\"count\"] / total for row in value_counts}\n",
    "\n",
    "# Etapa 3: Criar uma função que retorna um valor aleatório com base nas probabilidades\n",
    "def sample_by_distribution():\n",
    "    valores = list(distribuicao.keys())\n",
    "    pesos = list(distribuicao.values())\n",
    "    return random.choices(valores, weights=pesos, k=1)[0]\n",
    "\n",
    "# Etapa 4: Registrar função UDF\n",
    "from pyspark.sql.functions import udf\n",
    "from pyspark.sql.types import StringType\n",
    "\n",
    "amostrador_udf = udf(lambda: sample_by_distribution(), StringType())\n",
    "\n",
    "# Etapa 5: Aplicar no DataFrame para substituir os nulls\n",
    "dataframe = dataframe.withColumn(\n",
    "    \"listing_color_int\",\n",
    "    when(col(\"listing_color_int\").isNull(), amostrador_udf()).otherwise(col(\"listing_color_int\"))\n",
    ")\n",
    "\n",
    "#dataframe_preenchido = dataframe.withColumn(\n",
    "#    \"make_name_int\",\n",
    "#    when(col(\"make_name_int\").isNull(), amostrador_udf()).otherwise(col(\"make_name_int\"))\n",
    "#)\n",
    "\n",
    "# Agrupa os dados pela coluna \"make_name_int\" e conta as ocorrências\n",
    "grouped_df_mod = dataframe.groupBy(\"listing_color_int\").count()\n",
    "#grouped_df_mod = dataframe_preenchido.groupBy(\"make_name_int\").count()\n",
    "\n",
    "# Ordena os resultados pela contagem em ordem decrescente\n",
    "grouped_df_mod.orderBy(F.col(\"count\").desc()).show(20, truncate=False)\n",
    "\n",
    "# Garante que a coluna make_name_int seja do tipo IntegerType\n",
    "dataframe = dataframe.withColumn(\n",
    "    \"listing_color_int\", col(\"listing_color_int\").cast(IntegerType())\n",
    ")"
   ]
  },
  {
   "cell_type": "markdown",
   "id": "cb93db1c-dd75-44d0-9fbf-466c46010768",
   "metadata": {},
   "source": [
    "### fuel_type string ###"
   ]
  },
  {
   "cell_type": "code",
   "execution_count": null,
   "id": "62f6c171-fb0f-4dac-96a9-9f72d508d493",
   "metadata": {},
   "outputs": [],
   "source": [
    "# Lista das marcas válidas - coluna make_name_int\n",
    "tipos_validos_make = [\n",
    "    \"Gasoline\", \"Flex Fuel Vehicle\", \"Hybrid\", \"Diesel\", \"Biodiesel\", \"Electric\",\n",
    "]\n",
    "\n",
    "\n",
    "# Criar a coluna make_name_int com base nos valores\n",
    "dataframe = dataframe.withColumn(\"fuel_type_int\", F.lit(None))\n",
    "\n",
    "# Cria expressões regex para cada marca e aplica com .rlike() ignorando o case\n",
    "for i, marca in enumerate(tipos_validos_make, start=1):\n",
    "    regex = f\"(?i)^{marca}$\"  # ignora maiúsculas/minúsculas\n",
    "    dataframe = dataframe.withColumn(\n",
    "        \"fuel_type_int\",\n",
    "        F.when(F.col(\"fuel_type\").rlike(regex), i).otherwise(F.col(\"fuel_type_int\"))\n",
    "    )\n",
    "\n",
    "# Converte a coluna \"make_name_int\" para tipo inteiro\n",
    "# dataframe = dataframe.withColumn(\"transmission_name_intt\", F.col(\"transmission_name_int\").cast(\"int\"))\n",
    "\n",
    "# Agrupa os dados pela coluna \"make_name_int\" e conta as ocorrências\n",
    "grouped_df = dataframe.groupBy(\"fuel_type_int\").count()\n",
    "\n",
    "# Ordena os resultados pela contagem em ordem decrescente\n",
    "grouped_df.orderBy(F.col(\"count\").desc()).show(20, truncate=False)\n",
    "\n",
    "\n",
    "# dados nulos\n",
    "\n",
    "from pyspark.sql.functions import col, when, isnan, count\n",
    "import random\n",
    "\n",
    "# Etapa 1: Contar valores não nulos\n",
    "value_counts = (\n",
    "    dataframe.filter(col(\"fuel_type_int\").isNotNull())\n",
    "    .groupBy(\"fuel_type_int\")\n",
    "    .count()\n",
    "    .collect()\n",
    ")\n",
    "\n",
    "# Etapa 2: Calcular distribuição (probabilidades)\n",
    "total = sum(row[\"count\"] for row in value_counts)\n",
    "distribuicao = {row[\"fuel_type_int\"]: row[\"count\"] / total for row in value_counts}\n",
    "\n",
    "# Etapa 3: Criar uma função que retorna um valor aleatório com base nas probabilidades\n",
    "def sample_by_distribution():\n",
    "    valores = list(distribuicao.keys())\n",
    "    pesos = list(distribuicao.values())\n",
    "    return random.choices(valores, weights=pesos, k=1)[0]\n",
    "\n",
    "# Etapa 4: Registrar função UDF\n",
    "from pyspark.sql.functions import udf\n",
    "from pyspark.sql.types import StringType\n",
    "\n",
    "amostrador_udf = udf(lambda: sample_by_distribution(), StringType())\n",
    "\n",
    "# Etapa 5: Aplicar no DataFrame para substituir os nulls\n",
    "dataframe = dataframe.withColumn(\n",
    "    \"fuel_type_int\",\n",
    "    when(col(\"fuel_type_int\").isNull(), amostrador_udf()).otherwise(col(\"fuel_type_int\"))\n",
    ")\n",
    "\n",
    "#dataframe_preenchido = dataframe.withColumn(\n",
    "#    \"make_name_int\",\n",
    "#    when(col(\"make_name_int\").isNull(), amostrador_udf()).otherwise(col(\"make_name_int\"))\n",
    "#)\n",
    "\n",
    "# Agrupa os dados pela coluna \"make_name_int\" e conta as ocorrências\n",
    "grouped_df_mod = dataframe.groupBy(\"fuel_type_int\").count()\n",
    "#grouped_df_mod = dataframe_preenchido.groupBy(\"make_name_int\").count()\n",
    "\n",
    "# Ordena os resultados pela contagem em ordem decrescente\n",
    "grouped_df_mod.orderBy(F.col(\"count\").desc()).show(20, truncate=False)\n",
    "\n",
    "# Garante que a coluna make_name_int seja do tipo IntegerType\n",
    "dataframe = dataframe.withColumn(\n",
    "    \"fuel_type_int\", col(\"fuel_type_int\").cast(IntegerType())\n",
    ")"
   ]
  },
  {
   "cell_type": "markdown",
   "id": "4a92708a-2004-4810-9be2-bb530816e8a0",
   "metadata": {},
   "source": [
    "### ExteriorColor string ###"
   ]
  },
  {
   "cell_type": "code",
   "execution_count": null,
   "id": "68130611-be10-400d-b699-06c44897cd9d",
   "metadata": {},
   "outputs": [],
   "source": [
    "# Lista das marcas válidas - coluna make_name_int\n",
    "tipos_validos_make = [\n",
    "    \"Black\", \"White\", \"Silver\", \"Gray\", \"Blue\", \"Red\", \"Green\", \"Brown\",\n",
    "    \"Gold\", \"Yellow\", \"Orange\", \"Purple\", \"Beige\", \"Maroon\"\n",
    "]\n",
    "\n",
    "\n",
    "# Criar a coluna make_name_int com base nos valores\n",
    "dataframe = dataframe.withColumn(\"ExteriorColor_int\", F.lit(None))\n",
    "\n",
    "# Cria expressões regex para cada marca e aplica com .rlike() ignorando o case\n",
    "for i, marca in enumerate(tipos_validos_make, start=1):\n",
    "    regex = f\"(?i)^{marca}$\"  # ignora maiúsculas/minúsculas\n",
    "    dataframe = dataframe.withColumn(\n",
    "        \"ExteriorColor_int\",\n",
    "        F.when(F.col(\"ExteriorColor\").rlike(regex), i).otherwise(F.col(\"ExteriorColor_int\"))\n",
    "    )\n",
    "\n",
    "# Converte a coluna \"make_name_int\" para tipo inteiro\n",
    "# dataframe = dataframe.withColumn(\"transmission_name_intt\", F.col(\"transmission_name_int\").cast(\"int\"))\n",
    "\n",
    "# Agrupa os dados pela coluna \"make_name_int\" e conta as ocorrências\n",
    "grouped_df = dataframe.groupBy(\"ExteriorColor_int\").count()\n",
    "\n",
    "# Ordena os resultados pela contagem em ordem decrescente\n",
    "grouped_df.orderBy(F.col(\"count\").desc()).show(20, truncate=False)\n",
    "\n",
    "\n",
    "# dados nulos\n",
    "\n",
    "from pyspark.sql.functions import col, when, isnan, count\n",
    "import random\n",
    "\n",
    "# Etapa 1: Contar valores não nulos\n",
    "value_counts = (\n",
    "    dataframe.filter(col(\"ExteriorColor_int\").isNotNull())\n",
    "    .groupBy(\"ExteriorColor_int\")\n",
    "    .count()\n",
    "    .collect()\n",
    ")\n",
    "\n",
    "# Etapa 2: Calcular distribuição (probabilidades)\n",
    "total = sum(row[\"count\"] for row in value_counts)\n",
    "distribuicao = {row[\"ExteriorColor_int\"]: row[\"count\"] / total for row in value_counts}\n",
    "\n",
    "# Etapa 3: Criar uma função que retorna um valor aleatório com base nas probabilidades\n",
    "def sample_by_distribution():\n",
    "    valores = list(distribuicao.keys())\n",
    "    pesos = list(distribuicao.values())\n",
    "    return random.choices(valores, weights=pesos, k=1)[0]\n",
    "\n",
    "# Etapa 4: Registrar função UDF\n",
    "from pyspark.sql.functions import udf\n",
    "from pyspark.sql.types import StringType\n",
    "\n",
    "amostrador_udf = udf(lambda: sample_by_distribution(), StringType())\n",
    "\n",
    "# Etapa 5: Aplicar no DataFrame para substituir os nulls\n",
    "dataframe = dataframe.withColumn(\n",
    "    \"ExteriorColor_int\",\n",
    "    when(col(\"ExteriorColor_int\").isNull(), amostrador_udf()).otherwise(col(\"ExteriorColor_int\"))\n",
    ")\n",
    "\n",
    "#dataframe_preenchido = dataframe.withColumn(\n",
    "#    \"make_name_int\",\n",
    "#    when(col(\"make_name_int\").isNull(), amostrador_udf()).otherwise(col(\"make_name_int\"))\n",
    "#)\n",
    "\n",
    "# Agrupa os dados pela coluna \"make_name_int\" e conta as ocorrências\n",
    "grouped_df_mod = dataframe.groupBy(\"ExteriorColor_int\").count()\n",
    "#grouped_df_mod = dataframe_preenchido.groupBy(\"make_name_int\").count()\n",
    "\n",
    "# Ordena os resultados pela contagem em ordem decrescente\n",
    "grouped_df_mod.orderBy(F.col(\"count\").desc()).show(20, truncate=False)\n",
    "\n",
    "# Garante que a coluna make_name_int seja do tipo IntegerType\n",
    "dataframe = dataframe.withColumn(\n",
    "    \"ExteriorColor_int\", col(\"ExteriorColor_int\").cast(IntegerType())\n",
    ")"
   ]
  },
  {
   "cell_type": "markdown",
   "id": "cc72b18d-cb4f-4758-ac94-1ca0b94b3ee8",
   "metadata": {},
   "source": [
    "### EngineType string ###"
   ]
  },
  {
   "cell_type": "code",
   "execution_count": null,
   "id": "c547b96a-93f9-4a87-95cc-239fc1910559",
   "metadata": {},
   "outputs": [],
   "source": [
    "# Lista das marcas válidas - coluna make_name_int\n",
    "tipos_validos_make = [\n",
    "    \"I1\", \"I2\", \"I3\", \"I4\", \"I5\", \"I6\", \"I7\", \"I8\", \"I9\",\n",
    "    \"V1\", \"V2\", \"V3\", \"V4\", \"V5\", \"V6\", \"V7\", \"V8\", \"V9\",\n",
    "    \"H1\", \"H2\", \"H3\", \"H4\", \"H5\", \"H6\", \"H7\", \"H8\", \"H9\"\n",
    "]\n",
    "\n",
    "\n",
    "# Criar a coluna make_name_int com base nos valores\n",
    "dataframe = dataframe.withColumn(\"EngineType_int\", F.lit(None))\n",
    "\n",
    "# Cria expressões regex para cada marca e aplica com .rlike() ignorando o case\n",
    "for i, marca in enumerate(tipos_validos_make, start=1):\n",
    "    regex = f\"(?i)^{marca}$\"  # ignora maiúsculas/minúsculas\n",
    "    dataframe = dataframe.withColumn(\n",
    "        \"EngineType_int\",\n",
    "        F.when(F.col(\"EngineType\").rlike(regex), i).otherwise(F.col(\"EngineType_int\"))\n",
    "    )\n",
    "\n",
    "# Converte a coluna \"make_name_int\" para tipo inteiro\n",
    "# dataframe = dataframe.withColumn(\"transmission_name_intt\", F.col(\"transmission_name_int\").cast(\"int\"))\n",
    "\n",
    "# Agrupa os dados pela coluna \"make_name_int\" e conta as ocorrências\n",
    "grouped_df = dataframe.groupBy(\"EngineType_int\").count()\n",
    "\n",
    "# Ordena os resultados pela contagem em ordem decrescente\n",
    "grouped_df.orderBy(F.col(\"count\").desc()).show(20, truncate=False)\n",
    "\n",
    "\n",
    "# dados nulos\n",
    "\n",
    "from pyspark.sql.functions import col, when, isnan, count\n",
    "import random\n",
    "\n",
    "# Etapa 1: Contar valores não nulos\n",
    "value_counts = (\n",
    "    dataframe.filter(col(\"EngineType_int\").isNotNull())\n",
    "    .groupBy(\"EngineType_int\")\n",
    "    .count()\n",
    "    .collect()\n",
    ")\n",
    "\n",
    "# Etapa 2: Calcular distribuição (probabilidades)\n",
    "total = sum(row[\"count\"] for row in value_counts)\n",
    "distribuicao = {row[\"EngineType_int\"]: row[\"count\"] / total for row in value_counts}\n",
    "\n",
    "# Etapa 3: Criar uma função que retorna um valor aleatório com base nas probabilidades\n",
    "def sample_by_distribution():\n",
    "    valores = list(distribuicao.keys())\n",
    "    pesos = list(distribuicao.values())\n",
    "    return random.choices(valores, weights=pesos, k=1)[0]\n",
    "\n",
    "# Etapa 4: Registrar função UDF\n",
    "from pyspark.sql.functions import udf\n",
    "from pyspark.sql.types import StringType\n",
    "\n",
    "amostrador_udf = udf(lambda: sample_by_distribution(), StringType())\n",
    "\n",
    "# Etapa 5: Aplicar no DataFrame para substituir os nulls\n",
    "dataframe = dataframe.withColumn(\n",
    "    \"EngineType_int\",\n",
    "    when(col(\"EngineType_int\").isNull(), amostrador_udf()).otherwise(col(\"EngineType_int\"))\n",
    ")\n",
    "\n",
    "#dataframe_preenchido = dataframe.withColumn(\n",
    "#    \"make_name_int\",\n",
    "#    when(col(\"make_name_int\").isNull(), amostrador_udf()).otherwise(col(\"make_name_int\"))\n",
    "#)\n",
    "\n",
    "# Agrupa os dados pela coluna \"make_name_int\" e conta as ocorrências\n",
    "grouped_df_mod = dataframe.groupBy(\"EngineType_int\").count()\n",
    "#grouped_df_mod = dataframe_preenchido.groupBy(\"make_name_int\").count()\n",
    "\n",
    "# Ordena os resultados pela contagem em ordem decrescente\n",
    "grouped_df_mod.orderBy(F.col(\"count\").desc()).show(20, truncate=False)\n",
    "\n",
    "# Garante que a coluna make_name_int seja do tipo IntegerType\n",
    "dataframe = dataframe.withColumn(\n",
    "    \"EngineType_int\", col(\"EngineType_int\").cast(IntegerType())\n",
    ")"
   ]
  },
  {
   "cell_type": "markdown",
   "id": "5c6a1869-8305-45db-9a1f-85f9733fce8a",
   "metadata": {},
   "source": [
    "### BodyType string ###"
   ]
  },
  {
   "cell_type": "code",
   "execution_count": null,
   "id": "0efafd50-d597-41b4-bbe5-ab026e817863",
   "metadata": {},
   "outputs": [],
   "source": [
    "# Lista das marcas válidas - coluna make_name_int\n",
    "tipos_validos_make = [\n",
    "   \"SUV / Crossover\", \"Sedan\", \"Pickup Truck\", \"Hatchback\",\n",
    "    \"Minivan\", \"Coupe\", \"Van\", \"Wagon\", \"Convertible\"\n",
    "]\n",
    "\n",
    "\n",
    "# Criar a coluna make_name_int com base nos valores\n",
    "dataframe = dataframe.withColumn(\"BodyType_int\", F.lit(None))\n",
    "\n",
    "# Cria expressões regex para cada marca e aplica com .rlike() ignorando o case\n",
    "for i, marca in enumerate(tipos_validos_make, start=1):\n",
    "    regex = f\"(?i)^{marca}$\"  # ignora maiúsculas/minúsculas\n",
    "    dataframe = dataframe.withColumn(\n",
    "        \"BodyType_int\",\n",
    "        F.when(F.col(\"BodyType\").rlike(regex), i).otherwise(F.col(\"BodyType_int\"))\n",
    "    )\n",
    "\n",
    "# Converte a coluna \"make_name_int\" para tipo inteiro\n",
    "# dataframe = dataframe.withColumn(\"transmission_name_intt\", F.col(\"transmission_name_int\").cast(\"int\"))\n",
    "\n",
    "# Agrupa os dados pela coluna \"make_name_int\" e conta as ocorrências\n",
    "grouped_df = dataframe.groupBy(\"BodyType_int\").count()\n",
    "\n",
    "# Ordena os resultados pela contagem em ordem decrescente\n",
    "grouped_df.orderBy(F.col(\"count\").desc()).show(20, truncate=False)\n",
    "\n",
    "\n",
    "# dados nulos\n",
    "\n",
    "from pyspark.sql.functions import col, when, isnan, count\n",
    "import random\n",
    "\n",
    "# Etapa 1: Contar valores não nulos\n",
    "value_counts = (\n",
    "    dataframe.filter(col(\"BodyType_int\").isNotNull())\n",
    "    .groupBy(\"BodyType_int\")\n",
    "    .count()\n",
    "    .collect()\n",
    ")\n",
    "\n",
    "# Etapa 2: Calcular distribuição (probabilidades)\n",
    "total = sum(row[\"count\"] for row in value_counts)\n",
    "distribuicao = {row[\"BodyType_int\"]: row[\"count\"] / total for row in value_counts}\n",
    "\n",
    "# Etapa 3: Criar uma função que retorna um valor aleatório com base nas probabilidades\n",
    "def sample_by_distribution():\n",
    "    valores = list(distribuicao.keys())\n",
    "    pesos = list(distribuicao.values())\n",
    "    return random.choices(valores, weights=pesos, k=1)[0]\n",
    "\n",
    "# Etapa 4: Registrar função UDF\n",
    "from pyspark.sql.functions import udf\n",
    "from pyspark.sql.types import StringType\n",
    "\n",
    "amostrador_udf = udf(lambda: sample_by_distribution(), StringType())\n",
    "\n",
    "# Etapa 5: Aplicar no DataFrame para substituir os nulls\n",
    "dataframe = dataframe.withColumn(\n",
    "    \"BodyType_int\",\n",
    "    when(col(\"BodyType_int\").isNull(), amostrador_udf()).otherwise(col(\"BodyType_int\"))\n",
    ")\n",
    "\n",
    "#dataframe_preenchido = dataframe.withColumn(\n",
    "#    \"make_name_int\",\n",
    "#    when(col(\"make_name_int\").isNull(), amostrador_udf()).otherwise(col(\"make_name_int\"))\n",
    "#)\n",
    "\n",
    "# Agrupa os dados pela coluna \"make_name_int\" e conta as ocorrências\n",
    "grouped_df_mod = dataframe.groupBy(\"BodyType_int\").count()\n",
    "#grouped_df_mod = dataframe_preenchido.groupBy(\"make_name_int\").count()\n",
    "\n",
    "# Ordena os resultados pela contagem em ordem decrescente\n",
    "grouped_df_mod.orderBy(F.col(\"count\").desc()).show(20, truncate=False)\n",
    "\n",
    "# Garante que a coluna make_name_int seja do tipo IntegerType\n",
    "dataframe = dataframe.withColumn(\n",
    "    \"BodyType_int\", col(\"BodyType_int\").cast(IntegerType())\n",
    ")"
   ]
  },
  {
   "cell_type": "markdown",
   "id": "2a58dc4a-d4fa-45a6-9374-d557c2727d1c",
   "metadata": {},
   "source": [
    "## Preparando dados ##"
   ]
  },
  {
   "cell_type": "code",
   "execution_count": null,
   "id": "1231de5b-7794-4b5d-9cde-423e34149b45",
   "metadata": {},
   "outputs": [],
   "source": [
    "# filtrando as colunas strings\n",
    "int_columns = [field.name for field in dataframe.schema.fields if isinstance(field.dataType, IntegerType)]\n",
    "\n",
    "# printando o nome das colunas string\n",
    "print(int_columns)"
   ]
  },
  {
   "cell_type": "code",
   "execution_count": null,
   "id": "971236c8-05e9-4b51-8c51-a69eaa5aa76b",
   "metadata": {},
   "outputs": [],
   "source": [
    "input_columns = ['Fleet', 'FrameDamaged', 'has_accidents', 'isCab', 'is_new', 'salvage','BackLegroom','fuel_tank_volume','maximum_seating','year','wheel_system_int',\n",
    "                 'transmission_int','model_name_int','make_name_int','listing_color_int','fuel_type_int','ExteriorColor_int','EngineType_int','BodyType_int']"
   ]
  },
  {
   "cell_type": "code",
   "execution_count": null,
   "id": "fcde8746-af64-43f1-965c-89d8df356121",
   "metadata": {
    "scrolled": true
   },
   "outputs": [],
   "source": [
    "# Usar o VectorAssembler para combinar as colunas escolhidas em uma nova coluna 'features'\n",
    "assembler = VectorAssembler(inputCols=input_columns, outputCol=\"features\")\n",
    "\n",
    "# Aplicar o assembler ao dataframe\n",
    "data_with_features = assembler.transform(dataframe)\n",
    "\n",
    "# Mostrar os dados transformados\n",
    "data_with_features.select(\"features\", \"price\").show(5)"
   ]
  },
  {
   "cell_type": "code",
   "execution_count": null,
   "id": "e7e0270e-9029-4d10-8f3d-1f3bf77c61b1",
   "metadata": {},
   "outputs": [],
   "source": [
    "# Dividir os dados em 70% para treino e 30% para teste\n",
    "train_df, test_df = data_with_features.randomSplit([0.7, 0.3], seed=1234)\n",
    "\n",
    "# Verificar o número de registros em cada conjunto\n",
    "print(f\"Número de registros no conjunto de treino: {train_df.count()}\")\n",
    "print(f\"Número de registros no conjunto de teste: {test_df.count()}\")\n"
   ]
  },
  {
   "cell_type": "code",
   "execution_count": null,
   "id": "b5f57ff4-afc8-41f4-922b-a345b10f0bd2",
   "metadata": {},
   "outputs": [],
   "source": [
    "# Remover registros com valores nulos na coluna 'price'\n",
    "train_df = train_df.na.drop(subset=[\"price\"])\n",
    "test_df = test_df.na.drop(subset=[\"price\"])"
   ]
  },
  {
   "cell_type": "markdown",
   "id": "da7d5bd7-70d3-4dd6-8fb9-ff6f3ed05200",
   "metadata": {},
   "source": [
    "# Model #"
   ]
  },
  {
   "cell_type": "markdown",
   "id": "f561f606-acd0-4081-8274-3c49db587e53",
   "metadata": {},
   "source": [
    "## Regressão Linear ##"
   ]
  },
  {
   "cell_type": "code",
   "execution_count": null,
   "id": "ef6828b0-d273-4ff9-955e-c6894006da79",
   "metadata": {},
   "outputs": [],
   "source": [
    "# Criar o modelo de regressão linear\n",
    "lr = LinearRegression(featuresCol=\"features\", labelCol=\"price\")\n",
    "\n",
    "# Treinar o modelo com os dados de treino\n",
    "lr_model = lr.fit(train_df)\n",
    "\n",
    "# Fazer previsões com os dados de teste\n",
    "predictions = lr_model.transform(test_df)\n",
    "\n",
    "# Mostrar algumas previsões\n",
    "predictions.select(\"price\", \"prediction\").show(5)"
   ]
  },
  {
   "cell_type": "code",
   "execution_count": null,
   "id": "f0665f74-48e1-4645-bcf1-828995ab5fdb",
   "metadata": {},
   "outputs": [],
   "source": [
    "# Criar o avaliador de regressão\n",
    "evaluator = RegressionEvaluator(labelCol=\"price\", predictionCol=\"prediction\", metricName=\"rmse\")\n",
    "\n",
    "# Calcular o RMSE\n",
    "rmse = evaluator.evaluate(predictions)\n",
    "print(f\"Root Mean Squared Error (RMSE) = {rmse}\")\n",
    "\n",
    "# Avaliar o R2 (coeficiente de determinação)\n",
    "evaluator.setMetricName(\"r2\")\n",
    "r2 = evaluator.evaluate(predictions)\n",
    "print(f\"R2 = {r2}\")\n"
   ]
  },
  {
   "cell_type": "code",
   "execution_count": null,
   "id": "57c05b89-225b-4793-9011-2cc363054325",
   "metadata": {},
   "outputs": [],
   "source": [
    "# Coletar as previsões e valores reais\n",
    "predicted_values = predictions.select(\"price\", \"prediction\").toPandas()\n",
    "\n",
    "# Criar o gráfico de dispersão\n",
    "plt.figure(figsize=(10, 6))\n",
    "plt.scatter(predicted_values[\"price\"], predicted_values[\"prediction\"], color='blue', alpha=0.5)\n",
    "plt.plot([min(predicted_values[\"price\"]), max(predicted_values[\"price\"])], \n",
    "         [min(predicted_values[\"price\"]), max(predicted_values[\"price\"])], color='red', linewidth=2)\n",
    "plt.xlabel(\"Valor Real (Price)\")\n",
    "plt.ylabel(\"Valor Previsto (Prediction)\")\n",
    "plt.title(\"Comparação entre Valores Reais e Previstos\")\n",
    "plt.show()\n"
   ]
  },
  {
   "cell_type": "markdown",
   "id": "1f8f19ee-fbf1-4f4f-b55c-beb86cb0a3d4",
   "metadata": {},
   "source": [
    "## Logistic Regression ##"
   ]
  },
  {
   "cell_type": "code",
   "execution_count": null,
   "id": "b14056ff-dd1c-4f3b-88c0-1a2d7ac061a8",
   "metadata": {},
   "outputs": [],
   "source": [
    "#Random Forest Regressor\n",
    "\n",
    "# Define parametros\n",
    "num_trees = 100          # Quantidade de árvores\n",
    "max_depth = 10           # Profundidade máxima de cada árvore\n",
    "subsample_rate = 1.0     # Taxa de amostragem (1.0 = usar todos os dados)\n",
    "random_seed = 42         # Semente para reprodutibilidade\n",
    "\n",
    "# Criar o modelo Random Forest\n",
    "rf = RandomForestRegressor(\n",
    "    featuresCol=\"features\",\n",
    "    labelCol=\"price\",\n",
    "    numTrees=num_trees,\n",
    "    maxDepth=max_depth,\n",
    "    subsamplingRate=subsample_rate,\n",
    "    seed=random_seed\n",
    ")\n",
    "\n",
    "# Treinar o modelo com os dados de treino\n",
    "rf_model = rf.fit(train_df)\n",
    "\n",
    "# Fazer previsões com os dados de teste\n",
    "predictions = rf_model.transform(test_df)\n",
    "\n",
    "# Mostrar algumas previsões\n",
    "predictions.select(\"price\", \"prediction\").show(5)\n",
    "\n",
    "# Avaliar o modelo com RMSE\n",
    "evaluator = RegressionEvaluator(labelCol=\"price\", predictionCol=\"prediction\", metricName=\"rmse\")\n",
    "rmse = evaluator.evaluate(predictions)\n",
    "print(f\"Root Mean Squared Error (RMSE) = {rmse}\")\n",
    "\n",
    "# Avaliar o modelo com R2\n",
    "evaluator.setMetricName(\"r2\")\n",
    "r2 = evaluator.evaluate(predictions)\n",
    "print(f\"R2 = {r2}\")\n"
   ]
  },
  {
   "cell_type": "code",
   "execution_count": null,
   "id": "4c69e402-ec83-47b4-99fd-d91d22b8dcb5",
   "metadata": {},
   "outputs": [],
   "source": [
    "# Extrair dados para visualização\n",
    "predicted_values = predictions.select(\"price\", \"prediction\").toPandas()\n",
    "\n",
    "# Gráfico de dispersão\n",
    "plt.figure(figsize=(10, 6))\n",
    "plt.scatter(predicted_values[\"price\"], predicted_values[\"prediction\"], color='green', alpha=0.5)\n",
    "plt.plot([predicted_values[\"price\"].min(), predicted_values[\"price\"].max()],\n",
    "         [predicted_values[\"price\"].min(), predicted_values[\"price\"].max()], color='red', linewidth=2)\n",
    "plt.xlabel(\"Valor Real (Price)\")\n",
    "plt.ylabel(\"Valor Previsto (Prediction)\")\n",
    "plt.title(\"Random Forest: Comparação entre Valores Reais e Previstos\")\n",
    "plt.tight_layout()\n",
    "plt.show()\n"
   ]
  },
  {
   "cell_type": "code",
   "execution_count": null,
   "id": "580f0388-b11e-4111-888a-21de4b3e7f6d",
   "metadata": {},
   "outputs": [],
   "source": []
  },
  {
   "cell_type": "code",
   "execution_count": null,
   "id": "7272baab-f3ce-4545-8780-bd68ced6e56e",
   "metadata": {},
   "outputs": [],
   "source": []
  }
 ],
 "metadata": {
  "kernelspec": {
   "display_name": "Python 3 (ipykernel)",
   "language": "python",
   "name": "python3"
  },
  "language_info": {
   "codemirror_mode": {
    "name": "ipython",
    "version": 3
   },
   "file_extension": ".py",
   "mimetype": "text/x-python",
   "name": "python",
   "nbconvert_exporter": "python",
   "pygments_lexer": "ipython3",
   "version": "3.11.6"
  }
 },
 "nbformat": 4,
 "nbformat_minor": 5
}
