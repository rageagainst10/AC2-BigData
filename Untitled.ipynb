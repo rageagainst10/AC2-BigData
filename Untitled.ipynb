{
 "cells": [
  {
   "cell_type": "markdown",
   "id": "7a640996-42d0-4c63-9d3f-cdb9f232e0da",
   "metadata": {
    "jp-MarkdownHeadingCollapsed": true
   },
   "source": [
    "# Imports #"
   ]
  },
  {
   "cell_type": "code",
   "execution_count": 1,
   "id": "d458d437-189b-432a-a282-597cea3fbe1e",
   "metadata": {},
   "outputs": [],
   "source": [
    "# Importando todas as bibliotecas do projeto\n",
    "from pyspark.sql import SparkSession\n",
    "from pyspark.ml.feature import VectorAssembler\n",
    "from pyspark.ml import Pipeline\n",
    "from pyspark.ml.evaluation import MulticlassClassificationEvaluator\n",
    "from pyspark.sql.types import StructType, StructField, StringType, IntegerType, FloatType, BooleanType\n",
    "from pyspark.sql.functions import col, regexp_replace, to_date, regexp_extract, when, lit, avg, isnan, count as spark_count\n",
    "import matplotlib.pyplot as plt\n",
    "import numpy as np\n",
    "import seaborn as sns\n",
    "\n",
    "\n",
    "# Criando a sessão do spark\n",
    "spark = SparkSession.builder \\\n",
    "    .appName(\"US Used cars dataset\") \\\n",
    "    .getOrCreate()"
   ]
  },
  {
   "cell_type": "markdown",
   "id": "67cd2883-ebd7-43f7-ab4f-3bfd79273af6",
   "metadata": {
    "jp-MarkdownHeadingCollapsed": true
   },
   "source": [
    "# Read Dataset #"
   ]
  },
  {
   "cell_type": "code",
   "execution_count": 2,
   "id": "1e08a806-68d3-4d1a-9311-b8295af0508c",
   "metadata": {},
   "outputs": [],
   "source": [
    "# Tipando manualmente o schema do dataframe no PySpark, especificando os nomes das colunas e os tipos de dados.\n",
    "schema = StructType([\n",
    "    StructField(\"Vin\", StringType(), True), #Tipo String. O Número de Identificação do Veículo é uma string codificada exclusiva para cada veículo (ex: \"ZACNJABB5KPJ92081\").\n",
    "    StructField(\"BackLegroom\", StringType(), True), #Tipo String. Espaço para as pernas no banco traseiro (ex: \"35.1 in\").\n",
    "    StructField(\"Bed\", StringType(), True), #Tipo String. Categoria do tamanho da caçamba (área de carga aberta) em caminhonete. Nulo geralmente significa que o veículo não é uma caminhonete (ex: \"NULL 99%\").\n",
    "    StructField(\"BedHeight\", StringType(), True), #Tipo String. Altura da caçamba em polegadas (ex: \"NULL 86#\").\n",
    "    StructField(\"BedLength\", StringType(), True), #Tipo String. Comprimento da caçamba em polegadas (ex: \"NULL 86%\").\n",
    "    StructField(\"BodyType\", StringType(), True), #Tipo String. Tipo de carroceria do veículo. Como Conversível, Hatchback, Sedan, etc (ex: \"SUV / Crossover\").\n",
    "    StructField(\"Cabin\", StringType(), True), #Tipo String. Categoria do tamanho da cabine (área de carga aberta) em caminhonete (ex: \"NULL 98%\").\n",
    "    StructField(\"City\", StringType(), True), #Tipo String. cidade onde o carro está listado (ex: \"Houston, San Antonio,\").\n",
    "    StructField(\"CityFuelEconomy\", FloatType(), True), # Tipo Float. A economia de combustível combinada é uma média ponderada da economia de combustível na cidade e na rodovia, em km por litro (ex: \"grafico, verificar\").\n",
    "    StructField(\"CombineFuelEconomy\", FloatType(), True), #Tipo Float. A economia de combustível combinada é uma média ponderada da economia de combustível na cidade e na rodovia, em km por litro (ex: \"NULL 100%\").\n",
    "    StructField(\"DaysOnMarket\", IntegerType(), True), #Tipo Inteiro. Dias desde que o veículo foi anunciado pela primeira vez no site (ex: \"522\").\n",
    "    StructField(\"DealerZip\", IntegerType(), True), #Tipo Inteiro. CEP do revendedor (ex: \"00960\").\n",
    "    StructField(\"Description\", StringType(), True), #Tipo String. Descrição do veículo na página de listagem do veículo(ex: \"[!@@Additional Info@@!]Engine: 2.4L I4 ZERO EVAP M-AIR,Full Size Temporary Use Spare Tire,Manufactur...\").\n",
    "    StructField(\"EngineCylinders\", StringType(), True), #Tipo String. A configuração do motor (ex: \" I4, V6\").\n",
    "    StructField(\"EngineDisplacement\", FloatType(), True), #Tipo Float. engine_displacement é a medida do volume do cilindro varrido por todos os pistões de um motor a pistão, excluindo as câmaras de combustão (ex: \"1300.0\").\n",
    "    StructField(\"EngineType\", StringType(), True), #Tipo String. A configuração do motor(ex: \"I4, V6\").\n",
    "    StructField(\"ExteriorColor\", StringType(), True), #Tipo String. Cor externa do veículo, geralmente uma cor sofisticada, igual à do folheto (ex: \"Solar Yellow\").\n",
    "    StructField(\"Fleet\", BooleanType(), True), #Tipo booleano. Se o veículo já fez parte de uma frota (ex: \"True, False, NULL 48%\").\n",
    "    StructField(\"FrameDamaged\", BooleanType(), True), #Tipo booleano. Indica se o chassi do veículo está danificado (ex: \"\"True, False, NULL 48%).\n",
    "    StructField(\"FranchiseDealer\", BooleanType(), True), #Tipo booleano. Indica se o revendedor é um franqueado (ex: \"True, False\").\n",
    "    StructField(\"FranchiseMake\", StringType(), True), #Tipo String. A empresa proprietária da franquia (ex: \"Jeep, NULL 19%\").\n",
    "    StructField(\"FrontLegroom\", StringType(), True), #Tipo String. Espaço para as pernas em polegadas para o assento do passageiro (ex: \"41.2 in\").\n",
    "    StructField(\"fuel_tank_volume\", StringType(), True), #Tipo String. Capacidade de enchimento do tanque de combustível em galões (ex: \"12.7 gal\").\n",
    "    StructField(\"fuel_type\", StringType(), True), #Tipo String. Tipo dominante de combustível ingerido pelo veículo (ex: \"Gasoline\").\n",
    "    StructField(\"has_accidents\", BooleanType(), True), #Tipo booleano. Se o veiculo possui algum acidente registrado (ex: \"True, False, NUUL 48%\").\n",
    "    StructField(\"height\", StringType(), True), #Tipo String. Altura do veículo em polegadas (ex: \"66.5 in\").\n",
    "    StructField(\"highway_fuel_economy\", FloatType(), True), # Tipo Float. Economia de combustível no trânsito rodoviário em km por litro (ex: \"23.0, verificar\").\n",
    "    StructField(\"horsepower\", FloatType(), True), # Tipo Float. Potência é a potência produzida por um motor (ex: \"177.0, verificar\").\n",
    "    StructField(\"interior_color\", StringType(), True), #Tipo String. Cor do interior do veículo, geralmente uma cor sofisticada, igual à do folheto (ex: \"Black\").\n",
    "    StructField(\"isCab\", BooleanType(), True), #Tipo booleano. Se o veículo era anteriormente era um táxi (ex: \"True, False, NULL 48%\").\n",
    "    StructField(\"is_certified\", BooleanType(), True), # Tipo booleano. Se o veículo é certificado. Carros certificados são cobertos durante o período de garantia (ex: \"NULL 100%\").\n",
    "    StructField(\"is_cpo\", BooleanType(), True), #Tipo booleano. Carros usados ​​certificados pela concessionária. Veículos certificados contam com garantia do fabricante para reparos gratuitos por um determinado período (ex: \"True, False, NULL 94%\").\n",
    "    StructField(\"is_new\", BooleanType(), True), #Tipo booleano. Se True, significa que o veículo foi lançado há menos de 2 anos (ex: \"True, False\").\n",
    "    StructField(\"is_oemcpo\", BooleanType(), True), #Tipo booleano. Carros usados ​​certificados pelo fabricante. Saiba mais em (ex: \"True, False, NULL 95%\").\n",
    "    StructField(\"latitude\", FloatType(), True), #Digite Float. Latitude a partir da geolocalização da concessionária. (ex: \"18.3988 verificar\").\n",
    "    StructField(\"length\", StringType(), True), #Tipo String. Comprimento do veículo em polegadas (ex: \"166.6 in\").\n",
    "    StructField(\"listed_date\", StringType(), True),  #Tipo String. A data em que o veículo foi anunciado no site. Não torna o days_on_market obsoleto. O preço é days_on_market dias após a data anunciada (ex: \"2019-04-06\").\n",
    "    StructField(\"listing_color\", StringType(), True), #Tipo String. Grupo de cores dominante da cor externa (ex: \"YELLOW\").\n",
    "    StructField(\"listing_id\", IntegerType(), True), # Tipo Único Inteiro. ID de listagem do site (ex: \"237132766\").\n",
    "    StructField(\"longitude\", FloatType(), True), #Digite Float. Longitude a partir da geolocalização da concessionária (ex: \"-66.1582 verificar\").\n",
    "    StructField(\"main_picture_url\", StringType(), True), #Tipo String (ex: \"https://static.cargurus.com/images/forsale/20..., NULL 12%\").\n",
    "    StructField(\"major_options\", StringType(), True), #É um array verificar dps (ex: \"['Quick Order Package'], verificar pq é um array\").\n",
    "    StructField(\"make_name\", StringType(), True), #Nome da marca (ex: Jeep)\n",
    "    StructField(\"maximum_seating\", StringType(), True), #Assentos máximos (ex: \"5 seats\")\n",
    "    StructField(\"mileage\", FloatType(), True), #Quilometragem (ex: 7.0)\n",
    "    StructField(\"model_name\", StringType(), True), #Nome do modelo (ex: \"Renegade\")\n",
    "    StructField(\"owner_count\", IntegerType(), True), #Número de proprietários (ex: 1 a 19)\n",
    "    StructField(\"power\", StringType(), True), #Potência do veículo (ex: \"177 hp @ 5,750 RPM\")\n",
    "    StructField(\"price\", FloatType(), True), #Preço do veículo (ex: 23141.0)\n",
    "    StructField(\"salvage\", BooleanType(), True), #Indicador de salvamento (True ou False)\n",
    "    StructField(\"savings_amount\", IntegerType(), True), #Quantia de economia (ex: de 0 até 147k)\n",
    "    StructField(\"seller_rating\", FloatType(), True), #Avaliação do vendedor (ex: 2.8)\n",
    "    StructField(\"sp_id\", IntegerType(), True), #ID do vendedor/revendedor (ex: 370599)\n",
    "    StructField(\"sp_name\", StringType(), True), #Nome do vendedor/revendedor (ex: \"Flagship Chrysler\")\n",
    "    StructField(\"theft_title\", BooleanType(), True), #Indica se o título do veículo é de roubo (True ou False)\n",
    "    StructField(\"torque\", StringType(), True), # Torque do motor (ex: \"200 lb-ft @ 1,750 RPM\")\n",
    "    StructField(\"transmission\", StringType(), True), #Tipo de transmissão (ex: \"A\" ou \"CVT\")\n",
    "    StructField(\"transmission_display\", StringType(), True), # Tipo de transmissão legível (ex: \"9-Speed Automatic Overdrive\")\n",
    "    StructField(\"trimId\", StringType(), True), #Identificador do acabamento (ex: \"t87739\")\n",
    "    StructField(\"trim_name\", StringType(), True), #Nome do acabamento do veículo (ex: \"SE FWD\")\n",
    "    StructField(\"vehicle_damage_category\", StringType(), True), #Categoria de danos do veículo (ex: \"null\")\n",
    "    StructField(\"wheel_system\", StringType(), True), #Tipo de tração (ex: \"AWD\", \"FWD\", \"RWD\", \"4WD\")\n",
    "    StructField(\"wheel_system_display\", StringType(), True), # Exibição do sistema de tração (ex: \"Front-Wheel Drive\")\n",
    "    StructField(\"wheelbase\", StringType(), True), # Distância entre os eixos (ex: \"101.2 in\")\n",
    "    StructField(\"width\", StringType(), True), # Largura do veículo (ex: \"79.6 in\")\n",
    "    StructField(\"year\", IntegerType(), True) # Ano do modelo (ex: 2019)\n",
    "])"
   ]
  },
  {
   "cell_type": "code",
   "execution_count": 3,
   "id": "df522158-8a24-4bf6-8c81-34c6be0e50fe",
   "metadata": {},
   "outputs": [
    {
     "name": "stdout",
     "output_type": "stream",
     "text": [
      "Número de linhas no DataFrame: 3000507\n"
     ]
    }
   ],
   "source": [
    "# Passando o dataset dentro da variavel dataframe e printando o numero de linhas para confirmar que o dataset esta completo.\n",
    "dataframe = spark.read.csv(\"used_cars_data.csv\",header=True, schema=schema)\n",
    "#dataframe = dataframe.limit(1000000)\n",
    "num_linhas = dataframe.count()\n",
    "print(f\"Número de linhas no DataFrame: {num_linhas}\")"
   ]
  },
  {
   "cell_type": "markdown",
   "id": "4bee1845-7785-43ec-bfea-15e23b2376c5",
   "metadata": {
    "jp-MarkdownHeadingCollapsed": true
   },
   "source": [
    "# Data Analysis #"
   ]
  },
  {
   "cell_type": "code",
   "execution_count": 4,
   "id": "39bac4e7-cce3-4904-bbc1-0d5f409cd249",
   "metadata": {},
   "outputs": [
    {
     "name": "stdout",
     "output_type": "stream",
     "text": [
      "Tipo: string, Quantidade: 38\n",
      "Tipo: float, Quantidade: 10\n",
      "Tipo: int, Quantidade: 7\n",
      "Tipo: boolean, Quantidade: 11\n"
     ]
    }
   ],
   "source": [
    "# Obtem os tipos de colunas\n",
    "column_types = dataframe.dtypes\n",
    "\n",
    "# Conta a quantidade de cada tipo de dado\n",
    "type_counts = {}\n",
    "\n",
    "for column, dtype in column_types:\n",
    "    if dtype not in type_counts:\n",
    "        type_counts[dtype] = 0\n",
    "    type_counts[dtype] += 1\n",
    "\n",
    "# Printa a quantidade de cada tipo de dado\n",
    "for dtype, count in type_counts.items():\n",
    "    print(f\"Tipo: {dtype}, Quantidade: {count}\")"
   ]
  },
  {
   "cell_type": "code",
   "execution_count": 5,
   "id": "17617060-2f25-408c-9c6f-37417f01b96c",
   "metadata": {},
   "outputs": [
    {
     "name": "stdout",
     "output_type": "stream",
     "text": [
      "root\n",
      " |-- Vin: string (nullable = true)\n",
      " |-- BackLegroom: string (nullable = true)\n",
      " |-- Bed: string (nullable = true)\n",
      " |-- BedHeight: string (nullable = true)\n",
      " |-- BedLength: string (nullable = true)\n",
      " |-- BodyType: string (nullable = true)\n",
      " |-- Cabin: string (nullable = true)\n",
      " |-- City: string (nullable = true)\n",
      " |-- CityFuelEconomy: float (nullable = true)\n",
      " |-- CombineFuelEconomy: float (nullable = true)\n",
      " |-- DaysOnMarket: integer (nullable = true)\n",
      " |-- DealerZip: integer (nullable = true)\n",
      " |-- Description: string (nullable = true)\n",
      " |-- EngineCylinders: string (nullable = true)\n",
      " |-- EngineDisplacement: float (nullable = true)\n",
      " |-- EngineType: string (nullable = true)\n",
      " |-- ExteriorColor: string (nullable = true)\n",
      " |-- Fleet: boolean (nullable = true)\n",
      " |-- FrameDamaged: boolean (nullable = true)\n",
      " |-- FranchiseDealer: boolean (nullable = true)\n",
      " |-- FranchiseMake: string (nullable = true)\n",
      " |-- FrontLegroom: string (nullable = true)\n",
      " |-- fuel_tank_volume: string (nullable = true)\n",
      " |-- fuel_type: string (nullable = true)\n",
      " |-- has_accidents: boolean (nullable = true)\n",
      " |-- height: string (nullable = true)\n",
      " |-- highway_fuel_economy: float (nullable = true)\n",
      " |-- horsepower: float (nullable = true)\n",
      " |-- interior_color: string (nullable = true)\n",
      " |-- isCab: boolean (nullable = true)\n",
      " |-- is_certified: boolean (nullable = true)\n",
      " |-- is_cpo: boolean (nullable = true)\n",
      " |-- is_new: boolean (nullable = true)\n",
      " |-- is_oemcpo: boolean (nullable = true)\n",
      " |-- latitude: float (nullable = true)\n",
      " |-- length: string (nullable = true)\n",
      " |-- listed_date: string (nullable = true)\n",
      " |-- listing_color: string (nullable = true)\n",
      " |-- listing_id: integer (nullable = true)\n",
      " |-- longitude: float (nullable = true)\n",
      " |-- main_picture_url: string (nullable = true)\n",
      " |-- major_options: string (nullable = true)\n",
      " |-- make_name: string (nullable = true)\n",
      " |-- maximum_seating: string (nullable = true)\n",
      " |-- mileage: float (nullable = true)\n",
      " |-- model_name: string (nullable = true)\n",
      " |-- owner_count: integer (nullable = true)\n",
      " |-- power: string (nullable = true)\n",
      " |-- price: float (nullable = true)\n",
      " |-- salvage: boolean (nullable = true)\n",
      " |-- savings_amount: integer (nullable = true)\n",
      " |-- seller_rating: float (nullable = true)\n",
      " |-- sp_id: integer (nullable = true)\n",
      " |-- sp_name: string (nullable = true)\n",
      " |-- theft_title: boolean (nullable = true)\n",
      " |-- torque: string (nullable = true)\n",
      " |-- transmission: string (nullable = true)\n",
      " |-- transmission_display: string (nullable = true)\n",
      " |-- trimId: string (nullable = true)\n",
      " |-- trim_name: string (nullable = true)\n",
      " |-- vehicle_damage_category: string (nullable = true)\n",
      " |-- wheel_system: string (nullable = true)\n",
      " |-- wheel_system_display: string (nullable = true)\n",
      " |-- wheelbase: string (nullable = true)\n",
      " |-- width: string (nullable = true)\n",
      " |-- year: integer (nullable = true)\n",
      "\n"
     ]
    }
   ],
   "source": [
    "# Verificando se o esquema dos dados do PySpark foi tipado corretamente.\n",
    "dataframe.printSchema()"
   ]
  },
  {
   "cell_type": "code",
   "execution_count": 6,
   "id": "ab53917f-a216-4dd0-90b2-e46eb09b0421",
   "metadata": {},
   "outputs": [
    {
     "name": "stdout",
     "output_type": "stream",
     "text": [
      "+-----------------+-----------+----+---------+---------+---------------+-----+--------+---------------+------------------+------------+---------+--------------------+---------------+------------------+----------+-------------+-----+------------+---------------+-------------+------------+----------------+---------+-------------+-------+--------------------+----------+--------------------+-----+------------+------+------+---------+--------+--------+-----------+-------------+----------+---------+--------------------+--------------------+----------+---------------+-------+---------------+-----------+------------------+-------+-------+--------------+-------------+------+-------------------+-----------+--------------------+------------+--------------------+------+------------+-----------------------+------------+--------------------+---------+-------+----+\n",
      "|              Vin|BackLegroom| Bed|BedHeight|BedLength|       BodyType|Cabin|    City|CityFuelEconomy|CombineFuelEconomy|DaysOnMarket|DealerZip|         Description|EngineCylinders|EngineDisplacement|EngineType|ExteriorColor|Fleet|FrameDamaged|FranchiseDealer|FranchiseMake|FrontLegroom|fuel_tank_volume|fuel_type|has_accidents| height|highway_fuel_economy|horsepower|      interior_color|isCab|is_certified|is_cpo|is_new|is_oemcpo|latitude|  length|listed_date|listing_color|listing_id|longitude|    main_picture_url|       major_options| make_name|maximum_seating|mileage|     model_name|owner_count|             power|  price|salvage|savings_amount|seller_rating| sp_id|            sp_name|theft_title|              torque|transmission|transmission_display|trimId|   trim_name|vehicle_damage_category|wheel_system|wheel_system_display|wheelbase|  width|year|\n",
      "+-----------------+-----------+----+---------+---------+---------------+-----+--------+---------------+------------------+------------+---------+--------------------+---------------+------------------+----------+-------------+-----+------------+---------------+-------------+------------+----------------+---------+-------------+-------+--------------------+----------+--------------------+-----+------------+------+------+---------+--------+--------+-----------+-------------+----------+---------+--------------------+--------------------+----------+---------------+-------+---------------+-----------+------------------+-------+-------+--------------+-------------+------+-------------------+-----------+--------------------+------------+--------------------+------+------------+-----------------------+------------+--------------------+---------+-------+----+\n",
      "|ZACNJABB5KPJ92081|    35.1 in|NULL|     NULL|     NULL|SUV / Crossover| NULL| Bayamon|           NULL|              NULL|         522|      960|[!@@Additional In...|             I4|            1300.0|        I4| Solar Yellow| NULL|        NULL|           true|         Jeep|     41.2 in|        12.7 gal| Gasoline|         NULL|66.5 in|                NULL|     177.0|               Black| NULL|        NULL|  NULL|  true|     NULL| 18.3988|166.6 in| 2019-04-06|       YELLOW| 237132766| -66.1582|https://static.ca...|['Quick Order Pac...|      Jeep|        5 seats|    7.0|       Renegade|       NULL|177 hp @ 5,750 RPM|23141.0|   NULL|             0|          2.8|370599|  Flagship Chrysler|       NULL|200 lb-ft @ 1,750...|           A|9-Speed Automatic...|t83804|Latitude FWD|                   NULL|         FWD|   Front-Wheel Drive| 101.2 in|79.6 in|2019|\n",
      "|SALCJ2FX1LH858117|    38.1 in|NULL|     NULL|     NULL|SUV / Crossover| NULL|San Juan|           NULL|              NULL|         207|      922|[!@@Additional In...|             I4|            2000.0|        I4| Narvik Black| NULL|        NULL|           true|   Land Rover|     39.1 in|        17.7 gal| Gasoline|         NULL|  68 in|                NULL|     246.0|       Black (Ebony)| NULL|        NULL|  NULL|  true|     NULL| 18.4439|  181 in| 2020-02-15|        BLACK| 265946296| -66.0785|https://static.ca...|['Adaptive Cruise...|Land Rover|        7 seats|    8.0|Discovery Sport|       NULL|246 hp @ 5,500 RPM|46500.0|   NULL|             0|          3.0|389227|Land Rover San Juan|       NULL|269 lb-ft @ 1,400...|           A|9-Speed Automatic...|t86759|       S AWD|                   NULL|         AWD|     All-Wheel Drive| 107.9 in|85.6 in|2020|\n",
      "|JF1VA2M67G9829723|    35.4 in|NULL|     NULL|     NULL|          Sedan| NULL|Guaynabo|           17.0|              NULL|        1233|      969|                NULL|             H4|            2500.0|        H4|         None|false|       false|           true|         FIAT|     43.3 in|        15.9 gal| Gasoline|        false|58.1 in|                23.0|     305.0|                None|false|        NULL|  NULL| false|     NULL| 18.3467|180.9 in| 2017-04-25|      UNKNOWN| 173473508| -66.1098|                NULL|['Alloy Wheels', ...|    Subaru|        5 seats|   NULL|        WRX STI|       NULL|305 hp @ 6,000 RPM|46995.0|  false|             0|         NULL|370467|   FIAT de San Juan|      false|290 lb-ft @ 4,000...|           M|      6-Speed Manual|t58994|        Base|                   NULL|         AWD|     All-Wheel Drive| 104.3 in|78.9 in|2016|\n",
      "|SALRR2RV0L2433391|    37.6 in|NULL|     NULL|     NULL|SUV / Crossover| NULL|San Juan|           NULL|              NULL|         196|      922|[!@@Additional In...|             V6|            3000.0|        V6|   Eiger Gray| NULL|        NULL|           true|   Land Rover|       39 in|        23.5 gal| Gasoline|         NULL|  73 in|                NULL|     340.0|Gray (Ebony/Ebony...| NULL|        NULL|  NULL|  true|     NULL| 18.4439|195.1 in| 2020-02-26|         GRAY| 266911050| -66.0785|https://static.ca...|                NULL|Land Rover|        7 seats|   11.0|      Discovery|       NULL|340 hp @ 6,500 RPM|67430.0|   NULL|             0|          3.0|389227|Land Rover San Juan|       NULL|332 lb-ft @ 3,500...|           A|8-Speed Automatic...|t86074|  V6 HSE AWD|                   NULL|         AWD|     All-Wheel Drive|   115 in|87.4 in|2020|\n",
      "|SALCJ2FXXLH862327|    38.1 in|NULL|     NULL|     NULL|SUV / Crossover| NULL|San Juan|           NULL|              NULL|         137|      922|[!@@Additional In...|             I4|            2000.0|        I4| Narvik Black| NULL|        NULL|           true|   Land Rover|     39.1 in|        17.7 gal| Gasoline|         NULL|  68 in|                NULL|     246.0|       Black (Ebony)| NULL|        NULL|  NULL|  true|     NULL| 18.4439|  181 in| 2020-04-25|        BLACK| 270957414| -66.0785|https://static.ca...|['Adaptive Cruise...|Land Rover|        7 seats|    7.0|Discovery Sport|       NULL|246 hp @ 5,500 RPM|48880.0|   NULL|             0|          3.0|389227|Land Rover San Juan|       NULL|269 lb-ft @ 1,400...|           A|9-Speed Automatic...|t86759|       S AWD|                   NULL|         AWD|     All-Wheel Drive| 107.9 in|85.6 in|2020|\n",
      "+-----------------+-----------+----+---------+---------+---------------+-----+--------+---------------+------------------+------------+---------+--------------------+---------------+------------------+----------+-------------+-----+------------+---------------+-------------+------------+----------------+---------+-------------+-------+--------------------+----------+--------------------+-----+------------+------+------+---------+--------+--------+-----------+-------------+----------+---------+--------------------+--------------------+----------+---------------+-------+---------------+-----------+------------------+-------+-------+--------------+-------------+------+-------------------+-----------+--------------------+------------+--------------------+------+------------+-----------------------+------------+--------------------+---------+-------+----+\n",
      "only showing top 5 rows\n",
      "\n"
     ]
    }
   ],
   "source": [
    "# Mostrando as primeiras linhas do DataFrame\n",
    "dataframe.show(5)"
   ]
  },
  {
   "cell_type": "markdown",
   "id": "ce3f0af4-00ca-4038-9157-56a08832dc81",
   "metadata": {},
   "source": [
    "## Analise de Graficos ##"
   ]
  },
  {
   "cell_type": "markdown",
   "id": "a556623b-686d-41ed-9869-705c883605bc",
   "metadata": {},
   "source": [
    "### Grafico para analise da quantidade de valores nulos por coluna ###"
   ]
  },
  {
   "cell_type": "code",
   "execution_count": 7,
   "id": "95a0cfa6-fbd1-40bd-8300-994dab9d2014",
   "metadata": {},
   "outputs": [
    {
     "data": {
      "image/png": "[encoded data removed]",
      "text/plain": [
       "<Figure size 1800x1800 with 1 Axes>"
      ]
     },
     "metadata": {},
     "output_type": "display_data"
    }
   ],
   "source": [
    "# Aqui eu passei uma lista com todas as colunas do meu dataset\n",
    "columns_to_check = [\n",
    "    \"Vin\", \"BackLegroom\", \"Bed\", \"BedHeight\", \"BedLength\", \"BodyType\", \"Cabin\", \"City\",\n",
    "    \"CityFuelEconomy\", \"CombineFuelEconomy\", \"DaysOnMarket\", \"DealerZip\", \"Description\",\n",
    "    \"EngineCylinders\", \"EngineDisplacement\", \"EngineType\", \"ExteriorColor\", \"Fleet\",\n",
    "    \"FrameDamaged\", \"FranchiseDealer\", \"FranchiseMake\", \"FrontLegroom\", \"fuel_tank_volume\",\n",
    "    \"fuel_type\", \"has_accidents\", \"height\", \"highway_fuel_economy\", \"horsepower\",\n",
    "    \"interior_color\", \"isCab\", \"is_certified\", \"is_cpo\", \"is_new\", \"is_oemcpo\", \"latitude\",\n",
    "    \"length\", \"listed_date\", \"listing_color\", \"listing_id\", \"longitude\", \"main_picture_url\",\n",
    "    \"major_options\", \"make_name\", \"maximum_seating\", \"mileage\", \"model_name\", \"owner_count\",\n",
    "    \"power\", \"price\", \"salvage\", \"savings_amount\", \"seller_rating\", \"sp_id\", \"sp_name\",\n",
    "    \"theft_title\", \"torque\", \"transmission\", \"transmission_display\", \"trimId\", \"trim_name\",\n",
    "    \"vehicle_damage_category\", \"wheel_system\", \"wheel_system_display\", \"wheelbase\", \"width\", \"year\"\n",
    "]\n",
    "\n",
    "# Calcula a quantidade de valores nulos por coluna\n",
    "null_counts = (\n",
    "    dataframe.select([\n",
    "        spark_count(when(col(c).isNull(), c)).alias(c) for c in columns_to_check\n",
    "    ])\n",
    "    .collect()[0]\n",
    ")\n",
    "\n",
    "# Total de linhas para cálculo de porcentagem\n",
    "total_rows = dataframe.count()\n",
    "\n",
    "# Preparar dados para gráfico\n",
    "labels = []\n",
    "null_values = []\n",
    "null_percentages = []\n",
    "\n",
    "for col_name in columns_to_check:\n",
    "    null_count = null_counts[col_name]\n",
    "    percent = (null_count / total_rows) * 100\n",
    "    labels.append(col_name)\n",
    "    null_values.append(null_count)\n",
    "    null_percentages.append(percent)\n",
    "\n",
    "# Plotar gráfico de barras\n",
    "plt.figure(figsize=(18, 18))\n",
    "bars = plt.barh(labels, null_percentages, color='skyblue')\n",
    "plt.xlabel('Porcentagem de valores nulos (%)')\n",
    "plt.title('Porcentagem de valores nulos por coluna')\n",
    "plt.xlim(0, 100)\n",
    "\n",
    "# Adicionar os valores nas barras\n",
    "for bar, percent in zip(bars, null_percentages):\n",
    "    plt.text(bar.get_width() + 1, bar.get_y() + bar.get_height()/2,\n",
    "             f\"{percent:.1f}%\", va='center')\n",
    "\n",
    "plt.tight_layout()\n",
    "plt.show()"
   ]
  },
  {
   "cell_type": "markdown",
   "id": "b8cdf5fe-81a2-4ac1-8047-0cd0cb2a04e0",
   "metadata": {},
   "source": [
    "### Graficos para analises de variáveis numéricas (Float: 10, Int: 7) ###"
   ]
  },
  {
   "cell_type": "code",
   "execution_count": 8,
   "id": "3636e857-2fe2-4ebf-8e4c-700251119ec4",
   "metadata": {},
   "outputs": [
    {
     "name": "stdout",
     "output_type": "stream",
     "text": [
      "Colunas com valores int: ['DaysOnMarket', 'DealerZip', 'listing_id', 'owner_count', 'savings_amount', 'sp_id', 'year']\n",
      "Colunas com valores float: ['CityFuelEconomy', 'CombineFuelEconomy', 'EngineDisplacement', 'highway_fuel_economy', 'horsepower', 'latitude', 'longitude', 'mileage', 'price', 'seller_rating']\n"
     ]
    }
   ],
   "source": [
    "# Obter os tipos das colunas no DataFrame\n",
    "column_types = dataframe.dtypes\n",
    "\n",
    "# Filtrar as colunas do tipo 'int'\n",
    "int_columns = [col_name for col_name, col_type in column_types if col_type == 'int']\n",
    "\n",
    "# Filtrar as colunas do tipo 'float'\n",
    "float_columns = [col_name for col_name, col_type in column_types if col_type == 'float']\n",
    "\n",
    "# Exibir os resultados\n",
    "print(\"Colunas com valores int:\", int_columns)\n",
    "print(\"Colunas com valores float:\", float_columns)"
   ]
  },
  {
   "cell_type": "code",
   "execution_count": 9,
   "id": "e7effa18-f8a3-45bc-afbd-2fcc01d59591",
   "metadata": {},
   "outputs": [
    {
     "data": {
      "image/png": "[encoded data removed]",
      "text/plain": [
       "<Figure size 1200x400 with 2 Axes>"
      ]
     },
     "metadata": {},
     "output_type": "display_data"
    },
    {
     "data": {
      "image/png": "[encoded data removed]",
      "text/plain": [
       "<Figure size 1200x400 with 2 Axes>"
      ]
     },
     "metadata": {},
     "output_type": "display_data"
    },
    {
     "data": {
      "image/png": "[encoded data removed]",
      "text/plain": [
       "<Figure size 1200x400 with 2 Axes>"
      ]
     },
     "metadata": {},
     "output_type": "display_data"
    },
    {
     "data": {
      "image/png": "[encoded data removed]",
      "text/plain": [
       "<Figure size 1200x400 with 2 Axes>"
      ]
     },
     "metadata": {},
     "output_type": "display_data"
    }
   ],
   "source": [
    "# Lista de colunas para valores int\n",
    "numeric_cols = [\"DaysOnMarket\",\"owner_count\",\"savings_amount\",\"year\"]\n",
    "\n",
    "# DaysOnMarket = dias no mercado\n",
    "# owner_count = Número de proprietários\n",
    "# savings_amount = Quantia de economia\n",
    "# year = ano do modelo\n",
    "\n",
    "\n",
    "# Gráficos univariados para variáveis numéricas\n",
    "for col_name in numeric_cols:\n",
    "    try:\n",
    "        # Extraindo dados não nulos\n",
    "        data = dataframe.select(col_name) \\\n",
    "                        .where(col(col_name).isNotNull()) \\\n",
    "                        .rdd \\\n",
    "                        .flatMap(lambda x: x) \\\n",
    "                        .collect()\n",
    "        \n",
    "\n",
    "        if data:\n",
    "            plt.figure(figsize=(12, 4))\n",
    "\n",
    "            # Histograma\n",
    "            plt.subplot(1, 2, 1)\n",
    "            plt.hist(data, bins=30, color='skyblue', edgecolor='black')\n",
    "            plt.title(f'Histograma de {col_name}')\n",
    "            plt.xlabel(col_name)\n",
    "            plt.ylabel('Frequência')\n",
    "\n",
    "            # Boxplot\n",
    "            plt.subplot(1, 2, 2)\n",
    "            plt.boxplot(data, vert=False)\n",
    "            plt.title(f'Boxplot de {col_name}')\n",
    "            plt.xlabel(col_name)\n",
    "\n",
    "            plt.tight_layout()\n",
    "            plt.show()\n",
    "    except Exception as e:\n",
    "        print(f\"Erro ao processar {col_name}: {e}\")"
   ]
  },
  {
   "cell_type": "markdown",
   "id": "fa0976b4-0687-489f-b1a1-b3f576be1218",
   "metadata": {},
   "source": [
    "### Graficos para analises de variáveis Booleans: 11 ###"
   ]
  },
  {
   "cell_type": "code",
   "execution_count": null,
   "id": "9faf4dec-f057-48c5-b905-ef8f6a635935",
   "metadata": {},
   "outputs": [],
   "source": []
  },
  {
   "cell_type": "markdown",
   "id": "ac620e50-2a72-4c4d-8c1a-86f4a5ecedd9",
   "metadata": {},
   "source": [
    "### Graficos para analises de variáveis Strings: 38 ###"
   ]
  },
  {
   "cell_type": "code",
   "execution_count": 10,
   "id": "d9d31da5-b14f-4e97-8535-46a2cca7f1d2",
   "metadata": {},
   "outputs": [
    {
     "data": {
      "image/png": "[encoded data removed]",
      "text/plain": [
       "<Figure size 1000x500 with 1 Axes>"
      ]
     },
     "metadata": {},
     "output_type": "display_data"
    }
   ],
   "source": [
    "# Coletar os dados como lista\n",
    "prices = dataframe.select(\"price\").dropna().rdd.flatMap(lambda x: x).collect()\n",
    "\n",
    "# Plotar histograma\n",
    "plt.figure(figsize=(10, 5))\n",
    "plt.hist(prices, bins=50, color='skyblue', edgecolor='black')\n",
    "plt.title(\"Distribuição de Preços dos Veículos\")\n",
    "plt.xlabel(\"Preço (USD)\")\n",
    "plt.ylabel(\"Número de veículos\")\n",
    "plt.grid(True)\n",
    "plt.show()\n"
   ]
  },
  {
   "cell_type": "code",
   "execution_count": 11,
   "id": "244f08e3-ad71-4a58-847a-8ee8e7bbdd53",
   "metadata": {},
   "outputs": [
    {
     "data": {
      "image/png": "[encoded data removed]",
      "text/plain": [
       "<Figure size 1000x600 with 1 Axes>"
      ]
     },
     "metadata": {},
     "output_type": "display_data"
    }
   ],
   "source": [
    "from pyspark.sql import functions as F\n",
    "import matplotlib.pyplot as plt\n",
    "\n",
    "# Filtrar os dados para remover os registros com valores nulos na coluna 'year'\n",
    "dataframe_filtered = dataframe.filter(dataframe['year'].isNotNull())\n",
    "\n",
    "# Agrupar os dados pela coluna 'year' e contar o número de modelos por ano\n",
    "model_count_by_year = dataframe_filtered.groupBy(\"year\").count()\n",
    "\n",
    "# Coletar os dados para uso em matplotlib\n",
    "model_count_data = model_count_by_year.collect()\n",
    "\n",
    "# Extrair os dados para as variáveis 'anos' e 'quantidade_de_modelos'\n",
    "anos = [row['year'] for row in model_count_data]\n",
    "quantidade_de_modelos = [row['count'] for row in model_count_data]\n",
    "\n",
    "# Criar o gráfico de linha\n",
    "plt.figure(figsize=(10, 6))\n",
    "plt.plot(anos, quantidade_de_modelos, marker='o', color='b')\n",
    "plt.xlabel('Ano')\n",
    "plt.ylabel('Número de Modelos')\n",
    "plt.title('Aumento no Número de Modelos ao Longo dos Anos')\n",
    "plt.grid(True)\n",
    "plt.show()"
   ]
  },
  {
   "cell_type": "code",
   "execution_count": 12,
   "id": "eda39a83-7be7-4f0a-add7-0ecfc42f8a74",
   "metadata": {},
   "outputs": [
    {
     "data": {
      "image/png": "[encoded data removed]",
      "text/plain": [
       "<Figure size 1000x600 with 1 Axes>"
      ]
     },
     "metadata": {},
     "output_type": "display_data"
    }
   ],
   "source": [
    "# Selecionar colunas, remover nulos e coletar como lista de tuplas\n",
    "data = (\n",
    "    dataframe.select(\"mileage\", \"price\")\n",
    "      .dropna()\n",
    "      .rdd\n",
    "      .map(lambda row: (row[\"mileage\"], row[\"price\"]))\n",
    "      .collect()\n",
    ")\n",
    "\n",
    "# Separar em listas\n",
    "mileages, prices = zip(*data)\n",
    "\n",
    "# Plotar\n",
    "plt.figure(figsize=(10, 6))\n",
    "plt.scatter(mileages, prices, alpha=0.3)\n",
    "plt.title(\"Relação entre Quilometragem e Preço\")\n",
    "plt.xlabel(\"Quilometragem\")\n",
    "plt.ylabel(\"Preço (USD)\")\n",
    "plt.grid(True)\n",
    "plt.show()\n"
   ]
  },
  {
   "cell_type": "code",
   "execution_count": 13,
   "id": "9b5f0864-7ca7-44b8-ac73-1caa112c0156",
   "metadata": {},
   "outputs": [
    {
     "name": "stdout",
     "output_type": "stream",
     "text": [
      "+-------+-------+\n",
      "|price  |count  |\n",
      "+-------+-------+\n",
      "|NULL   |1120425|\n",
      "|1.0    |10974  |\n",
      "|8995.0 |7627   |\n",
      "|7995.0 |7490   |\n",
      "|9995.0 |7464   |\n",
      "|6995.0 |6870   |\n",
      "|14995.0|6393   |\n",
      "|10995.0|6339   |\n",
      "|12995.0|6322   |\n",
      "|5995.0 |6150   |\n",
      "|16995.0|6007   |\n",
      "|13995.0|5995   |\n",
      "|15995.0|5918   |\n",
      "|11995.0|5840   |\n",
      "|17995.0|5587   |\n",
      "|19995.0|5463   |\n",
      "|18995.0|5125   |\n",
      "|4995.0 |4716   |\n",
      "|2.0    |4666   |\n",
      "|16998.0|3929   |\n",
      "|21995.0|3612   |\n",
      "|17998.0|3532   |\n",
      "|20995.0|3468   |\n",
      "|22995.0|3334   |\n",
      "|24995.0|3249   |\n",
      "|23995.0|3139   |\n",
      "|3995.0 |3111   |\n",
      "|18998.0|3107   |\n",
      "|19998.0|3014   |\n",
      "|15998.0|2983   |\n",
      "|9999.0 |2843   |\n",
      "|7999.0 |2706   |\n",
      "|14998.0|2626   |\n",
      "|8999.0 |2610   |\n",
      "|26995.0|2602   |\n",
      "|29995.0|2579   |\n",
      "|25995.0|2533   |\n",
      "|14999.0|2482   |\n",
      "|21755.0|2460   |\n",
      "|20998.0|2439   |\n",
      "|6999.0 |2438   |\n",
      "|27995.0|2426   |\n",
      "|19999.0|2424   |\n",
      "|28995.0|2389   |\n",
      "|12999.0|2321   |\n",
      "|3.0    |2312   |\n",
      "|15999.0|2298   |\n",
      "|16999.0|2265   |\n",
      "|13999.0|2229   |\n",
      "|5999.0 |2214   |\n",
      "|17999.0|2213   |\n",
      "|10999.0|2175   |\n",
      "|11999.0|2134   |\n",
      "|18999.0|2115   |\n",
      "|16900.0|2098   |\n",
      "|17900.0|2035   |\n",
      "|14900.0|2011   |\n",
      "|13900.0|2002   |\n",
      "|4999.0 |1987   |\n",
      "|10900.0|1985   |\n",
      "|12900.0|1967   |\n",
      "|15900.0|1953   |\n",
      "|21998.0|1933   |\n",
      "|18900.0|1919   |\n",
      "|16500.0|1889   |\n",
      "|19990.0|1884   |\n",
      "|19900.0|1866   |\n",
      "|11900.0|1866   |\n",
      "|17500.0|1848   |\n",
      "|16990.0|1834   |\n",
      "|7500.0 |1797   |\n",
      "|5.0    |1782   |\n",
      "|22998.0|1777   |\n",
      "|6500.0 |1776   |\n",
      "|25225.0|1767   |\n",
      "|8900.0 |1765   |\n",
      "|18500.0|1739   |\n",
      "|7495.0 |1737   |\n",
      "|12500.0|1711   |\n",
      "|8495.0 |1704   |\n",
      "|15990.0|1698   |\n",
      "|14500.0|1686   |\n",
      "|13500.0|1685   |\n",
      "|7900.0 |1682   |\n",
      "|32770.0|1677   |\n",
      "|17990.0|1675   |\n",
      "|19500.0|1671   |\n",
      "|31995.0|1665   |\n",
      "|8500.0 |1664   |\n",
      "|6495.0 |1659   |\n",
      "|9900.0 |1659   |\n",
      "|18990.0|1654   |\n",
      "|34995.0|1645   |\n",
      "|21999.0|1633   |\n",
      "|32995.0|1625   |\n",
      "|14990.0|1624   |\n",
      "|33995.0|1609   |\n",
      "|13998.0|1597   |\n",
      "|13990.0|1596   |\n",
      "|9500.0 |1589   |\n",
      "|6900.0 |1588   |\n",
      "|21605.0|1585   |\n",
      "|5500.0 |1549   |\n",
      "|20000.0|1532   |\n",
      "|23998.0|1514   |\n",
      "|27935.0|1510   |\n",
      "|15500.0|1510   |\n",
      "|10500.0|1504   |\n",
      "|25998.0|1502   |\n",
      "|2995.0 |1500   |\n",
      "|30280.0|1475   |\n",
      "|12990.0|1465   |\n",
      "|11500.0|1464   |\n",
      "|15000.0|1458   |\n",
      "|30995.0|1449   |\n",
      "|18000.0|1413   |\n",
      "|5900.0 |1389   |\n",
      "|11990.0|1384   |\n",
      "|39995.0|1381   |\n",
      "|24998.0|1369   |\n",
      "|20999.0|1365   |\n",
      "|10990.0|1362   |\n",
      "|35995.0|1354   |\n",
      "|36995.0|1350   |\n",
      "|3999.0 |1340   |\n",
      "|24975.0|1333   |\n",
      "|5495.0 |1330   |\n",
      "|39180.0|1329   |\n",
      "|8990.0 |1316   |\n",
      "|23555.0|1312   |\n",
      "|9495.0 |1305   |\n",
      "|17945.0|1303   |\n",
      "|9990.0 |1302   |\n",
      "|21900.0|1301   |\n",
      "|17000.0|1300   |\n",
      "|24999.0|1295   |\n",
      "|26998.0|1293   |\n",
      "|22999.0|1288   |\n",
      "|15495.0|1273   |\n",
      "|21500.0|1273   |\n",
      "|23999.0|1266   |\n",
      "|20990.0|1265   |\n",
      "|22900.0|1262   |\n",
      "|19000.0|1245   |\n",
      "|6990.0 |1241   |\n",
      "|4500.0 |1239   |\n",
      "|10495.0|1238   |\n",
      "|21990.0|1230   |\n",
      "|27670.0|1228   |\n",
      "|7990.0 |1216   |\n",
      "|16000.0|1214   |\n",
      "|25900.0|1207   |\n",
      "|29998.0|1204   |\n",
      "|11495.0|1202   |\n",
      "|23900.0|1188   |\n",
      "|21000.0|1188   |\n",
      "|3500.0 |1186   |\n",
      "|24900.0|1182   |\n",
      "|22500.0|1176   |\n",
      "|12495.0|1173   |\n",
      "|29900.0|1171   |\n",
      "|20900.0|1166   |\n",
      "|29999.0|1166   |\n",
      "|13495.0|1157   |\n",
      "|27998.0|1156   |\n",
      "|22990.0|1151   |\n",
      "|20500.0|1150   |\n",
      "|25999.0|1146   |\n",
      "|10000.0|1141   |\n",
      "|16988.0|1136   |\n",
      "|26900.0|1132   |\n",
      "|10.0   |1132   |\n",
      "|26999.0|1130   |\n",
      "|19988.0|1130   |\n",
      "|25000.0|1126   |\n",
      "|22000.0|1124   |\n",
      "|37995.0|1120   |\n",
      "|17495.0|1119   |\n",
      "|9950.0 |1107   |\n",
      "|12998.0|1107   |\n",
      "|23500.0|1106   |\n",
      "|23990.0|1105   |\n",
      "|17988.0|1096   |\n",
      "|24905.0|1090   |\n",
      "|18988.0|1084   |\n",
      "|24990.0|1080   |\n",
      "|14495.0|1077   |\n",
      "|16495.0|1073   |\n",
      "|28998.0|1061   |\n",
      "|14000.0|1057   |\n",
      "|25990.0|1051   |\n",
      "|24500.0|1046   |\n",
      "|38995.0|1031   |\n",
      "|28900.0|1010   |\n",
      "|12000.0|1005   |\n",
      "|4900.0 |999    |\n",
      "|24000.0|988    |\n",
      "|7950.0 |985    |\n",
      "|26500.0|972    |\n",
      "|4495.0 |971    |\n",
      "+-------+-------+\n",
      "only showing top 200 rows\n",
      "\n"
     ]
    }
   ],
   "source": [
    "# Agrupa e conta primeiro\n",
    "grouped_df = dataframe.groupBy(\"price\").count()\n",
    "\n",
    "# EStou listando as primeiras 100 linhas do groupby,\n",
    "grouped_df.orderBy(col(\"count\").desc()).show(200, truncate=False)"
   ]
  },
  {
   "cell_type": "markdown",
   "id": "b750ba6a-858f-43ac-9821-48bd485fef8d",
   "metadata": {
    "jp-MarkdownHeadingCollapsed": true
   },
   "source": [
    "# Clean Dataset #"
   ]
  },
  {
   "cell_type": "markdown",
   "id": "31ed79c3-690c-4753-a60c-a8d630e7a52d",
   "metadata": {
    "jp-MarkdownHeadingCollapsed": true
   },
   "source": [
    "## Julgando colunas com NULL maior que 30% para validar sua remoção ##"
   ]
  },
  {
   "cell_type": "code",
   "execution_count": 14,
   "id": "59e3ac40-c5b7-40ff-9fc5-8d83b8ea556e",
   "metadata": {},
   "outputs": [
    {
     "name": "stdout",
     "output_type": "stream",
     "text": [
      "Colunas com mais de 30% de valores nulos:\n",
      "\n",
      "- Bed: 99.34%\n",
      "- BedHeight: 85.70%\n",
      "- BedLength: 85.70%\n",
      "- Cabin: 97.88%\n",
      "- CombineFuelEconomy: 100.00%\n",
      "- EngineDisplacement: 43.54%\n",
      "- Fleet: 65.95%\n",
      "- FrameDamaged: 65.53%\n",
      "- FranchiseDealer: 38.70%\n",
      "- has_accidents: 64.73%\n",
      "- highway_fuel_economy: 49.48%\n",
      "- horsepower: 42.88%\n",
      "- isCab: 65.03%\n",
      "- is_certified: 98.84%\n",
      "- is_cpo: 95.68%\n",
      "- is_new: 38.36%\n",
      "- is_oemcpo: 95.96%\n",
      "- latitude: 39.02%\n",
      "- listing_id: 39.67%\n",
      "- longitude: 37.99%\n",
      "- mileage: 39.56%\n",
      "- owner_count: 99.69%\n",
      "- price: 37.34%\n",
      "- salvage: 65.52%\n",
      "- savings_amount: 39.48%\n",
      "- seller_rating: 37.65%\n",
      "- sp_id: 43.70%\n",
      "- theft_title: 65.17%\n",
      "- vehicle_damage_category: 61.39%\n",
      "- year: 39.32%\n",
      "\n",
      "Total de colunas com mais de 30% de valores nulos: 30\n"
     ]
    }
   ],
   "source": [
    "# Ccontar número total de linhas\n",
    "total_rows = dataframe.count()\n",
    "\n",
    "# Verificando os tipos das colunas\n",
    "schema = dataframe.schema\n",
    "\n",
    "# Expressões para contar valores nulos (e NaN para numéricos)\n",
    "exprs = []\n",
    "for field in schema:\n",
    "    if field.dataType.typeName() in [\"float\", \"double\"]:\n",
    "        expr = spark_count(when(col(field.name).isNull() | isnan(col(field.name)), field.name)).alias(field.name)\n",
    "    else:\n",
    "        expr = spark_count(when(col(field.name).isNull(), field.name)).alias(field.name)\n",
    "    exprs.append(expr)\n",
    "\n",
    "# Aplicar contagem\n",
    "null_counts_row = dataframe.select(exprs).collect()[0]\n",
    "\n",
    "# Mostrar colunas com mais de 30% de nulos\n",
    "print(\"Colunas com mais de 30% de valores nulos:\\n\")\n",
    "count_above_30 = 0\n",
    "\n",
    "for col_name in dataframe.columns:\n",
    "    null_count = null_counts_row[col_name]\n",
    "    percent = (null_count / total_rows) * 100\n",
    "    if percent > 30:\n",
    "        print(f\"- {col_name}: {percent:.2f}%\")\n",
    "        count_above_30 += 1\n",
    "\n",
    "print(f\"\\nTotal de colunas com mais de 30% de valores nulos: {count_above_30}\")"
   ]
  },
  {
   "cell_type": "code",
   "execution_count": 15,
   "id": "accc4a8e-44a2-4aae-aed5-dcc1ed12330e",
   "metadata": {},
   "outputs": [
    {
     "name": "stdout",
     "output_type": "stream",
     "text": [
      "+----+---------+---------+-----+------------------+------------------+-----+------------+---------------+-------------+--------------------+----------+\n",
      "| Bed|BedHeight|BedLength|Cabin|CombineFuelEconomy|EngineDisplacement|Fleet|FrameDamaged|FranchiseDealer|has_accidents|highway_fuel_economy|horsepower|\n",
      "+----+---------+---------+-----+------------------+------------------+-----+------------+---------------+-------------+--------------------+----------+\n",
      "|NULL|     NULL|     NULL| NULL|              NULL|            1300.0| NULL|        NULL|           true|         NULL|                NULL|     177.0|\n",
      "|NULL|     NULL|     NULL| NULL|              NULL|            2000.0| NULL|        NULL|           true|         NULL|                NULL|     246.0|\n",
      "|NULL|     NULL|     NULL| NULL|              NULL|            2500.0|false|       false|           true|        false|                23.0|     305.0|\n",
      "|NULL|     NULL|     NULL| NULL|              NULL|            3000.0| NULL|        NULL|           true|         NULL|                NULL|     340.0|\n",
      "|NULL|     NULL|     NULL| NULL|              NULL|            2000.0| NULL|        NULL|           true|         NULL|                NULL|     246.0|\n",
      "|NULL|     NULL|     NULL| NULL|              NULL|            2000.0|false|       false|           true|        false|                NULL|     247.0|\n",
      "|NULL|     NULL|     NULL| NULL|              NULL|            2500.0| NULL|        NULL|           true|         NULL|                NULL|     186.0|\n",
      "|NULL|     NULL|     NULL| NULL|              NULL|            2000.0| NULL|        NULL|           true|         NULL|                NULL|     247.0|\n",
      "|NULL|     NULL|     NULL| NULL|              NULL|            2000.0| NULL|        NULL|           true|         NULL|                NULL|     246.0|\n",
      "|NULL|     NULL|     NULL| NULL|              NULL|            2000.0|false|       false|           true|        false|                NULL|     296.0|\n",
      "|NULL|     NULL|     NULL| NULL|              NULL|            1700.0|false|       false|           true|        false|                NULL|     237.0|\n",
      "|NULL|     NULL|     NULL| NULL|              NULL|            2000.0| NULL|        NULL|           true|         NULL|                NULL|     246.0|\n",
      "|NULL|     NULL|     NULL| NULL|              NULL|            3000.0|false|       false|           true|        false|                33.0|     320.0|\n",
      "|NULL|     NULL|     NULL| NULL|              NULL|            2000.0| NULL|        NULL|           true|         NULL|                NULL|     247.0|\n",
      "|NULL|     NULL|     NULL| NULL|              NULL|            2500.0| NULL|        NULL|           true|         NULL|                NULL|     186.0|\n",
      "|NULL|     NULL|     NULL| NULL|              NULL|            2500.0| NULL|        NULL|           true|         NULL|                NULL|     186.0|\n",
      "|NULL|     NULL|     NULL| NULL|              NULL|            2000.0| NULL|        NULL|           true|         NULL|                NULL|     246.0|\n",
      "|NULL|     NULL|     NULL| NULL|              NULL|            2000.0| NULL|        NULL|           true|         NULL|                NULL|     247.0|\n",
      "|NULL|     NULL|     NULL| NULL|              NULL|            2000.0| NULL|        NULL|           true|         NULL|                NULL|     247.0|\n",
      "|NULL|     NULL|     NULL| NULL|              NULL|            2000.0| NULL|        NULL|           true|         NULL|                NULL|     246.0|\n",
      "+----+---------+---------+-----+------------------+------------------+-----+------------+---------------+-------------+--------------------+----------+\n",
      "only showing top 20 rows\n",
      "\n"
     ]
    }
   ],
   "source": [
    "# Printando a primeira lista de colunas com dados nulos maior que 30% para julgar se elas serao retiradas ou tratadas por meio de tecnicas de processamento.\n",
    "colunasComNull1 = [\n",
    "    'Bed','BedHeight','BedLength','Cabin','CombineFuelEconomy','EngineDisplacement','Fleet','FrameDamaged','FranchiseDealer','has_accidents','highway_fuel_economy','horsepower'\n",
    "]\n",
    "# 12 colunas\n",
    "dataframe.select(*colunasComNull1).show()"
   ]
  },
  {
   "cell_type": "code",
   "execution_count": 16,
   "id": "53d94b4d-c957-4bb6-a68f-3383fbf481d7",
   "metadata": {},
   "outputs": [],
   "source": [
    "# Primeira lista das colunas que serão removidas do dataframe \n",
    "dataframe = dataframe.drop('Bed','BedHeight','BedLength','Cabin','CombineFuelEconomy','engine_displacement','FranchiseDealer','highway_fuel_economy','horsepower')\n",
    "\n",
    "# COLUNA ALVO: price\n",
    "\n",
    "# Bed = Categoria do tamanho da caçamba, NULL significa que o veicula nao é uma camionete (esta coluna foi removida por que 99.34 sao outros tipos de veiculos).\n",
    "# BedHeight = Altura da caçamba em polegadas (ja que 99.34 dos veiculos nao sao camionetes esta coluna perde seu valor alem de ter 85.70 de dados nulos).\n",
    "# BedLength = largura da caçamba em polegadas (ja que 99.34 dos veiculos nao sao camionetes esta coluna perde seu valor alem de ter 85.70 de dados nulos).\n",
    "# Cabin = Tamanho da cabine (área de carga aberta) em caminhonete (ja que 99.34 dos veiculos nao sao camionetes esta coluna perde seu valor alem de ter 97.88% de dados nulos).\n",
    "# CombineFuelEconomy = economia de combustível na cidade e na rodovia, em km por litro (coluna 100% nula entao eu so removo a coluna)\n",
    "# engine_displacement = é a medida do volume do cilindro de um motor a pistão (irei remover esta coluna por conta de ter 43.5% de dados Nulos e por conta de outras colunas poderem representala com uma quantidade menor de valores nulos).\n",
    "# highway_fuel_economy = Economia de combustível no trânsito rodoviário em km por litro (possui 49.48% de dados nulos e esta coluna esta sugeita a muita variaveis tornando-se um dado prejudicial ao meu modelo).\n",
    "# horsepower = Potencia do motor (possui 42.88 de dados nulos e pode ser representada por outras colunas com menos dados nulos, por conta disto irei removela).\n",
    "# FranchiseDealer (boolean) = Indica se o revendedor é um franqueado (esta coluna apresenta 38.70% de valores nulos, irei remover pois a franqueado do vendedor nao esta relacionado ao preço do carro).\n",
    "\n",
    "\n",
    "# EM VALORES BOOLEAN OS VALORES NULOS PODEM REPRESENTAR VERDADEIRO OU FALSO, DE CASO PARA CASO, ENTAO IREI CONVERTER TODOS EM VALORES NUMERICOS E TESTAR O MEU MODELO.\n",
    "# fleet (boolean) = indica se o carro ja esteve em uma frota (esta coluna possui 65.95% de dados nulos, os dados nulos podem indicar tambem que carro nunca fez parte de uma frota).\n",
    "# FrameDamaged (boolean) = Indica se o chassi do veículo está danificado (esta coluna possui 65.53% de dados nulos, os valores nulos podem indicar que o carro nunca foi danificado).\n",
    "# has_accidents (boolean) = indica se o meu carro ja sofreu algum acidente (possui 64.73%% de valores nulos, valores nulos podem indicar que o carro nunca sofreu um acidente)."
   ]
  },
  {
   "cell_type": "code",
   "execution_count": 17,
   "id": "75774e3c-d5e1-41ec-beed-fe2f78e48a1c",
   "metadata": {},
   "outputs": [
    {
     "name": "stdout",
     "output_type": "stream",
     "text": [
      "+-----+------------+------+------+---------+--------+----------+---------+-------+-----------+-------+--------------+-------------+------+-----------+\n",
      "|isCab|is_certified|is_cpo|is_new|is_oemcpo|latitude|listing_id|longitude|mileage|owner_count|salvage|savings_amount|seller_rating| sp_id|theft_title|\n",
      "+-----+------------+------+------+---------+--------+----------+---------+-------+-----------+-------+--------------+-------------+------+-----------+\n",
      "| NULL|        NULL|  NULL|  true|     NULL| 18.3988| 237132766| -66.1582|    7.0|       NULL|   NULL|             0|          2.8|370599|       NULL|\n",
      "| NULL|        NULL|  NULL|  true|     NULL| 18.4439| 265946296| -66.0785|    8.0|       NULL|   NULL|             0|          3.0|389227|       NULL|\n",
      "|false|        NULL|  NULL| false|     NULL| 18.3467| 173473508| -66.1098|   NULL|       NULL|  false|             0|         NULL|370467|      false|\n",
      "| NULL|        NULL|  NULL|  true|     NULL| 18.4439| 266911050| -66.0785|   11.0|       NULL|   NULL|             0|          3.0|389227|       NULL|\n",
      "| NULL|        NULL|  NULL|  true|     NULL| 18.4439| 270957414| -66.0785|    7.0|       NULL|   NULL|             0|          3.0|389227|       NULL|\n",
      "|false|        NULL|  NULL|  true|     NULL| 18.4439| 262940541| -66.0785|   12.0|       NULL|  false|             0|          3.0|389227|      false|\n",
      "| NULL|        NULL|  NULL|  true|     NULL| 18.3988| 244110426| -66.1582|   14.0|       NULL|   NULL|             0|          2.8|370599|       NULL|\n",
      "| NULL|        NULL|  NULL|  true|     NULL| 18.4439| 275458784| -66.0785|   11.0|       NULL|   NULL|             0|          3.0|389227|       NULL|\n",
      "| NULL|        NULL|  NULL|  true|     NULL| 18.4439| 266911040| -66.0785|    8.0|       NULL|   NULL|             0|          3.0|389227|       NULL|\n",
      "|false|        NULL|  NULL| false|     NULL| 18.4439| 238225156| -66.0785|  254.0|       NULL|  false|             0|          3.0|389227|      false|\n",
      "|false|        NULL|  NULL| false|     NULL| 18.3467| 171865107| -66.1098|  301.0|       NULL|  false|             0|         NULL|370467|      false|\n",
      "| NULL|        NULL|  NULL|  true|     NULL| 18.4439| 268609420| -66.0785|   22.0|       NULL|   NULL|             0|          3.0|389227|       NULL|\n",
      "|false|        NULL|  NULL| false|     NULL| 18.3467| 173473505| -66.1098| 6903.0|       NULL|  false|             0|         NULL|370467|      false|\n",
      "| NULL|        NULL|  NULL|  true|     NULL| 18.4439| 266454434| -66.0785|   20.0|       NULL|   NULL|             0|          3.0|389227|       NULL|\n",
      "| NULL|        NULL|  NULL|  true|     NULL| 18.3988| 244110428| -66.1582|  204.0|       NULL|   NULL|             0|          2.8|370599|       NULL|\n",
      "| NULL|        NULL|  NULL|  true|     NULL| 18.3988| 244110438| -66.1582|   61.0|       NULL|   NULL|             0|          2.8|370599|       NULL|\n",
      "| NULL|        NULL|  NULL|  true|     NULL| 18.4439| 267851174| -66.0785|    6.0|       NULL|   NULL|             0|          3.0|389227|       NULL|\n",
      "| NULL|        NULL|  NULL|  true|     NULL| 18.4439| 279794909| -66.0785|    7.0|       NULL|   NULL|             0|          3.0|389227|       NULL|\n",
      "| NULL|        NULL|  NULL|  true|     NULL| 18.4439| 280451806| -66.0785|    5.0|       NULL|   NULL|             0|          3.0|389227|       NULL|\n",
      "| NULL|        NULL|  NULL|  true|     NULL| 18.4439| 263868330| -66.0785|    8.0|       NULL|   NULL|             0|          3.0|389227|       NULL|\n",
      "+-----+------------+------+------+---------+--------+----------+---------+-------+-----------+-------+--------------+-------------+------+-----------+\n",
      "only showing top 20 rows\n",
      "\n"
     ]
    }
   ],
   "source": [
    "# Printando a segunda lista de colunas com dados nulos maior que 30% para julgar se elas serao retiradas ou tratadas por meio de tecnicas de processamento.\n",
    "colunasComNull2 = [\n",
    "    'isCab','is_certified','is_cpo','is_new','is_oemcpo','latitude','listing_id','longitude','mileage','owner_count','salvage','savings_amount','seller_rating','sp_id',\n",
    "    'theft_title'\n",
    "]\n",
    "dataframe.select(*colunasComNull2).show()"
   ]
  },
  {
   "cell_type": "code",
   "execution_count": 18,
   "id": "3388b3ab-c841-467e-87dc-1bf08d16cb10",
   "metadata": {},
   "outputs": [],
   "source": [
    "# Segunda lista das colunas que serão removidas do dataframe \n",
    "dataframe = dataframe.drop('is_certified','is_cpo','is_oemcpo','latitude','listing_id','longitude', 'owner_count', 'savings_amount','sp_id','theft_title')\n",
    "\n",
    "# is_certified (boolean) = Se o veículo é certificado. Carros certificados são cobertos durante o período de garantia (irei remover esta coluna por conta de ela ter 98.84% de dados nulos).\n",
    "# is_cpo (boolean) = Carros usados ​​certificados pela concessionária (irei remover esta coluna por conta de ela ter 95.68% e dados nulos).\n",
    "# is_oemcpo (boolean) = Carros usados ​​certificados pelo fabricante (irei remover esta coluna por conta de ela ter 95.96% e dados nulos).\n",
    "# latitude = Latitude a partir da geolocalização da concessionária. (possui 39.02% de dados nulos, irei remover pois geolocalização nao esta relacionado ao preço do carro).\n",
    "# listing_id = ID de listagem do site (possui 39.67% de dados nulos, id nao se relaiona com o preço do carro).\n",
    "# longitude = Longitude a partir da geolocalização da concessionária (possui 37.99% de dados nulos, irei remover pois geolocalização nao esta relacionado ao preço do carro).\n",
    "# owner_count = Número de proprietários (irei remover esta coluna por conta de ela ter 99.69% e dados nulos).\n",
    "# savings_amount = Quantia de economia (39.48% de dados nulos, por isto irei removela).\n",
    "# seller_rating = Avaliação do vendedor (37.65% de dados nulos, irei remover pois a avaliacao nao esta relacionada com o preço do veiculo).\n",
    "# sp_id = ID do vendedor/revendedor (43.70% de dados nulos, id nao se relaiona com o preço do carro).\n",
    "# theft_title (boolean) = #Indica se o título do veículo é de roubo (irei remover esta coluna por conta de ela ter 65.17% e dados nulos).\n",
    "\n",
    "# mileage = Quilometragem (39.56% de dados nulos, esta coluna e importante entao nao irei removela)\n",
    "\n",
    "# EM VALORES BOOLEAN OS VALORES NULOS PODEM REPRESENTAR VERDADEIRO OU FALSO, DE CASO PARA CASO, ENTAO IREI CONVERTER TODOS EM VALORES NUMERICOS E TESTAR O MEU MODELO.\n",
    "# isCab (boolean) = Indica se o veicula anteriormente era um taxi (65.03% de dados nulos).\n",
    "# is_new (boolean) = significa que o veículo foi lançado há menos de 2 anos (38.36% de dados nulos).\n",
    "# salvage (boolean)= carro recuperado (65.52% de dados nulos)."
   ]
  },
  {
   "cell_type": "code",
   "execution_count": 19,
   "id": "7dbb2df2-4839-4f9c-9a71-3955fbf1348f",
   "metadata": {},
   "outputs": [
    {
     "name": "stdout",
     "output_type": "stream",
     "text": [
      "+-----------------------+--------------------+\n",
      "|vehicle_damage_category|    main_picture_url|\n",
      "+-----------------------+--------------------+\n",
      "|                   NULL|https://static.ca...|\n",
      "|                   NULL|https://static.ca...|\n",
      "|                   NULL|                NULL|\n",
      "|                   NULL|https://static.ca...|\n",
      "|                   NULL|https://static.ca...|\n",
      "|                   NULL|https://static.ca...|\n",
      "|                   NULL|https://static.ca...|\n",
      "|                   NULL|https://static.ca...|\n",
      "|                   NULL|https://static.ca...|\n",
      "|                   NULL|https://static.ca...|\n",
      "|                   NULL|https://static.ca...|\n",
      "|                   NULL|https://static.ca...|\n",
      "|                   NULL|https://static.ca...|\n",
      "|                   NULL|https://static.ca...|\n",
      "|                   NULL|https://static.ca...|\n",
      "|                   NULL|https://static.ca...|\n",
      "|                   NULL|https://static.ca...|\n",
      "|                   NULL|https://static.ca...|\n",
      "|                   NULL|https://static.ca...|\n",
      "|                   NULL|https://static.ca...|\n",
      "+-----------------------+--------------------+\n",
      "only showing top 20 rows\n",
      "\n"
     ]
    }
   ],
   "source": [
    "# Printando a terceira lista de colunas com dados nulos maior que 30% para julgar se elas serao retiradas ou tratadas por meio de tecnicas de processamento.\n",
    "colunasComNull3 = [\n",
    "    'vehicle_damage_category','main_picture_url'\n",
    "]\n",
    "\n",
    "dataframe.select(*colunasComNull3).show()"
   ]
  },
  {
   "cell_type": "code",
   "execution_count": 20,
   "id": "58a53fed-824a-4eaa-95cf-8c7b8c3b8574",
   "metadata": {},
   "outputs": [],
   "source": [
    "# Terceira lista das colunas que serão removidas do dataframe \n",
    "dataframe = dataframe.drop('vehicle_damage_category','main_picture_url')\n",
    "\n",
    "# vehicle_damage_category = Categoria de danos do veículo (61.39% de dados nulos, irei remover pois categoria de danos nao esta relacionado ao preço do carro)\n",
    "# main_picture_url = 61.39% de dados nulos irei remover pois url nao esta relacionado ao preço do carro."
   ]
  },
  {
   "cell_type": "code",
   "execution_count": 21,
   "id": "aa7a2e8a-fd81-43d0-bed2-4b95ed05147f",
   "metadata": {},
   "outputs": [
    {
     "name": "stdout",
     "output_type": "stream",
     "text": [
      "Tipo: string, Quantidade: 32\n",
      "Tipo: float, Quantidade: 5\n",
      "Tipo: int, Quantidade: 3\n",
      "Tipo: boolean, Quantidade: 6\n"
     ]
    }
   ],
   "source": [
    "# Obtem os tipos de colunas\n",
    "column_types = dataframe.dtypes\n",
    "\n",
    "# Conta a quantidade de cada tipo de dado\n",
    "type_counts = {}\n",
    "\n",
    "for column, dtype in column_types:\n",
    "    if dtype not in type_counts:\n",
    "        type_counts[dtype] = 0\n",
    "    type_counts[dtype] += 1\n",
    "\n",
    "# Printa a quantidade de cada tipo de dado\n",
    "for dtype, count in type_counts.items():\n",
    "    print(f\"Tipo: {dtype}, Quantidade: {count}\")"
   ]
  },
  {
   "cell_type": "markdown",
   "id": "ed66376f-183e-47bd-a555-60481040dc18",
   "metadata": {
    "jp-MarkdownHeadingCollapsed": true
   },
   "source": [
    "## Removendo colunas que não agregao valor à variável alvo price (preço). ##"
   ]
  },
  {
   "cell_type": "code",
   "execution_count": 22,
   "id": "625d62e2-f7d8-43db-9cb6-0300f0cfd4ae",
   "metadata": {},
   "outputs": [
    {
     "name": "stdout",
     "output_type": "stream",
     "text": [
      "+------+-----------------+---------+--------------------+-------------------+--------+------------+\n",
      "|trimId|              Vin|DealerZip|         Description|            sp_name|    City|DaysOnMarket|\n",
      "+------+-----------------+---------+--------------------+-------------------+--------+------------+\n",
      "|t83804|ZACNJABB5KPJ92081|      960|[!@@Additional In...|  Flagship Chrysler| Bayamon|         522|\n",
      "|t86759|SALCJ2FX1LH858117|      922|[!@@Additional In...|Land Rover San Juan|San Juan|         207|\n",
      "|t58994|JF1VA2M67G9829723|      969|                NULL|   FIAT de San Juan|Guaynabo|        1233|\n",
      "|t86074|SALRR2RV0L2433391|      922|[!@@Additional In...|Land Rover San Juan|San Juan|         196|\n",
      "|t86759|SALCJ2FXXLH862327|      922|[!@@Additional In...|Land Rover San Juan|San Juan|         137|\n",
      "|t85614|SALYK2EX1LA261711|      922|[!@@Additional In...|Land Rover San Juan|San Juan|         242|\n",
      "|t85256|3MZBPABL6KM107908|      960|[!@@Additional In...|  Flagship Chrysler| Bayamon|         447|\n",
      "|t85614|SALYK2EX5LA275434|      922|[!@@Additional In...|Land Rover San Juan|San Juan|          70|\n",
      "|t86759|SALCJ2FX6LH858128|      922|[!@@Additional In...|Land Rover San Juan|San Juan|         196|\n",
      "|t85531|SALZL2GX4LH007593|      922|[!@@Additional In...|Land Rover San Juan|San Juan|         510|\n",
      "|t56834|ZARBAAC41FM129303|      969|[!@@Additional In...|   FIAT de San Juan|Guaynabo|        1252|\n",
      "|t85529|SALZJ2FX0LH081763|      922|[!@@Additional In...|Land Rover San Juan|San Juan|         179|\n",
      "|t58802|WBA8B7C53GK368522|      969|[!@@Additional In...|   FIAT de San Juan|Guaynabo|        1233|\n",
      "|t85614|SALYK2EX8LA268316|      922|[!@@Additional In...|Land Rover San Juan|San Juan|         201|\n",
      "|t85256|3MZBPABL1KM108237|      960|[!@@Additional In...|  Flagship Chrysler| Bayamon|         447|\n",
      "|t85256|3MZBPABL4KM107969|      960|[!@@Additional In...|  Flagship Chrysler| Bayamon|         447|\n",
      "|t86761|SALCP2FX9LH857747|      922|[!@@Additional In...|Land Rover San Juan|San Juan|         187|\n",
      "|t85614|SALYK2EX8LA284533|      922|[!@@Additional In...|Land Rover San Juan|San Juan|          20|\n",
      "|t85614|SALYK2EX0LA284669|      922|[!@@Additional In...|Land Rover San Juan|San Juan|          13|\n",
      "|t86761|SALCP2FX8LH854709|      922|[!@@Additional In...|Land Rover San Juan|San Juan|         230|\n",
      "+------+-----------------+---------+--------------------+-------------------+--------+------------+\n",
      "only showing top 20 rows\n",
      "\n"
     ]
    }
   ],
   "source": [
    "# Consulta de colunas que nao agregam valor á classe alvo price\n",
    "colunaInuteis = ['trimId','Vin','DealerZip','Description','sp_name','City','DaysOnMarket']\n",
    "dataframe.select(*colunaInuteis).show()"
   ]
  },
  {
   "cell_type": "code",
   "execution_count": 23,
   "id": "c7d6b36f-6900-40e3-b315-466fcce0a952",
   "metadata": {},
   "outputs": [],
   "source": [
    "# Remove as colunas da variavel colunaInuteis\n",
    "dataframe = dataframe.drop(*colunaInuteis)\n",
    "\n",
    "# COLUNAS QUE NAO AGREGAO VALOR Á COLUNA ALVO \"price\" \n",
    "# trimId = Identificador do acabamento\n",
    "# Vin = Número de Identificação do Veículo é uma string codificada exclusiva para cada veículo\n",
    "# DealerZip = CEP do revendedor\n",
    "# Description = Descrição do veículo na página de listagem do veículo\n",
    "# sp_name = Nome do vendedor/revendedor \n",
    "# City = cidade onde o carro está listado\n",
    "# DaysOnMarket = Dias desde que o veículo foi anunciado pela primeira vez no site "
   ]
  },
  {
   "cell_type": "code",
   "execution_count": 24,
   "id": "6bf906db-52f4-42e2-8ad6-55cf84708bc5",
   "metadata": {},
   "outputs": [
    {
     "name": "stdout",
     "output_type": "stream",
     "text": [
      "Tipo: string, Quantidade: 27\n",
      "Tipo: float, Quantidade: 5\n",
      "Tipo: boolean, Quantidade: 6\n",
      "Tipo: int, Quantidade: 1\n"
     ]
    }
   ],
   "source": [
    "# Obtem os tipos de colunas\n",
    "column_types = dataframe.dtypes\n",
    "\n",
    "# Conta a quantidade de cada tipo de dado\n",
    "type_counts = {}\n",
    "\n",
    "for column, dtype in column_types:\n",
    "    if dtype not in type_counts:\n",
    "        type_counts[dtype] = 0\n",
    "    type_counts[dtype] += 1\n",
    "\n",
    "# Printa a quantidade de cada tipo de dado\n",
    "for dtype, count in type_counts.items():\n",
    "    print(f\"Tipo: {dtype}, Quantidade: {count}\")"
   ]
  },
  {
   "cell_type": "markdown",
   "id": "40fdefed-479b-45d3-80e8-b1327aa61d0b",
   "metadata": {
    "jp-MarkdownHeadingCollapsed": true
   },
   "source": [
    "## (6/6) Bolleans filtrando e normalizando ##"
   ]
  },
  {
   "cell_type": "code",
   "execution_count": 25,
   "id": "28cced25-85ba-449c-8466-8b1ed67d955c",
   "metadata": {},
   "outputs": [
    {
     "name": "stdout",
     "output_type": "stream",
     "text": [
      "['Fleet', 'FrameDamaged', 'has_accidents', 'isCab', 'is_new', 'salvage']\n"
     ]
    }
   ],
   "source": [
    "# filtrando as colunas booleans\n",
    "boolean_columns = [field.name for field in dataframe.schema.fields if isinstance(field.dataType, BooleanType)]\n",
    "\n",
    "# printando o nome das colunas booleans\n",
    "print(boolean_columns)\n"
   ]
  },
  {
   "cell_type": "code",
   "execution_count": 26,
   "id": "d519a06a-1170-4c02-b432-de7dd88d5298",
   "metadata": {},
   "outputs": [
    {
     "name": "stdout",
     "output_type": "stream",
     "text": [
      "Contagem de valores (excluindo null) na coluna 'fleet':\n",
      "+-----+------+\n",
      "|fleet| count|\n",
      "+-----+------+\n",
      "|false|792923|\n",
      "| true|228767|\n",
      "+-----+------+\n",
      "\n",
      "Contagem de valores (excluindo null) na coluna 'FrameDamaged':\n",
      "+------------+-------+\n",
      "|FrameDamaged|  count|\n",
      "+------------+-------+\n",
      "|       false|1018809|\n",
      "|        true|  15379|\n",
      "+------------+-------+\n",
      "\n",
      "Contagem de valores (excluindo null) na coluna 'has_accidents':\n",
      "+-------------+------+\n",
      "|has_accidents| count|\n",
      "+-------------+------+\n",
      "|        false|863219|\n",
      "|         true|195103|\n",
      "+-------------+------+\n",
      "\n",
      "Contagem de valores (excluindo null) na coluna 'isCab':\n",
      "+-----+------+\n",
      "|isCab| count|\n",
      "+-----+------+\n",
      "|false|850773|\n",
      "| true|198627|\n",
      "+-----+------+\n",
      "\n",
      "Contagem de valores (excluindo null) na coluna 'is_new':\n",
      "+------+-------+\n",
      "|is_new|  count|\n",
      "+------+-------+\n",
      "| false|1027743|\n",
      "|  true| 821805|\n",
      "+------+-------+\n",
      "\n",
      "Contagem de valores (excluindo null) na coluna 'salvage':\n",
      "+-------+-------+\n",
      "|salvage|  count|\n",
      "+-------+-------+\n",
      "|  false|1020910|\n",
      "|   true|  13523|\n",
      "+-------+-------+\n",
      "\n"
     ]
    }
   ],
   "source": [
    "# lista de colunas booleans que irei tratar\n",
    "boolean_columns = ['fleet', 'FrameDamaged', 'has_accidents', 'isCab', 'is_new', 'salvage']\n",
    "\n",
    "# filtrando e contando a quantidade de valores true e false exeto os nulls\n",
    "for col_name in boolean_columns:\n",
    "    print(f\"Contagem de valores (excluindo null) na coluna '{col_name}':\")\n",
    "    dataframe.where(col(col_name).isNotNull()).groupBy(col(col_name)).count().orderBy('count', ascending=False).show()"
   ]
  },
  {
   "cell_type": "code",
   "execution_count": 27,
   "id": "0fd63a25-610f-4dc2-8485-eda72d85d310",
   "metadata": {},
   "outputs": [],
   "source": [
    "# lista e valores booleans que irei tratar\n",
    "boolean_columns = ['fleet', 'FrameDamaged', 'has_accidents', 'isCab', 'is_new', 'salvage']\n",
    "\n",
    "# estou trocando os valores nulls por false\n",
    "for col_name in boolean_columns:\n",
    "    dataframe = dataframe.withColumn(\n",
    "        col_name,\n",
    "        when(col(col_name).isNull(), False).otherwise(col(col_name))\n",
    "    )"
   ]
  },
  {
   "cell_type": "code",
   "execution_count": 28,
   "id": "51650155-6333-4a28-9117-3aed9ce89faf",
   "metadata": {},
   "outputs": [
    {
     "name": "stdout",
     "output_type": "stream",
     "text": [
      "Contagem de valores (excluindo null) na coluna 'fleet':\n",
      "+-----+-------+\n",
      "|fleet|  count|\n",
      "+-----+-------+\n",
      "|false|2771740|\n",
      "| true| 228767|\n",
      "+-----+-------+\n",
      "\n",
      "Contagem de valores (excluindo null) na coluna 'FrameDamaged':\n",
      "+------------+-------+\n",
      "|FrameDamaged|  count|\n",
      "+------------+-------+\n",
      "|       false|2985128|\n",
      "|        true|  15379|\n",
      "+------------+-------+\n",
      "\n",
      "Contagem de valores (excluindo null) na coluna 'has_accidents':\n",
      "+-------------+-------+\n",
      "|has_accidents|  count|\n",
      "+-------------+-------+\n",
      "|        false|2805404|\n",
      "|         true| 195103|\n",
      "+-------------+-------+\n",
      "\n",
      "Contagem de valores (excluindo null) na coluna 'isCab':\n",
      "+-----+-------+\n",
      "|isCab|  count|\n",
      "+-----+-------+\n",
      "|false|2801880|\n",
      "| true| 198627|\n",
      "+-----+-------+\n",
      "\n",
      "Contagem de valores (excluindo null) na coluna 'is_new':\n",
      "+------+-------+\n",
      "|is_new|  count|\n",
      "+------+-------+\n",
      "| false|2178702|\n",
      "|  true| 821805|\n",
      "+------+-------+\n",
      "\n",
      "Contagem de valores (excluindo null) na coluna 'salvage':\n",
      "+-------+-------+\n",
      "|salvage|  count|\n",
      "+-------+-------+\n",
      "|  false|2986984|\n",
      "|   true|  13523|\n",
      "+-------+-------+\n",
      "\n"
     ]
    }
   ],
   "source": [
    "# lista de colunas booleans que irei filtar\n",
    "boolean_columns = ['fleet', 'FrameDamaged', 'has_accidents', 'isCab', 'is_new', 'salvage']\n",
    "\n",
    "# filtro e contando os valores true e false das colunas booleans apos transformar os valores nulos em false\n",
    "for col_name in boolean_columns:\n",
    "    print(f\"Contagem de valores (excluindo null) na coluna '{col_name}':\")\n",
    "    dataframe.where(col(col_name).isNotNull()).groupBy(col(col_name)).count().orderBy('count', ascending=False).show()"
   ]
  },
  {
   "cell_type": "code",
   "execution_count": 29,
   "id": "e621d967-0285-4207-a0a1-aebddb450bc9",
   "metadata": {},
   "outputs": [
    {
     "name": "stdout",
     "output_type": "stream",
     "text": [
      "Tipo: string, Quantidade: 27\n",
      "Tipo: float, Quantidade: 5\n",
      "Tipo: boolean, Quantidade: 6\n",
      "Tipo: int, Quantidade: 1\n"
     ]
    }
   ],
   "source": [
    "# Obtem os tipos de colunas\n",
    "column_types = dataframe.dtypes\n",
    "\n",
    "# Conta a quantidade de cada tipo de dado\n",
    "type_counts = {}\n",
    "\n",
    "for column, dtype in column_types:\n",
    "    if dtype not in type_counts:\n",
    "        type_counts[dtype] = 0\n",
    "    type_counts[dtype] += 1\n",
    "\n",
    "# Printa a quantidade de cada tipo de dado\n",
    "for dtype, count in type_counts.items():\n",
    "    print(f\"Tipo: {dtype}, Quantidade: {count}\")"
   ]
  },
  {
   "cell_type": "markdown",
   "id": "3ceef025-89f7-4660-a850-3f31a1460914",
   "metadata": {
    "jp-MarkdownHeadingCollapsed": true
   },
   "source": [
    "## (1/1) Int filtrando e normalizando ##"
   ]
  },
  {
   "cell_type": "code",
   "execution_count": 30,
   "id": "8e9e6af6-fcd1-4971-9a70-5e1a72d1b160",
   "metadata": {},
   "outputs": [
    {
     "name": "stdout",
     "output_type": "stream",
     "text": [
      "['year']\n"
     ]
    }
   ],
   "source": [
    "# filtrando as colunas int\n",
    "int_columns = [field.name for field in dataframe.schema.fields if isinstance(field.dataType, IntegerType)]\n",
    "\n",
    "# printando o nome das colunas int\n",
    "print(int_columns)"
   ]
  },
  {
   "cell_type": "code",
   "execution_count": 31,
   "id": "93fb2433-0b8b-4b2f-ab7a-ef16d4f01d1c",
   "metadata": {},
   "outputs": [
    {
     "name": "stdout",
     "output_type": "stream",
     "text": [
      "\n",
      "Valores da coluna: year\n",
      "+----+-------+\n",
      "|year|count  |\n",
      "+----+-------+\n",
      "|NULL|1179751|\n",
      "|2020|731937 |\n",
      "|2017|202920 |\n",
      "|2019|164789 |\n",
      "|2018|122093 |\n",
      "|2021|112434 |\n",
      "|2016|80299  |\n",
      "|2015|64298  |\n",
      "|2014|54411  |\n",
      "|2013|50991  |\n",
      "|2012|40493  |\n",
      "|2011|34747  |\n",
      "|2010|25773  |\n",
      "|2008|23568  |\n",
      "|2007|19802  |\n",
      "|2009|18975  |\n",
      "|2006|14326  |\n",
      "|2005|10996  |\n",
      "|2004|8863   |\n",
      "|2003|6522   |\n",
      "+----+-------+\n",
      "only showing top 20 rows\n",
      "\n"
     ]
    }
   ],
   "source": [
    "# Do um groupby para ver a quantidade de valores por linha\n",
    "colunas = [\"year\"]\n",
    "\n",
    "for coluna in colunas:\n",
    "    print(f\"\\nValores da coluna: {coluna}\")\n",
    "    dataframe.groupBy(coluna).count().orderBy(\"count\", ascending=False).show(truncate=False)"
   ]
  },
  {
   "cell_type": "code",
   "execution_count": 32,
   "id": "24fcc2ac-f51e-47de-8b9f-63f06b769017",
   "metadata": {},
   "outputs": [
    {
     "name": "stdout",
     "output_type": "stream",
     "text": [
      "\n",
      "Valores da coluna: year\n",
      "+----+-------+\n",
      "|year|count  |\n",
      "+----+-------+\n",
      "|NULL|1190425|\n",
      "|2020|731937 |\n",
      "|2017|202920 |\n",
      "|2019|164789 |\n",
      "|2018|122093 |\n",
      "|2021|112434 |\n",
      "|2016|80299  |\n",
      "|2015|64298  |\n",
      "|2014|54411  |\n",
      "|2013|50991  |\n",
      "|2012|40493  |\n",
      "|2011|34747  |\n",
      "|2010|25773  |\n",
      "|2008|23568  |\n",
      "|2007|19802  |\n",
      "|2009|18975  |\n",
      "|2006|14326  |\n",
      "|2005|10996  |\n",
      "|2004|8863   |\n",
      "|2003|6522   |\n",
      "+----+-------+\n",
      "only showing top 20 rows\n",
      "\n"
     ]
    }
   ],
   "source": [
    "\n",
    "\n",
    "colunaYear = 'year'\n",
    "\n",
    "# Validar se é um ano no formato correto (quatro dígitos entre 1900 e 2100), senão coloca NULL\n",
    "dataframe = dataframe.withColumn(\n",
    "    colunaYear,\n",
    "    when(\n",
    "        col(colunaYear).rlike(r'^\\d{4}$') & (col(colunaYear).cast('int') >= 1900) & (col(colunaYear).cast('int') <= 2025),\n",
    "        col(colunaYear).cast('int')\n",
    "    ).otherwise(None)\n",
    ")\n",
    "\n",
    "# Ver resultado\n",
    "# Do um groupby para ver a quantidade de valores por linha\n",
    "colunas = [\"year\"]\n",
    "\n",
    "for coluna in colunas:\n",
    "    print(f\"\\nValores da coluna: {coluna}\")\n",
    "    dataframe.groupBy(coluna).count().orderBy(\"count\", ascending=False).show(truncate=False)\n"
   ]
  },
  {
   "cell_type": "markdown",
   "id": "ce335ba9-05bf-40a6-a1b3-6b1b49a1007d",
   "metadata": {
    "jp-MarkdownHeadingCollapsed": true
   },
   "source": [
    "## (12/12) Float filtrando e normalizando ##"
   ]
  },
  {
   "cell_type": "markdown",
   "id": "c1132334-158b-4118-b179-808743f4fb36",
   "metadata": {},
   "source": [
    "## (27/27) String filtrando e normalizando ##"
   ]
  },
  {
   "cell_type": "code",
   "execution_count": 33,
   "id": "62711b47-61b3-4c8f-9f6b-4df4bf0f1659",
   "metadata": {},
   "outputs": [
    {
     "name": "stdout",
     "output_type": "stream",
     "text": [
      "['BackLegroom', 'BodyType', 'EngineCylinders', 'EngineType', 'ExteriorColor', 'FranchiseMake', 'FrontLegroom', 'fuel_tank_volume', 'fuel_type', 'height', 'interior_color', 'length', 'listed_date', 'listing_color', 'major_options', 'make_name', 'maximum_seating', 'model_name', 'power', 'torque', 'transmission', 'transmission_display', 'trim_name', 'wheel_system', 'wheel_system_display', 'wheelbase', 'width']\n"
     ]
    }
   ],
   "source": [
    "# filtrando as colunas strings\n",
    "string_columns = [field.name for field in dataframe.schema.fields if isinstance(field.dataType, StringType)]\n",
    "\n",
    "# printando o nome das colunas string\n",
    "print(string_columns)"
   ]
  },
  {
   "cell_type": "markdown",
   "id": "9cb7b313-6fb8-4b2e-aaae-615c600d6b7a",
   "metadata": {
    "jp-MarkdownHeadingCollapsed": true
   },
   "source": [
    "### (27/6) Strings com \"in\" filtrando e trocando o tipo ###"
   ]
  },
  {
   "cell_type": "code",
   "execution_count": 34,
   "id": "9e4975bf-bc76-4c99-84cc-a39b6d5b250b",
   "metadata": {},
   "outputs": [
    {
     "name": "stdout",
     "output_type": "stream",
     "text": [
      "+-----------+------------+-------+--------+---------+-------+\n",
      "|BackLegroom|FrontLegroom| height|  length|wheelbase|  width|\n",
      "+-----------+------------+-------+--------+---------+-------+\n",
      "|    35.1 in|     41.2 in|66.5 in|166.6 in| 101.2 in|79.6 in|\n",
      "|    38.1 in|     39.1 in|  68 in|  181 in| 107.9 in|85.6 in|\n",
      "|    35.4 in|     43.3 in|58.1 in|180.9 in| 104.3 in|78.9 in|\n",
      "|    37.6 in|       39 in|  73 in|195.1 in|   115 in|87.4 in|\n",
      "|    38.1 in|     39.1 in|  68 in|  181 in| 107.9 in|85.6 in|\n",
      "|    37.1 in|     40.2 in|66.3 in|188.9 in| 113.1 in|84.4 in|\n",
      "|    35.1 in|     42.3 in|56.9 in|183.5 in| 107.3 in|70.7 in|\n",
      "|    37.1 in|     40.2 in|66.3 in|188.9 in| 113.1 in|84.4 in|\n",
      "|    38.1 in|     39.1 in|  68 in|  181 in| 107.9 in|85.6 in|\n",
      "|    33.8 in|       40 in|64.9 in|172.1 in| 105.6 in|82.7 in|\n",
      "|         --|     42.7 in|46.6 in|157.5 in|  93.7 in|73.5 in|\n",
      "|    33.8 in|       40 in|64.9 in|172.1 in| 105.6 in|82.7 in|\n",
      "|    35.1 in|       42 in|56.5 in|182.5 in| 110.6 in|  80 in|\n",
      "|    37.1 in|     40.2 in|66.3 in|188.9 in| 113.1 in|84.4 in|\n",
      "|    35.1 in|     42.3 in|56.9 in|183.5 in| 107.3 in|70.7 in|\n",
      "|    35.1 in|     42.3 in|56.9 in|183.5 in| 107.3 in|70.7 in|\n",
      "|    38.1 in|     39.1 in|  68 in|  181 in| 107.9 in|85.6 in|\n",
      "|    37.1 in|     40.2 in|66.3 in|188.9 in| 113.1 in|84.4 in|\n",
      "|    37.1 in|     40.2 in|66.3 in|188.9 in| 113.1 in|84.4 in|\n",
      "|    38.1 in|     39.1 in|  68 in|  181 in| 107.9 in|85.6 in|\n",
      "+-----------+------------+-------+--------+---------+-------+\n",
      "only showing top 20 rows\n",
      "\n"
     ]
    }
   ],
   "source": [
    "# Estou printando as colunas string com in para convertelas de string para float\n",
    "colunasComIn = ['BackLegroom','FrontLegroom','height','length','wheelbase','width']\n",
    "dataframe.select(*colunasComIn).show()"
   ]
  },
  {
   "cell_type": "code",
   "execution_count": 35,
   "id": "02d62d22-7e90-4b86-bf53-7373984c93c2",
   "metadata": {},
   "outputs": [
    {
     "name": "stdout",
     "output_type": "stream",
     "text": [
      "+-----------+------------+------+------+---------+-----+\n",
      "|BackLegroom|FrontLegroom|height|length|wheelbase|width|\n",
      "+-----------+------------+------+------+---------+-----+\n",
      "|       35.1|        41.2|  66.5| 166.6|    101.2| 79.6|\n",
      "|       38.1|        39.1|  68.0| 181.0|    107.9| 85.6|\n",
      "|       35.4|        43.3|  58.1| 180.9|    104.3| 78.9|\n",
      "|       37.6|        39.0|  73.0| 195.1|    115.0| 87.4|\n",
      "|       38.1|        39.1|  68.0| 181.0|    107.9| 85.6|\n",
      "|       37.1|        40.2|  66.3| 188.9|    113.1| 84.4|\n",
      "|       35.1|        42.3|  56.9| 183.5|    107.3| 70.7|\n",
      "|       37.1|        40.2|  66.3| 188.9|    113.1| 84.4|\n",
      "|       38.1|        39.1|  68.0| 181.0|    107.9| 85.6|\n",
      "|       33.8|        40.0|  64.9| 172.1|    105.6| 82.7|\n",
      "|       NULL|        42.7|  46.6| 157.5|     93.7| 73.5|\n",
      "|       33.8|        40.0|  64.9| 172.1|    105.6| 82.7|\n",
      "|       35.1|        42.0|  56.5| 182.5|    110.6| 80.0|\n",
      "|       37.1|        40.2|  66.3| 188.9|    113.1| 84.4|\n",
      "|       35.1|        42.3|  56.9| 183.5|    107.3| 70.7|\n",
      "|       35.1|        42.3|  56.9| 183.5|    107.3| 70.7|\n",
      "|       38.1|        39.1|  68.0| 181.0|    107.9| 85.6|\n",
      "|       37.1|        40.2|  66.3| 188.9|    113.1| 84.4|\n",
      "|       37.1|        40.2|  66.3| 188.9|    113.1| 84.4|\n",
      "|       38.1|        39.1|  68.0| 181.0|    107.9| 85.6|\n",
      "+-----------+------------+------+------+---------+-----+\n",
      "only showing top 20 rows\n",
      "\n"
     ]
    }
   ],
   "source": [
    "#colunasComIn = ['BackLegroom', 'FrontLegroom', 'height', 'length', 'wheelbase', 'width']\n",
    "\n",
    "# Substituir valores que NÃO contêm 'in' por NULL e remover 'in'\n",
    "for coluna in colunasComIn:\n",
    "    dataframe = dataframe.withColumn(\n",
    "        coluna,\n",
    "        when(col(coluna).contains('in'), \n",
    "             regexp_replace(col(coluna), ' in', ''))\n",
    "        .otherwise(None)\n",
    "    )\n",
    "\n",
    "# Converter os valores restantes para float\n",
    "for coluna in colunasComIn:\n",
    "    dataframe = dataframe.withColumn(\n",
    "        coluna,\n",
    "        col(coluna).cast('float')\n",
    "    )\n",
    "\n",
    "# verificando os dados convertidos nas colunas\n",
    "dataframe.select(colunasComIn).show()"
   ]
  },
  {
   "cell_type": "code",
   "execution_count": 36,
   "id": "18757b2d-5b46-4fd0-a4e8-9461ab657182",
   "metadata": {},
   "outputs": [
    {
     "name": "stdout",
     "output_type": "stream",
     "text": [
      "\n",
      "Valores da coluna: BackLegroom\n",
      "+-----------+------+\n",
      "|BackLegroom|count |\n",
      "+-----------+------+\n",
      "|NULL       |243194|\n",
      "|38.3       |113891|\n",
      "|43.6       |102491|\n",
      "|37.4       |87363 |\n",
      "|35.7       |77162 |\n",
      "|39.0       |76100 |\n",
      "|40.4       |72784 |\n",
      "|38.0       |66933 |\n",
      "|38.6       |63955 |\n",
      "|39.9       |61498 |\n",
      "|35.2       |58446 |\n",
      "|40.9       |54789 |\n",
      "|43.4       |54337 |\n",
      "|39.7       |52996 |\n",
      "|38.1       |51923 |\n",
      "|37.9       |51458 |\n",
      "|39.6       |51135 |\n",
      "|36.1       |50570 |\n",
      "|38.4       |49812 |\n",
      "|36.5       |49805 |\n",
      "+-----------+------+\n",
      "only showing top 20 rows\n",
      "\n",
      "\n",
      "Valores da coluna: FrontLegroom\n",
      "+------------+-------+\n",
      "|FrontLegroom|count  |\n",
      "+------------+-------+\n",
      "|NULL        |1308922|\n",
      "|40.9        |118804 |\n",
      "|41.3        |100111 |\n",
      "|42.3        |90288  |\n",
      "|41.0        |78703  |\n",
      "|41.5        |69637  |\n",
      "|43.9        |69386  |\n",
      "|41.2        |69215  |\n",
      "|42.2        |64661  |\n",
      "|43.0        |53379  |\n",
      "|42.0        |50342  |\n",
      "|42.4        |50180  |\n",
      "|44.5        |46879  |\n",
      "|40.8        |45435  |\n",
      "|42.1        |44356  |\n",
      "|41.4        |44296  |\n",
      "|41.7        |42068  |\n",
      "|41.1        |40436  |\n",
      "|44.3        |40010  |\n",
      "|43.1        |39315  |\n",
      "+------------+-------+\n",
      "only showing top 20 rows\n",
      "\n",
      "\n",
      "Valores da coluna: height\n",
      "+------+-------+\n",
      "|height|count  |\n",
      "+------+-------+\n",
      "|NULL  |1269714|\n",
      "|66.1  |53958  |\n",
      "|56.5  |51256  |\n",
      "|56.9  |50436  |\n",
      "|66.3  |47634  |\n",
      "|58.1  |43360  |\n",
      "|57.1  |40199  |\n",
      "|66.5  |34388  |\n",
      "|65.4  |32758  |\n",
      "|69.9  |32114  |\n",
      "|57.9  |30710  |\n",
      "|57.7  |29966  |\n",
      "|64.8  |26499  |\n",
      "|77.2  |26159  |\n",
      "|55.7  |25804  |\n",
      "|70.6  |24714  |\n",
      "|68.1  |23099  |\n",
      "|69.3  |22021  |\n",
      "|65.3  |20803  |\n",
      "|65.0  |20784  |\n",
      "+------+-------+\n",
      "only showing top 20 rows\n",
      "\n",
      "\n",
      "Valores da coluna: length\n",
      "+------+-------+\n",
      "|length|count  |\n",
      "+------+-------+\n",
      "|NULL  |1288435|\n",
      "|231.9 |42523  |\n",
      "|182.1 |33910  |\n",
      "|182.3 |33052  |\n",
      "|184.5 |32334  |\n",
      "|183.1 |31780  |\n",
      "|176.4 |30917  |\n",
      "|182.7 |27032  |\n",
      "|231.7 |26107  |\n",
      "|191.7 |24181  |\n",
      "|192.9 |21864  |\n",
      "|180.5 |21847  |\n",
      "|189.8 |21032  |\n",
      "|192.2 |20028  |\n",
      "|191.1 |19610  |\n",
      "|192.1 |17408  |\n",
      "|178.1 |16989  |\n",
      "|194.9 |16647  |\n",
      "|180.9 |16490  |\n",
      "|167.6 |16393  |\n",
      "+------+-------+\n",
      "only showing top 20 rows\n",
      "\n",
      "\n",
      "Valores da coluna: wheelbase\n",
      "+---------+-------+\n",
      "|wheelbase|count  |\n",
      "+---------+-------+\n",
      "|NULL     |1290328|\n",
      "|106.3    |129304 |\n",
      "|112.2    |84756  |\n",
      "|105.1    |61414  |\n",
      "|111.2    |55426  |\n",
      "|109.3    |39586  |\n",
      "|145.0    |38252  |\n",
      "|111.4    |38202  |\n",
      "|105.9    |35749  |\n",
      "|107.3    |34834  |\n",
      "|111.0    |34099  |\n",
      "|104.7    |33920  |\n",
      "|106.5    |32868  |\n",
      "|109.8    |28519  |\n",
      "|102.4    |28226  |\n",
      "|100.6    |27628  |\n",
      "|106.7    |24500  |\n",
      "|112.5    |22577  |\n",
      "|110.4    |22518  |\n",
      "|103.1    |21622  |\n",
      "+---------+-------+\n",
      "only showing top 20 rows\n",
      "\n",
      "\n",
      "Valores da coluna: width\n",
      "+-----+-------+\n",
      "|width|count  |\n",
      "+-----+-------+\n",
      "|NULL |1272007|\n",
      "|72.4 |85478  |\n",
      "|73.0 |71663  |\n",
      "|70.9 |54364  |\n",
      "|96.8 |44368  |\n",
      "|72.8 |43285  |\n",
      "|83.5 |41979  |\n",
      "|69.9 |35489  |\n",
      "|72.6 |34517  |\n",
      "|70.8 |33915  |\n",
      "|73.2 |32918  |\n",
      "|80.0 |31494  |\n",
      "|78.6 |27128  |\n",
      "|70.1 |24687  |\n",
      "|85.6 |24383  |\n",
      "|81.2 |24061  |\n",
      "|69.3 |23677  |\n",
      "|85.8 |20882  |\n",
      "|73.3 |20711  |\n",
      "|80.5 |20678  |\n",
      "+-----+-------+\n",
      "only showing top 20 rows\n",
      "\n"
     ]
    }
   ],
   "source": [
    "# Do um groupby para ver a quantidade de valores por linha\n",
    "colunas = [\"BackLegroom\", \"FrontLegroom\", \"height\", \"length\", \"wheelbase\", \"width\"]\n",
    "\n",
    "for coluna in colunas:\n",
    "    print(f\"\\nValores da coluna: {coluna}\")\n",
    "    dataframe.groupBy(coluna).count().orderBy(\"count\", ascending=False).show(truncate=False)"
   ]
  },
  {
   "cell_type": "code",
   "execution_count": 37,
   "id": "aa4ddc00-dfb7-4382-8e02-f79134f54cfc",
   "metadata": {},
   "outputs": [
    {
     "name": "stdout",
     "output_type": "stream",
     "text": [
      "Tipo: float, Quantidade: 11\n",
      "Tipo: string, Quantidade: 21\n",
      "Tipo: boolean, Quantidade: 6\n",
      "Tipo: int, Quantidade: 1\n"
     ]
    }
   ],
   "source": [
    "# Obtem os tipos de colunas\n",
    "column_types = dataframe.dtypes\n",
    "\n",
    "# Conta a quantidade de cada tipo de dado\n",
    "type_counts = {}\n",
    "\n",
    "for column, dtype in column_types:\n",
    "    if dtype not in type_counts:\n",
    "        type_counts[dtype] = 0\n",
    "    type_counts[dtype] += 1\n",
    "\n",
    "# Printa a quantidade de cada tipo de dado\n",
    "for dtype, count in type_counts.items():\n",
    "    print(f\"Tipo: {dtype}, Quantidade: {count}\")"
   ]
  },
  {
   "cell_type": "markdown",
   "id": "2c4f650b-caec-486a-ac2d-9df3ce196cc8",
   "metadata": {
    "jp-MarkdownHeadingCollapsed": true
   },
   "source": [
    "### (27/11) Strings com filtro semelhante ###"
   ]
  },
  {
   "cell_type": "code",
   "execution_count": 38,
   "id": "3c520d36-9896-4609-9b8f-55f2aed34beb",
   "metadata": {},
   "outputs": [
    {
     "name": "stdout",
     "output_type": "stream",
     "text": [
      "+----------------+---------------+------------------+--------------------+-----------+\n",
      "|fuel_tank_volume|maximum_seating|             power|              torque|listed_date|\n",
      "+----------------+---------------+------------------+--------------------+-----------+\n",
      "|        12.7 gal|        5 seats|177 hp @ 5,750 RPM|200 lb-ft @ 1,750...| 2019-04-06|\n",
      "|        17.7 gal|        7 seats|246 hp @ 5,500 RPM|269 lb-ft @ 1,400...| 2020-02-15|\n",
      "|        15.9 gal|        5 seats|305 hp @ 6,000 RPM|290 lb-ft @ 4,000...| 2017-04-25|\n",
      "|        23.5 gal|        7 seats|340 hp @ 6,500 RPM|332 lb-ft @ 3,500...| 2020-02-26|\n",
      "|        17.7 gal|        7 seats|246 hp @ 5,500 RPM|269 lb-ft @ 1,400...| 2020-04-25|\n",
      "|        16.6 gal|        5 seats|247 hp @ 5,500 RPM|269 lb-ft @ 1,200...| 2020-01-11|\n",
      "|        13.2 gal|        5 seats|186 hp @ 6,000 RPM|186 lb-ft @ 4,000...| 2019-06-20|\n",
      "|        16.6 gal|        5 seats|247 hp @ 5,500 RPM|269 lb-ft @ 1,200...| 2020-07-01|\n",
      "|        17.7 gal|        7 seats|246 hp @ 5,500 RPM|269 lb-ft @ 1,400...| 2020-02-26|\n",
      "|        17.7 gal|        5 seats|296 hp @ 5,500 RPM|295 lb-ft @ 1,600...| 2019-04-18|\n",
      "|        10.5 gal|        2 seats|237 hp @ 6,000 RPM|258 lb-ft @ 4,250...| 2017-04-06|\n",
      "|        17.7 gal|        5 seats|246 hp @ 5,500 RPM|269 lb-ft @ 1,400...| 2020-03-14|\n",
      "|        15.8 gal|        5 seats|320 hp @ 5,500 RPM|330 lb-ft @ 1,380...| 2017-04-25|\n",
      "|        16.6 gal|        5 seats|247 hp @ 5,500 RPM|269 lb-ft @ 1,200...| 2020-02-21|\n",
      "|        13.2 gal|        5 seats|186 hp @ 6,000 RPM|186 lb-ft @ 4,000...| 2019-06-20|\n",
      "|        13.2 gal|        5 seats|186 hp @ 6,000 RPM|186 lb-ft @ 4,000...| 2019-06-20|\n",
      "|        17.7 gal|        7 seats|246 hp @ 5,500 RPM|269 lb-ft @ 1,400...| 2020-03-06|\n",
      "|        16.6 gal|        5 seats|247 hp @ 5,500 RPM|269 lb-ft @ 1,200...| 2020-08-20|\n",
      "|        16.6 gal|        5 seats|247 hp @ 5,500 RPM|269 lb-ft @ 1,200...| 2020-08-27|\n",
      "|        17.7 gal|        7 seats|246 hp @ 5,500 RPM|269 lb-ft @ 1,400...| 2020-01-23|\n",
      "+----------------+---------------+------------------+--------------------+-----------+\n",
      "only showing top 20 rows\n",
      "\n"
     ]
    }
   ],
   "source": [
    "# lista de strings que utilizao tecnicas semelhantes de filtro\n",
    "colunasOutros = ['fuel_tank_volume','maximum_seating','power','torque','listed_date']\n",
    "dataframe.select(*colunasOutros).show()"
   ]
  },
  {
   "cell_type": "markdown",
   "id": "1dd0ec42-6bf4-4975-bc78-3c8ba59eee37",
   "metadata": {},
   "source": [
    "#### 1.fuel_tank_volume (capacidade de enchimento do tanque de combustível em galões) ####"
   ]
  },
  {
   "cell_type": "code",
   "execution_count": 39,
   "id": "a34e7475-37be-4fdf-b214-7a550884688f",
   "metadata": {},
   "outputs": [
    {
     "name": "stdout",
     "output_type": "stream",
     "text": [
      "+----------------+\n",
      "|fuel_tank_volume|\n",
      "+----------------+\n",
      "|            12.7|\n",
      "|            17.7|\n",
      "|            15.9|\n",
      "|            23.5|\n",
      "|            17.7|\n",
      "|            16.6|\n",
      "|            13.2|\n",
      "|            16.6|\n",
      "|            17.7|\n",
      "|            17.7|\n",
      "|            10.5|\n",
      "|            17.7|\n",
      "|            15.8|\n",
      "|            16.6|\n",
      "|            13.2|\n",
      "|            13.2|\n",
      "|            17.7|\n",
      "|            16.6|\n",
      "|            16.6|\n",
      "|            17.7|\n",
      "+----------------+\n",
      "only showing top 20 rows\n",
      "\n"
     ]
    }
   ],
   "source": [
    "colunasComGal = ['fuel_tank_volume']\n",
    "\n",
    "# Substituir valores que NÃO contêm 'gal' por NULL e remover 'gal'\n",
    "for coluna in colunasComGal:\n",
    "    dataframe = dataframe.withColumn(\n",
    "        coluna,\n",
    "        when(col(coluna).contains('gal'), \n",
    "             regexp_replace(col(coluna), ' gal', ''))\n",
    "        .otherwise(None)\n",
    "    )\n",
    "\n",
    "# Converter os valores restantes para int\n",
    "for coluna in colunasComGal:\n",
    "    dataframe = dataframe.withColumn(\n",
    "        coluna,\n",
    "        col(coluna).cast('float')\n",
    "    )\n",
    "\n",
    "# Printar os dados da coluna apos o filtro\n",
    "dataframe.select(colunasComGal).show()"
   ]
  },
  {
   "cell_type": "markdown",
   "id": "90a10e09-9c7f-457a-bcef-2a80adec8469",
   "metadata": {},
   "source": [
    "#### 2.maximum_seating (assentos máximos) ####"
   ]
  },
  {
   "cell_type": "code",
   "execution_count": 40,
   "id": "91bfdad5-0f1d-4caf-a3e3-a1e8eb8ae754",
   "metadata": {},
   "outputs": [
    {
     "name": "stdout",
     "output_type": "stream",
     "text": [
      "+---------------+\n",
      "|maximum_seating|\n",
      "+---------------+\n",
      "|              5|\n",
      "|              7|\n",
      "|              5|\n",
      "|              7|\n",
      "|              7|\n",
      "|              5|\n",
      "|              5|\n",
      "|              5|\n",
      "|              7|\n",
      "|              5|\n",
      "|              2|\n",
      "|              5|\n",
      "|              5|\n",
      "|              5|\n",
      "|              5|\n",
      "|              5|\n",
      "|              7|\n",
      "|              5|\n",
      "|              5|\n",
      "|              7|\n",
      "+---------------+\n",
      "only showing top 20 rows\n",
      "\n"
     ]
    }
   ],
   "source": [
    "colunasComSeats = ['maximum_seating']\n",
    "\n",
    "# Substituir valores que NÃO contêm 'in' por NULL e remover 'gal'\n",
    "for coluna in colunasComSeats:\n",
    "    dataframe = dataframe.withColumn(\n",
    "        coluna,\n",
    "        when(col(coluna).contains('seats'), \n",
    "             regexp_replace(col(coluna), ' seats', ''))\n",
    "        .otherwise(None)\n",
    "    )\n",
    "\n",
    "# Converter os valores restantes para int\n",
    "for coluna in colunasComSeats:\n",
    "    dataframe = dataframe.withColumn(\n",
    "        coluna,\n",
    "        col(coluna).cast('int')\n",
    "    )\n",
    "\n",
    "# Printar os dados da coluna apos o filtro\n",
    "dataframe.select(colunasComSeats).show()"
   ]
  },
  {
   "cell_type": "markdown",
   "id": "952a69fa-a5ed-43ed-b701-ba7f59cd90ba",
   "metadata": {},
   "source": [
    "#### 3.power (potência do veículo) ####"
   ]
  },
  {
   "cell_type": "code",
   "execution_count": 41,
   "id": "7602d8fa-c0f4-4046-987c-85f034eb7f27",
   "metadata": {},
   "outputs": [
    {
     "name": "stdout",
     "output_type": "stream",
     "text": [
      "+-----+\n",
      "|power|\n",
      "+-----+\n",
      "|  177|\n",
      "|  246|\n",
      "|  305|\n",
      "|  340|\n",
      "|  246|\n",
      "|  247|\n",
      "|  186|\n",
      "|  247|\n",
      "|  246|\n",
      "|  296|\n",
      "|  237|\n",
      "|  246|\n",
      "|  320|\n",
      "|  247|\n",
      "|  186|\n",
      "|  186|\n",
      "|  246|\n",
      "|  247|\n",
      "|  247|\n",
      "|  246|\n",
      "+-----+\n",
      "only showing top 20 rows\n",
      "\n"
     ]
    }
   ],
   "source": [
    "colunasComHp = ['power']\n",
    "\n",
    "# Substituir valores que NÃO contêm 'hp' por NULL e extrair apenas o primeiro número\n",
    "for coluna in colunasComHp:\n",
    "    dataframe = dataframe.withColumn(\n",
    "        coluna,\n",
    "        when(\n",
    "            col(coluna).contains('hp'),\n",
    "            regexp_extract(col(coluna), r'^(\\d+)', 1)\n",
    "        ).otherwise(None)\n",
    "    )\n",
    "\n",
    "# Converter para float\n",
    "for coluna in colunasComHp:\n",
    "    dataframe = dataframe.withColumn(\n",
    "        coluna,\n",
    "        col(coluna).cast('int')\n",
    "    )\n",
    "\n",
    "# Printar os dados da coluna apos o filtro\n",
    "dataframe.select(colunasComHp).show()"
   ]
  },
  {
   "cell_type": "markdown",
   "id": "5152f033-6f63-4e00-9676-c2f0aff29a82",
   "metadata": {},
   "source": [
    "#### 4.torque (Torque do motor) ####"
   ]
  },
  {
   "cell_type": "code",
   "execution_count": 42,
   "id": "09791209-f100-4f8b-a507-41cb8462a5c0",
   "metadata": {},
   "outputs": [
    {
     "name": "stdout",
     "output_type": "stream",
     "text": [
      "+------+\n",
      "|torque|\n",
      "+------+\n",
      "|   200|\n",
      "|   269|\n",
      "|   290|\n",
      "|   332|\n",
      "|   269|\n",
      "|   269|\n",
      "|   186|\n",
      "|   269|\n",
      "|   269|\n",
      "|   295|\n",
      "|   258|\n",
      "|   269|\n",
      "|   330|\n",
      "|   269|\n",
      "|   186|\n",
      "|   186|\n",
      "|   269|\n",
      "|   269|\n",
      "|   269|\n",
      "|   269|\n",
      "+------+\n",
      "only showing top 20 rows\n",
      "\n"
     ]
    }
   ],
   "source": [
    "colunasComTorque = ['torque']\n",
    "\n",
    "# Substituir valores que NÃO contêm 'lb-ft' por NULL e extrair apenas o primeiro número\n",
    "for coluna in colunasComTorque:\n",
    "    dataframe = dataframe.withColumn(\n",
    "        coluna,\n",
    "        when(\n",
    "            col(coluna).contains('lb-ft'),\n",
    "            regexp_extract(col(coluna), r'^(\\d+)', 1)\n",
    "        ).otherwise(None)\n",
    "    )\n",
    "\n",
    "# Converter para float\n",
    "for coluna in colunasComTorque:\n",
    "    dataframe = dataframe.withColumn(\n",
    "        coluna,\n",
    "        col(coluna).cast('int')\n",
    "    )\n",
    "\n",
    "# Printar os dados da coluna apos o filtro\n",
    "dataframe.select(colunasComTorque).show()"
   ]
  },
  {
   "cell_type": "markdown",
   "id": "3ab78378-fac2-4d4e-8b68-91a4aee73081",
   "metadata": {},
   "source": [
    "#### 5.listed_date (data em que o veículo foi anunciado no site) ####"
   ]
  },
  {
   "cell_type": "code",
   "execution_count": 43,
   "id": "19ba8402-91fb-4fb5-80f5-7e5e41fda10c",
   "metadata": {},
   "outputs": [
    {
     "name": "stdout",
     "output_type": "stream",
     "text": [
      "+-----------+\n",
      "|listed_date|\n",
      "+-----------+\n",
      "| 2019-04-06|\n",
      "| 2020-02-15|\n",
      "| 2017-04-25|\n",
      "| 2020-02-26|\n",
      "| 2020-04-25|\n",
      "| 2020-01-11|\n",
      "| 2019-06-20|\n",
      "| 2020-07-01|\n",
      "| 2020-02-26|\n",
      "| 2019-04-18|\n",
      "| 2017-04-06|\n",
      "| 2020-03-14|\n",
      "| 2017-04-25|\n",
      "| 2020-02-21|\n",
      "| 2019-06-20|\n",
      "| 2019-06-20|\n",
      "| 2020-03-06|\n",
      "| 2020-08-20|\n",
      "| 2020-08-27|\n",
      "| 2020-01-23|\n",
      "+-----------+\n",
      "only showing top 20 rows\n",
      "\n"
     ]
    }
   ],
   "source": [
    "colunaData = 'listed_date'\n",
    "\n",
    "# Validar se a data está no formato 'YYYY-MM-DD', senao passa como NULL\n",
    "dataframe = dataframe.withColumn(\n",
    "    colunaData,\n",
    "    when(\n",
    "        col(colunaData).rlike(r'^\\d{4}-\\d{2}-\\d{2}$'),\n",
    "        to_date(col(colunaData), 'yyyy-MM-dd')\n",
    "    ).otherwise(None)\n",
    ")\n",
    "\n",
    "# Printar os dados da coluna apos o filtro\n",
    "dataframe.select(colunaData).show()"
   ]
  },
  {
   "cell_type": "code",
   "execution_count": 44,
   "id": "2fa48af5-4787-488c-bb4c-f2dbe9126649",
   "metadata": {},
   "outputs": [
    {
     "name": "stdout",
     "output_type": "stream",
     "text": [
      "\n",
      "Valores da coluna: fuel_tank_volume\n",
      "+----------------+-------+\n",
      "|fuel_tank_volume|count  |\n",
      "+----------------+-------+\n",
      "|NULL            |1300114|\n",
      "|13.2            |106999 |\n",
      "|18.5            |88877  |\n",
      "|26.0            |88482  |\n",
      "|14.0            |88117  |\n",
      "|14.5            |66067  |\n",
      "|19.5            |55668  |\n",
      "|15.9            |54102  |\n",
      "|12.4            |42459  |\n",
      "|18.0            |41569  |\n",
      "|19.0            |39789  |\n",
      "|16.0            |38697  |\n",
      "|16.4            |37037  |\n",
      "|20.0            |36378  |\n",
      "|15.8            |35645  |\n",
      "|18.8            |33237  |\n",
      "|24.0            |31399  |\n",
      "|23.0            |27553  |\n",
      "|19.2            |26992  |\n",
      "|15.3            |26991  |\n",
      "+----------------+-------+\n",
      "only showing top 20 rows\n",
      "\n",
      "\n",
      "Valores da coluna: maximum_seating\n",
      "+---------------+-------+\n",
      "|maximum_seating|count  |\n",
      "+---------------+-------+\n",
      "|NULL           |1299253|\n",
      "|5              |1163880|\n",
      "|7              |181846 |\n",
      "|6              |138606 |\n",
      "|8              |120440 |\n",
      "|4              |51060  |\n",
      "|2              |22392  |\n",
      "|3              |15158  |\n",
      "|15             |4209   |\n",
      "|9              |2278   |\n",
      "|12             |1062   |\n",
      "|10             |323    |\n",
      "+---------------+-------+\n",
      "\n",
      "\n",
      "Valores da coluna: power\n",
      "+-----+-------+\n",
      "|power|count  |\n",
      "+-----+-------+\n",
      "|NULL |1491597|\n",
      "|170  |61493  |\n",
      "|395  |52389  |\n",
      "|147  |40057  |\n",
      "|181  |37727  |\n",
      "|280  |37083  |\n",
      "|355  |36885  |\n",
      "|295  |34558  |\n",
      "|185  |34452  |\n",
      "|310  |34448  |\n",
      "|138  |33726  |\n",
      "|240  |27375  |\n",
      "|290  |27197  |\n",
      "|182  |25936  |\n",
      "|250  |25800  |\n",
      "|190  |24128  |\n",
      "|160  |22650  |\n",
      "|300  |21619  |\n",
      "|180  |21485  |\n",
      "|158  |18662  |\n",
      "+-----+-------+\n",
      "only showing top 20 rows\n",
      "\n",
      "\n",
      "Valores da coluna: torque\n",
      "+------+-------+\n",
      "|torque|count  |\n",
      "+------+-------+\n",
      "|NULL  |1515600|\n",
      "|175   |60567  |\n",
      "|260   |59284  |\n",
      "|262   |39475  |\n",
      "|258   |38831  |\n",
      "|132   |37273  |\n",
      "|383   |36740  |\n",
      "|400   |36148  |\n",
      "|148   |35910  |\n",
      "|270   |32034  |\n",
      "|184   |31019  |\n",
      "|178   |25481  |\n",
      "|273   |25372  |\n",
      "|185   |23538  |\n",
      "|180   |22797  |\n",
      "|295   |22069  |\n",
      "|410   |21665  |\n",
      "|275   |20786  |\n",
      "|179   |20776  |\n",
      "|263   |19933  |\n",
      "+------+-------+\n",
      "only showing top 20 rows\n",
      "\n",
      "\n",
      "Valores da coluna: listed_date\n",
      "+-----------+-------+\n",
      "|listed_date|count  |\n",
      "+-----------+-------+\n",
      "|NULL       |1190477|\n",
      "|2020-09-03 |46249  |\n",
      "|2020-09-04 |43047  |\n",
      "|2020-09-02 |41577  |\n",
      "|2020-09-05 |41182  |\n",
      "|2020-08-29 |36480  |\n",
      "|2020-08-28 |35656  |\n",
      "|2020-08-27 |35240  |\n",
      "|2020-09-10 |33557  |\n",
      "|2020-08-26 |33034  |\n",
      "|2020-08-21 |31823  |\n",
      "|2020-08-22 |30966  |\n",
      "|2020-08-20 |29520  |\n",
      "|2020-09-06 |29223  |\n",
      "|2020-08-30 |27466  |\n",
      "|2020-09-09 |26954  |\n",
      "|2020-08-19 |26689  |\n",
      "|2020-08-15 |25777  |\n",
      "|2020-08-14 |25765  |\n",
      "|2020-08-13 |25298  |\n",
      "+-----------+-------+\n",
      "only showing top 20 rows\n",
      "\n"
     ]
    }
   ],
   "source": [
    "# Lista de todas as colunas que eu filtrei\n",
    "colunasOutros = ['fuel_tank_volume','maximum_seating','power','torque','listed_date']\n",
    "\n",
    "# Dando um groupby e printando todas as colunas da minhas lista\n",
    "for coluna in colunasOutros:\n",
    "    print(f\"\\nValores da coluna: {coluna}\")\n",
    "    dataframe.groupBy(coluna).count().orderBy(\"count\", ascending=False).show(truncate=False)"
   ]
  },
  {
   "cell_type": "code",
   "execution_count": 45,
   "id": "7df47563-b4fa-4a79-a48f-89a3fbb22fd6",
   "metadata": {},
   "outputs": [
    {
     "name": "stdout",
     "output_type": "stream",
     "text": [
      "Tipo: float, Quantidade: 12\n",
      "Tipo: string, Quantidade: 16\n",
      "Tipo: boolean, Quantidade: 6\n",
      "Tipo: date, Quantidade: 1\n",
      "Tipo: int, Quantidade: 4\n"
     ]
    }
   ],
   "source": [
    "# Obtem os tipos de colunas\n",
    "column_types = dataframe.dtypes\n",
    "\n",
    "# Conta a quantidade de cada tipo de dado\n",
    "type_counts = {}\n",
    "\n",
    "for column, dtype in column_types:\n",
    "    if dtype not in type_counts:\n",
    "        type_counts[dtype] = 0\n",
    "    type_counts[dtype] += 1\n",
    "\n",
    "# Printa a quantidade de cada tipo de dado\n",
    "for dtype, count in type_counts.items():\n",
    "    print(f\"Tipo: {dtype}, Quantidade: {count}\")"
   ]
  },
  {
   "cell_type": "markdown",
   "id": "cfbef9f3-7d6c-4eec-894c-2605fc3045a6",
   "metadata": {},
   "source": [
    "### (27/27) String corrigindo tipos de dados, valores fora do padrão e eliminando duplicatas ###"
   ]
  },
  {
   "cell_type": "markdown",
   "id": "8c609261-29ba-41ce-9f67-8566863fbacf",
   "metadata": {
    "jp-MarkdownHeadingCollapsed": true
   },
   "source": [
    "#### 1.BodyType (tipo de carroceria). ####"
   ]
  },
  {
   "cell_type": "code",
   "execution_count": 46,
   "id": "0345d656-f601-4c00-911f-4f54bd6ce9eb",
   "metadata": {},
   "outputs": [
    {
     "name": "stdout",
     "output_type": "stream",
     "text": [
      "+--------------------------------------------------------------------------------------------------------------------------------------------------------------------------------------------------------------------------------------------------+-------+\n",
      "|BodyType                                                                                                                                                                                                                                          |count  |\n",
      "+--------------------------------------------------------------------------------------------------------------------------------------------------------------------------------------------------------------------------------------------------+-------+\n",
      "|SUV / Crossover                                                                                                                                                                                                                                   |1416402|\n",
      "|Sedan                                                                                                                                                                                                                                             |742036 |\n",
      "|Pickup Truck                                                                                                                                                                                                                                      |474595 |\n",
      "|Hatchback                                                                                                                                                                                                                                         |88374  |\n",
      "|Minivan                                                                                                                                                                                                                                           |79802  |\n",
      "|Coupe                                                                                                                                                                                                                                             |71607  |\n",
      "|Van                                                                                                                                                                                                                                               |47166  |\n",
      "|Wagon                                                                                                                                                                                                                                             |40505  |\n",
      "|Convertible                                                                                                                                                                                                                                       |26010  |\n",
      "|NULL                                                                                                                                                                                                                                              |13918  |\n",
      "|False                                                                                                                                                                                                                                             |16     |\n",
      "| Brake Assist                                                                                                                                                                                                                                     |8      |\n",
      "| DOHC with Variable Valve Timing (VVT) (310 hp [231.1 kW] @ 6600 rpm                                                                                                                                                                              |3      |\n",
      "|5000.0                                                                                                                                                                                                                                            |2      |\n",
      "|White                                                                                                                                                                                                                                             |2      |\n",
      "|True                                                                                                                                                                                                                                              |2      |\n",
      "| 'Premium Wheels'                                                                                                                                                                                                                                 |2      |\n",
      "| SD                                                                                                                                                                                                                                               |2      |\n",
      "| we are not responsible for any errors or omissions contained on these pages. Please verify any information in question with Platinum Auto Group[!@@Additional Info@@!]Engine: 3.6L V6 24V VVT|3.21 Rear Axle Ratio|Normal duty suspension|GVWR: 5|2      |\n",
      "| 'Heated Seats'                                                                                                                                                                                                                                   |1      |\n",
      "+--------------------------------------------------------------------------------------------------------------------------------------------------------------------------------------------------------------------------------------------------+-------+\n",
      "only showing top 20 rows\n",
      "\n"
     ]
    }
   ],
   "source": [
    "# Fazendo o groupby na minha coluna bodytype e printando a tabela para visualizar os tipos de carroceria que tem na coluna\n",
    "dataframe.groupBy(\"BodyType\").count().orderBy(\"count\", ascending=False).show(truncate=False)"
   ]
  },
  {
   "cell_type": "code",
   "execution_count": 47,
   "id": "9ae1ab00-4ec8-4784-a737-51ca180f9cfd",
   "metadata": {},
   "outputs": [
    {
     "name": "stdout",
     "output_type": "stream",
     "text": [
      "+---------------+-------+\n",
      "|BodyType       |count  |\n",
      "+---------------+-------+\n",
      "|SUV / Crossover|1416402|\n",
      "|Sedan          |742036 |\n",
      "|Pickup Truck   |474595 |\n",
      "|Hatchback      |88374  |\n",
      "|Minivan        |79802  |\n",
      "|Coupe          |71607  |\n",
      "|Van            |47166  |\n",
      "|Wagon          |40505  |\n",
      "|Convertible    |26010  |\n",
      "|NULL           |14010  |\n",
      "+---------------+-------+\n",
      "\n"
     ]
    }
   ],
   "source": [
    "# Lista de tipos de carroceria validos para a minha coluna\n",
    "tipos_validos = [\n",
    "    \"SUV / Crossover\", \"Sedan\", \"Pickup Truck\", \"Hatchback\",\n",
    "    \"Minivan\", \"Coupe\", \"Van\", \"Wagon\", \"Convertible\"\n",
    "]\n",
    "\n",
    "# Eu filtro os tipos de carroceria e oque for diferente doque esta dentro da minha variavel tipos_validos é passado como NULL\n",
    "dataframe = dataframe.withColumn(\n",
    "    \"BodyType\",\n",
    "    when(col(\"BodyType\").isin(tipos_validos), col(\"BodyType\")).otherwise(None)\n",
    ")\n",
    "\n",
    "# Conto as linhas repetidas e exebo em uma tabela\n",
    "dataframe.groupBy(\"BodyType\").count().orderBy(\"count\", ascending=False).show(truncate=False)"
   ]
  },
  {
   "cell_type": "markdown",
   "id": "4da23f25-0941-4637-ac65-ef222666a514",
   "metadata": {
    "jp-MarkdownHeadingCollapsed": true
   },
   "source": [
    "#### 2.EngineCylinders (cilindros do motor). ####"
   ]
  },
  {
   "cell_type": "code",
   "execution_count": 48,
   "id": "dd80c715-35b9-4e1b-9116-cc723c422f80",
   "metadata": {},
   "outputs": [
    {
     "name": "stdout",
     "output_type": "stream",
     "text": [
      "+-----------------------------+------+\n",
      "|EngineCylinders              |count |\n",
      "+-----------------------------+------+\n",
      "|I4                           |889291|\n",
      "|V6                           |425550|\n",
      "|V8                           |139099|\n",
      "|NULL                         |71598 |\n",
      "|Rear window wiper            |66274 |\n",
      "|I4 Hybrid                    |52965 |\n",
      "|V8 Flex Fuel Vehicle         |44925 |\n",
      "|H4                           |42723 |\n",
      "|Front Bucket Seats           |37748 |\n",
      "|V6 Flex Fuel Vehicle         |34831 |\n",
      "|Air Conditioning             |33835 |\n",
      "|Rain sensing wipers          |33629 |\n",
      "|I3                           |32948 |\n",
      "|Variably intermittent wipers |27096 |\n",
      "|I6                           |20267 |\n",
      "|Heated Front Bucket Seats    |19452 |\n",
      "|Speed-Sensitive Wipers       |13687 |\n",
      "| 4-Wheel Disc Brakes         |12406 |\n",
      "|Variably intermittent wipers\"|12341 |\n",
      "|SiriusXM Satellite Radio     |12088 |\n",
      "+-----------------------------+------+\n",
      "only showing top 20 rows\n",
      "\n"
     ]
    }
   ],
   "source": [
    "# Fazendo o groupby na minha coluna EngineCylinders e printando a tabela para visualizar os tipos de cilindros do motor que tem na coluna\n",
    "dataframe.groupBy(\"EngineCylinders\").count().orderBy(\"count\", ascending=False).show(truncate=False)"
   ]
  },
  {
   "cell_type": "code",
   "execution_count": 49,
   "id": "efe9c631-4e45-42a1-9f06-52d1851713b8",
   "metadata": {},
   "outputs": [
    {
     "name": "stdout",
     "output_type": "stream",
     "text": [
      "+--------------------+-------+\n",
      "|EngineCylinders     |count  |\n",
      "+--------------------+-------+\n",
      "|NULL                |1261993|\n",
      "|I4                  |889291 |\n",
      "|V6                  |425550 |\n",
      "|V8                  |139099 |\n",
      "|I4 Hybrid           |52965  |\n",
      "|V8 Flex Fuel Vehicle|44925  |\n",
      "|H4                  |42723  |\n",
      "|V6 Flex Fuel Vehicle|34831  |\n",
      "|I3                  |32948  |\n",
      "|I6                  |20267  |\n",
      "|V8 Biodiesel        |11623  |\n",
      "|I6 Diesel           |9744   |\n",
      "|I4 Flex Fuel Vehicle|6485   |\n",
      "|I4 Diesel           |5552   |\n",
      "|I5                  |4596   |\n",
      "|V8 Diesel           |4587   |\n",
      "|V6 Diesel           |3659   |\n",
      "|H6                  |3228   |\n",
      "|V6 Hybrid           |2005   |\n",
      "|V6 Biodiesel        |1306   |\n",
      "+--------------------+-------+\n",
      "only showing top 20 rows\n",
      "\n"
     ]
    }
   ],
   "source": [
    "regex_cilindro = r\"^(I[0-9]+|V[0-9]+|H[0-9]+)( .+)?$\"\n",
    "\n",
    "# Aplica o filtro com regex: mantém apenas os que correspondem ao padrão, o resto vira NULL\n",
    "dataframe = dataframe.withColumn(\n",
    "    \"EngineCylinders\",\n",
    "    when(col(\"EngineCylinders\").rlike(regex_cilindro), col(\"EngineCylinders\")).otherwise(None)\n",
    ")\n",
    "\n",
    "# Agrupa e conta os registros por cilindrada (válidos)\n",
    "dataframe.groupBy(\"EngineCylinders\").count().orderBy(\"count\", ascending=False).show(truncate=False)"
   ]
  },
  {
   "cell_type": "markdown",
   "id": "cca15e13-b021-45d8-8c9f-0cdfa200448c",
   "metadata": {
    "jp-MarkdownHeadingCollapsed": true
   },
   "source": [
    "#### 3.EngineType (tipo de motor). ####"
   ]
  },
  {
   "cell_type": "code",
   "execution_count": 50,
   "id": "99a6b501-0ed4-4f3c-b35f-6e55504ae581",
   "metadata": {},
   "outputs": [
    {
     "name": "stdout",
     "output_type": "stream",
     "text": [
      "+-----------------------------+------+\n",
      "|EngineType                   |count |\n",
      "+-----------------------------+------+\n",
      "|I4                           |902463|\n",
      "|V6                           |430108|\n",
      "|V8                           |140515|\n",
      "|NULL                         |73521 |\n",
      "|I4 Hybrid                    |53710 |\n",
      "|V8 Flex Fuel Vehicle         |46162 |\n",
      "|Variably intermittent wipers |45587 |\n",
      "|H4                           |42817 |\n",
      "|V6 Flex Fuel Vehicle         |35520 |\n",
      "|I3                           |33079 |\n",
      "|I6                           |20356 |\n",
      "|Front dual zone A/C          |15263 |\n",
      "|Automatic temperature control|13339 |\n",
      "|Speed-Sensitive Wipers       |13110 |\n",
      "|V8 Biodiesel                 |11905 |\n",
      "| ABS brakes                  |10980 |\n",
      "|Air Conditioning             |10290 |\n",
      "|Rear window defroster        |10198 |\n",
      "|I6 Diesel                    |9792  |\n",
      "|Radio: AM/FM Audio System    |9713  |\n",
      "+-----------------------------+------+\n",
      "only showing top 20 rows\n",
      "\n"
     ]
    }
   ],
   "source": [
    "# Fazendo o groupby na minha coluna EngineType e printando a tabela para visualizar os tipos de motor do motor que tem na coluna\n",
    "dataframe.groupBy(\"EngineType\").count().orderBy(\"count\", ascending=False).show(truncate=False)"
   ]
  },
  {
   "cell_type": "code",
   "execution_count": 51,
   "id": "1c80dbc0-7e3d-46ff-9622-f1f5747bab9a",
   "metadata": {},
   "outputs": [
    {
     "name": "stdout",
     "output_type": "stream",
     "text": [
      "+--------------------+-------+\n",
      "|EngineType          |count  |\n",
      "+--------------------+-------+\n",
      "|NULL                |1239031|\n",
      "|I4                  |902463 |\n",
      "|V6                  |430108 |\n",
      "|V8                  |140515 |\n",
      "|I4 Hybrid           |53710  |\n",
      "|V8 Flex Fuel Vehicle|46162  |\n",
      "|H4                  |42817  |\n",
      "|V6 Flex Fuel Vehicle|35520  |\n",
      "|I3                  |33079  |\n",
      "|I6                  |20356  |\n",
      "|V8 Biodiesel        |11905  |\n",
      "|I6 Diesel           |9792   |\n",
      "|I4 Flex Fuel Vehicle|6627   |\n",
      "|I4 Diesel           |5595   |\n",
      "|V8 Diesel           |4690   |\n",
      "|I5                  |4657   |\n",
      "|V6 Diesel           |3687   |\n",
      "|H6                  |3277   |\n",
      "|V6 Hybrid           |2008   |\n",
      "|V6 Biodiesel        |1320   |\n",
      "+--------------------+-------+\n",
      "only showing top 20 rows\n",
      "\n"
     ]
    }
   ],
   "source": [
    "regex_engineType = r\"^(I[0-9]+|V[0-9]+|H[0-9]+)( .+)?$\"\n",
    "\n",
    "# Aplica o filtro com regex: mantém apenas os que correspondem ao padrão, o resto vira NULL\n",
    "dataframe = dataframe.withColumn(\n",
    "    \"EngineType\",\n",
    "    when(col(\"EngineType\").rlike(regex_engineType), col(\"EngineType\")).otherwise(None)\n",
    ")\n",
    "\n",
    "# Agrupa e conta os registros por cilindrada (válidos)\n",
    "dataframe.groupBy(\"EngineType\").count().orderBy(\"count\", ascending=False).show(truncate=False)"
   ]
  },
  {
   "cell_type": "markdown",
   "id": "c2cf36c7-0958-4c42-8287-b3c1b242c80f",
   "metadata": {
    "jp-MarkdownHeadingCollapsed": true
   },
   "source": [
    "#### 4.ExteriorColor (cor externa do veículo). ####"
   ]
  },
  {
   "cell_type": "code",
   "execution_count": 52,
   "id": "9719a3db-1f95-477b-858e-f7af4388742d",
   "metadata": {},
   "outputs": [
    {
     "name": "stdout",
     "output_type": "stream",
     "text": [
      "+----------------------------+------+\n",
      "|ExteriorColor               |count |\n",
      "+----------------------------+------+\n",
      "|Black                       |105464|\n",
      "|White                       |95246 |\n",
      "|Silver                      |59396 |\n",
      "|Gray                        |58950 |\n",
      "|None                        |40261 |\n",
      "|Summit White                |40244 |\n",
      "|Blue                        |39021 |\n",
      "|Red                         |31466 |\n",
      "|I4                          |31330 |\n",
      "|4-Wheel Disc Brakes         |30845 |\n",
      "|Oxford White                |29922 |\n",
      "|BLACK                       |24010 |\n",
      "|WHITE                       |21293 |\n",
      "|Variably intermittent wipers|18255 |\n",
      "|Platinum White Pearl        |18025 |\n",
      "|Crystal Black Pearl         |17314 |\n",
      "|Gun Metallic                |16906 |\n",
      "|Modern Steel Metallic       |16614 |\n",
      "|Silver Ice Metallic         |15081 |\n",
      "|Lunar Silver Metallic       |14736 |\n",
      "+----------------------------+------+\n",
      "only showing top 20 rows\n",
      "\n"
     ]
    }
   ],
   "source": [
    "# Agrupa e conta primeiro\n",
    "grouped_df = dataframe.groupBy(\"ExteriorColor\").count()\n",
    "\n",
    "# Danto groupby para ver os tipos de cores que temos na coluna ExteriorColor\n",
    "grouped_df.orderBy(col(\"count\").desc()).show(20, truncate=False)\n",
    "# Esta coluna tem muitas linhas dps de aplicar o groupby isto e visivel apos observar o primeiro conjunto que e composto por 105646 linhas de um dataset com 3000507\n",
    "# O valor do conjunto so vai diminuindo desta forma criando varios conjuntos de dados"
   ]
  },
  {
   "cell_type": "code",
   "execution_count": 53,
   "id": "51a40964-3a4b-4f65-ae26-77f220f16f68",
   "metadata": {},
   "outputs": [
    {
     "name": "stdout",
     "output_type": "stream",
     "text": [
      "+-------------------------+-------+\n",
      "|ExteriorColor            |count  |\n",
      "+-------------------------+-------+\n",
      "|NULL                     |1663379|\n",
      "|Black                    |105464 |\n",
      "|White                    |95246  |\n",
      "|Silver                   |59396  |\n",
      "|Gray                     |58950  |\n",
      "|Summit White             |40244  |\n",
      "|Blue                     |39021  |\n",
      "|Red                      |31466  |\n",
      "|Oxford White             |29922  |\n",
      "|Platinum White Pearl     |18025  |\n",
      "|Crystal Black Pearl      |17314  |\n",
      "|Silver Ice Metallic      |15081  |\n",
      "|Lunar Silver Metallic    |14736  |\n",
      "|Super White              |13372  |\n",
      "|Mosaic Black Metallic    |11078  |\n",
      "|Brilliant Silver Metallic|10794  |\n",
      "|Shadow Black             |9811   |\n",
      "|Super Black              |9202   |\n",
      "|Agate Black Metallic     |9110   |\n",
      "|Bright White Clearcoat   |9082   |\n",
      "+-------------------------+-------+\n",
      "only showing top 20 rows\n",
      "\n"
     ]
    }
   ],
   "source": [
    "# Lista das cores base\n",
    "cores_validas = [\n",
    "    \"Black\", \"White\", \"Silver\", \"Gray\", \"Blue\", \"Red\", \"Green\", \"Brown\",\n",
    "    \"Gold\", \"Yellow\", \"Orange\", \"Purple\", \"Beige\", \"Maroon\"\n",
    "]\n",
    "\n",
    "# Expressão para filtrar grupos que sao variaçoes da lista cores_validas\n",
    "regex_cores = r\"\\b(\" + \"|\".join(cores_validas) + r\")\\b\"\n",
    "\n",
    "# Aplica o filtro mantendo só as linhas que possuem variações dessas cores\n",
    "dataframe = dataframe.withColumn(\n",
    "    \"ExteriorColor\",\n",
    "    when(col(\"ExteriorColor\").rlike(regex_cores), col(\"ExteriorColor\")).otherwise(None)\n",
    ")\n",
    "\n",
    "# Agrupa e conta os registros por cor\n",
    "dataframe.groupBy(\"ExteriorColor\").count().orderBy(col(\"count\").desc()).show(20, truncate=False)"
   ]
  },
  {
   "cell_type": "markdown",
   "id": "a26b6e31-7ce0-45b7-8511-82351e10c06b",
   "metadata": {
    "jp-MarkdownHeadingCollapsed": true
   },
   "source": [
    "#### 5.FranchiseMake (empresa proprietária da franquia). ####"
   ]
  },
  {
   "cell_type": "code",
   "execution_count": 54,
   "id": "332079e1-b574-46a4-a093-f27f3d7ad847",
   "metadata": {},
   "outputs": [
    {
     "name": "stdout",
     "output_type": "stream",
     "text": [
      "+-------------------+------+\n",
      "|FranchiseMake      |count |\n",
      "+-------------------+------+\n",
      "|NULL               |510574|\n",
      "|Ford               |209069|\n",
      "|Chevrolet          |156402|\n",
      "|Honda              |126213|\n",
      "|Toyota             |121974|\n",
      "|Jeep               |83067 |\n",
      "|Nissan             |80432 |\n",
      "|Hyundai            |75541 |\n",
      "|Kia                |55186 |\n",
      "|Buick              |39533 |\n",
      "|Subaru             |38931 |\n",
      "|False              |35166 |\n",
      "|Volkswagen         |33730 |\n",
      "|GMC                |28067 |\n",
      "|BMW                |28005 |\n",
      "|Mazda              |27144 |\n",
      "|RAM                |26189 |\n",
      "|Air Conditioning   |23595 |\n",
      "|Mercedes-Benz      |22274 |\n",
      "|4-Wheel Disc Brakes|20129 |\n",
      "+-------------------+------+\n",
      "only showing top 20 rows\n",
      "\n"
     ]
    }
   ],
   "source": [
    "# Agrupa o mome das franquias para criar uma lista para o filtro\n",
    "grouped_df = dataframe.groupBy(\"FranchiseMake\").count()\n",
    "\n",
    "# Printando a tabela do groupyby\n",
    "grouped_df.orderBy(col(\"count\").desc()).show(20, truncate=False)"
   ]
  },
  {
   "cell_type": "code",
   "execution_count": 55,
   "id": "7d86785c-f859-4ea7-b39c-734888209d23",
   "metadata": {},
   "outputs": [
    {
     "name": "stdout",
     "output_type": "stream",
     "text": [
      "+-------------+-------+\n",
      "|FranchiseMake|count  |\n",
      "+-------------+-------+\n",
      "|NULL         |1693552|\n",
      "|Ford         |209069 |\n",
      "|Chevrolet    |156402 |\n",
      "|Honda        |126213 |\n",
      "|Toyota       |121974 |\n",
      "|Jeep         |83067  |\n",
      "|Nissan       |80432  |\n",
      "|Hyundai      |75541  |\n",
      "|Kia          |55186  |\n",
      "|Buick        |39533  |\n",
      "|Subaru       |38931  |\n",
      "|Volkswagen   |33730  |\n",
      "|GMC          |28067  |\n",
      "|BMW          |28005  |\n",
      "|Mazda        |27144  |\n",
      "|RAM          |26189  |\n",
      "|Mercedes-Benz|22274  |\n",
      "|Acura        |19869  |\n",
      "|Dodge        |18512  |\n",
      "|Audi         |16435  |\n",
      "+-------------+-------+\n",
      "only showing top 20 rows\n",
      "\n"
     ]
    }
   ],
   "source": [
    "# Lista de marcas válidas para a coluna \"FranchiseMake\"\n",
    "marcas_validas = [\n",
    "    \"Ford\", \"Chevrolet\", \"Honda\", \"Toyota\", \"Jeep\", \"Nissan\", \"Hyundai\", \"Kia\",\n",
    "    \"Buick\", \"Subaru\", \"Volkswagen\", \"GMC\", \"BMW\", \"Mazda\", \"RAM\", \"Mercedes-Benz\",\n",
    "    \"Acura\", \"Dodge\", \"Audi\", \"Chrysler\", \"Lincoln\", \"Infiniti\", \"Volvo\", \"Cadillac\",\n",
    "    \"Porsche\", \"Mitsubishi\", \"Land Rover\", \"Lexus\", \"Jaguar\", \"MINI\", \"Fiat\",\n",
    "    \"Tesla\", \"Genesis\", \"Scion\", \"Maserati\"\n",
    "]\n",
    "\n",
    "# Filtra a coluna \"FranchiseMake\" e coloca NULL para os valores que não são válidos\n",
    "dataframe = dataframe.withColumn(\n",
    "    \"FranchiseMake\",\n",
    "    when(col(\"FranchiseMake\").isin(marcas_validas), col(\"FranchiseMake\")).otherwise(None)\n",
    ")\n",
    "\n",
    "# Contagem das linhas repetidas e exibição da tabela\n",
    "dataframe.groupBy(\"FranchiseMake\").count().orderBy(\"count\", ascending=False).show(truncate=False)"
   ]
  },
  {
   "cell_type": "markdown",
   "id": "fb632acc-cc1d-4d59-98e2-187d73b0f72f",
   "metadata": {
    "jp-MarkdownHeadingCollapsed": true
   },
   "source": [
    "#### 6.fuel_type (tipo de combustível). ####"
   ]
  },
  {
   "cell_type": "code",
   "execution_count": 56,
   "id": "cadd007f-a0db-4de9-bd0d-e604bb109cd3",
   "metadata": {},
   "outputs": [
    {
     "name": "stdout",
     "output_type": "stream",
     "text": [
      "+-------------------------------------+-------+\n",
      "|fuel_type                            |count  |\n",
      "+-------------------------------------+-------+\n",
      "|Gasoline                             |1561374|\n",
      "|Flex Fuel Vehicle                    |86325  |\n",
      "|NULL                                 |79067  |\n",
      "|Hybrid                               |55165  |\n",
      "|True                                 |30395  |\n",
      "|4-Wheel Disc Brakes                  |24408  |\n",
      "|Diesel                               |24185  |\n",
      "|ABS brakes                           |23235  |\n",
      "|False                                |21159  |\n",
      "|Air Conditioning                     |19135  |\n",
      "|Tachometer                           |14911  |\n",
      "|Biodiesel                            |12975  |\n",
      "|Front Center Armrest                 |11527  |\n",
      "|Steering wheel mounted audio controls|11490  |\n",
      "|Electronic Stability Control         |11360  |\n",
      "|Electric                             |10530  |\n",
      "|Spoiler                              |9783   |\n",
      "|Front Bucket Seats                   |9460   |\n",
      "|AM/FM radio                          |8758   |\n",
      "|I4                                   |8621   |\n",
      "+-------------------------------------+-------+\n",
      "only showing top 20 rows\n",
      "\n"
     ]
    }
   ],
   "source": [
    "# Agrupando os tipos de combustiveis com groupby\n",
    "grouped_df = dataframe.groupBy(\"fuel_type\").count()\n",
    "\n",
    "# Printando a uma tabela com os tipos de combustivel para criar uma lista de filtro\n",
    "grouped_df.orderBy(col(\"count\").desc()).show(20, truncate=False)"
   ]
  },
  {
   "cell_type": "code",
   "execution_count": 57,
   "id": "fff9c2b6-81db-4d35-b47f-9684051b6f8f",
   "metadata": {},
   "outputs": [
    {
     "name": "stdout",
     "output_type": "stream",
     "text": [
      "+-----------------+-------+\n",
      "|fuel_type        |count  |\n",
      "+-----------------+-------+\n",
      "|Gasoline         |1561374|\n",
      "|NULL             |1249953|\n",
      "|Flex Fuel Vehicle|86325  |\n",
      "|Hybrid           |55165  |\n",
      "|Diesel           |24185  |\n",
      "|Biodiesel        |12975  |\n",
      "|Electric         |10530  |\n",
      "+-----------------+-------+\n",
      "\n"
     ]
    }
   ],
   "source": [
    "# Lista de filtro para os tipos de combustivel\n",
    "tipos_validos_combustivel = [\n",
    "    \"Gasoline\", \"Flex Fuel Vehicle\", \"Hybrid\", \"Diesel\", \"Biodiesel\", \"Electric\",\n",
    "]\n",
    "\n",
    "# Filtra a coluna \"fuel_type\" e coloca NULL para os valores que não são válidos\n",
    "dataframe = dataframe.withColumn(\n",
    "    \"fuel_type\",\n",
    "    when(col(\"fuel_type\").isin(tipos_validos_combustivel), col(\"fuel_type\")).otherwise(None)\n",
    ")\n",
    "\n",
    "# Da um groupby para visualizar a quantidade de linhas por combustivel\n",
    "dataframe.groupBy(\"fuel_type\").count().orderBy(\"count\", ascending=False).show(truncate=False)"
   ]
  },
  {
   "cell_type": "markdown",
   "id": "1545bf22-f322-47f9-8c71-3de794667cc2",
   "metadata": {
    "jp-MarkdownHeadingCollapsed": true
   },
   "source": [
    "#### 7.interior_color (cor do interior do veículo). ####"
   ]
  },
  {
   "cell_type": "code",
   "execution_count": 58,
   "id": "376fbc30-9841-40eb-a4d4-2646b8279d13",
   "metadata": {},
   "outputs": [
    {
     "name": "stdout",
     "output_type": "stream",
     "text": [
      "+-----------------------------+------+\n",
      "|interior_color               |count |\n",
      "+-----------------------------+------+\n",
      "|Black                        |498405|\n",
      "|None                         |315687|\n",
      "|Gray                         |153803|\n",
      "|Black (Ebony)                |75200 |\n",
      "|Jet Black                    |69520 |\n",
      "|Black (Charcoal)             |65757 |\n",
      "|Brown (Beige)                |31947 |\n",
      "|NULL                         |26703 |\n",
      "|Brown (Tan)                  |25656 |\n",
      "|False                        |24594 |\n",
      "|4-Wheel Disc Brakes          |22006 |\n",
      "|ABS brakes                   |21932 |\n",
      "|Gasoline                     |18750 |\n",
      "|Medium Earth Gray            |16191 |\n",
      "|Brake assist                 |14432 |\n",
      "|Charcoal Black               |14151 |\n",
      "|Driver door bin              |12925 |\n",
      "|Dual front impact airbags    |12727 |\n",
      "|Automatic temperature control|12510 |\n",
      "|Air Conditioning             |12354 |\n",
      "+-----------------------------+------+\n",
      "only showing top 20 rows\n",
      "\n"
     ]
    }
   ],
   "source": [
    "# Fazendo o groupby na minha coluna interior_color\n",
    "grouped_df = dataframe.groupBy(\"interior_color\").count()\n",
    "\n",
    "# Printando a tabela para visualizar os tipos de cores\n",
    "grouped_df.orderBy(col(\"count\").desc()).show(20, truncate=False)"
   ]
  },
  {
   "cell_type": "code",
   "execution_count": 59,
   "id": "5124491f-5300-4b09-ace2-2ae07e712f6d",
   "metadata": {},
   "outputs": [
    {
     "name": "stdout",
     "output_type": "stream",
     "text": [
      "+--------------------------------------------------+-------+\n",
      "|interior_color                                    |count  |\n",
      "+--------------------------------------------------+-------+\n",
      "|NULL                                              |1642375|\n",
      "|Black                                             |498405 |\n",
      "|Gray                                              |153803 |\n",
      "|Black (Ebony)                                     |75200  |\n",
      "|Jet Black                                         |69520  |\n",
      "|Black (Charcoal)                                  |65757  |\n",
      "|Brown (Beige)                                     |31947  |\n",
      "|Brown (Tan)                                       |25656  |\n",
      "|Medium Earth Gray                                 |16191  |\n",
      "|Charcoal Black                                    |14151  |\n",
      "|White (Ivory)                                     |11339  |\n",
      "|Titan Black                                       |10910  |\n",
      "|Ebony Black                                       |7994   |\n",
      "|Diesel Gray/Black                                 |6614   |\n",
      "|Light Gray                                        |5838   |\n",
      "|Brown                                             |5617   |\n",
      "|Black (charcoal)                                  |5042   |\n",
      "|Medium Ash Gray                                   |4880   |\n",
      "|Dark Earth Gray                                   |4338   |\n",
      "|Brown (TAN)                                       |3922   |\n",
      "|Black Leather                                     |3764   |\n",
      "|Dark Gray                                         |3630   |\n",
      "|Red                                               |3210   |\n",
      "|Black (EBONY)                                     |2711   |\n",
      "|Black Cloth                                       |2667   |\n",
      "|Brown (BEIGE)                                     |2558   |\n",
      "|Slate Black                                       |2493   |\n",
      "|Black (Graphite)                                  |2248   |\n",
      "|Gray (Graphite)                                   |2217   |\n",
      "|Carbon Black                                      |2167   |\n",
      "|Black/Light Graystone                             |2153   |\n",
      "|Dark Slate Gray                                   |2124   |\n",
      "|Black/Black                                       |2109   |\n",
      "|Gray/Black                                        |2105   |\n",
      "|Satin Black                                       |2072   |\n",
      "|White (Sandstone)                                 |1872   |\n",
      "|Black SensaTec                                    |1817   |\n",
      "|White (Graphite)                                  |1814   |\n",
      "|White                                             |1744   |\n",
      "|Brown (beige)                                     |1699   |\n",
      "|Brown (Wheat)                                     |1642   |\n",
      "|Black Fabric                                      |1630   |\n",
      "|Espresso/Gray                                     |1582   |\n",
      "|Ruby Red/Black                                    |1559   |\n",
      "|Black (ebony)                                     |1545   |\n",
      "|Black/Gray                                        |1419   |\n",
      "|Black/Red                                         |1365   |\n",
      "|Storm Gray                                        |1340   |\n",
      "|White (Warm Ivory)                                |1302   |\n",
      "|Black/Alloy                                       |1299   |\n",
      "|Steel Gray                                        |1234   |\n",
      "|Silver (Graphite)                                 |1201   |\n",
      "|Silver                                            |1201   |\n",
      "|Black w/Cloth Seat Trim                           |1171   |\n",
      "|Jet Black w/Premium Cloth Seat Trim               |1133   |\n",
      "|Cement Gray                                       |1123   |\n",
      "|Blue                                              |1100   |\n",
      "|Java Brown                                        |1013   |\n",
      "|Brown (Sand Beige)                                |1012   |\n",
      "|Jet Black Cloth                                   |981    |\n",
      "|Brown (Silk Beige)                                |978    |\n",
      "|Brown (Bisque)                                    |975    |\n",
      "|Black/Graphite                                    |973    |\n",
      "|Gray Cloth                                        |960    |\n",
      "|White (Medium Light Stone)                        |946    |\n",
      "|Brown (Sahara Beige)                              |938    |\n",
      "|White (Parchment)                                 |925    |\n",
      "|Brown (Harvest Beige)                             |919    |\n",
      "|Dark Galvanized Gray                              |913    |\n",
      "|Red (Sandstone)                                   |912    |\n",
      "|White (Ash)                                       |912    |\n",
      "|Silver (Ash)                                      |826    |\n",
      "|Black Graphite                                    |795    |\n",
      "|Gray (Ash)                                        |784    |\n",
      "|Black Softex                                      |778    |\n",
      "|Brown (tan)                                       |776    |\n",
      "|White (Sport)                                     |766    |\n",
      "|Black (Sport)                                     |751    |\n",
      "|Black MB-Tex                                      |744    |\n",
      "|Gray (Sport)                                      |718    |\n",
      "|White (Cappuccino)                                |707    |\n",
      "|Brown (Stone Beige)                               |703    |\n",
      "|Jet Black w/Perforated Leather-Appointed Seat Trim|702    |\n",
      "|Dark Gray/Camel                                   |683    |\n",
      "|Jet Black With Jet Black Accents                  |678    |\n",
      "|Jet Black/Dark Ash                                |677    |\n",
      "|Blue (Graphite)                                   |670    |\n",
      "|White (Medium Pewter)                             |660    |\n",
      "| Body-Color Surround w/Black Mesh Insert Grille   |660    |\n",
      "|Black (CHARCOAL)                                  |655    |\n",
      "|Black w/Leather Seat Trim                         |651    |\n",
      "|Brown (Lt Frost Beige/Black)                      |649    |\n",
      "|Saddle Brown                                      |637    |\n",
      "|Brown (Canberra Beige)                            |605    |\n",
      "|Alloy/Black                                       |603    |\n",
      "|Brown (Light Frost Beige/Black)                   |603    |\n",
      "|Black / Dark Marsala                              |602    |\n",
      "|Black/Brown                                       |601    |\n",
      "|Jet Black w/Cloth Seat Trim                       |597    |\n",
      "|Brown (Canberra Beige/Black)                      |596    |\n",
      "+--------------------------------------------------+-------+\n",
      "only showing top 100 rows\n",
      "\n"
     ]
    }
   ],
   "source": [
    "# Lista do filtro das cores base\n",
    "cores_validas2 = [\n",
    "    \"Black\", \"White\", \"Silver\", \"Gray\", \"Blue\", \"Red\", \"Green\", \"Brown\",\n",
    "    \"Gold\", \"Yellow\", \"Orange\", \"Purple\", \"Beige\", \"Maroon\"\n",
    "]\n",
    "\n",
    "# Esta é uma expressão usada para filtrar grupos que sao variaçoes de cores\n",
    "regex_cores = r\"\\b(\" + \"|\".join(cores_validas2) + r\")\\b\"\n",
    "\n",
    "# Aplica o filtro mantendo só as linhas que possuem variações da lista cores_validas2\n",
    "dataframe = dataframe.withColumn(\n",
    "    \"interior_color\",\n",
    "    when(col(\"interior_color\").rlike(regex_cores), col(\"interior_color\")).otherwise(None)\n",
    ")\n",
    "\n",
    "# Agrupa e conta as linhas por cor\n",
    "dataframe.groupBy(\"interior_color\").count().orderBy(col(\"count\").desc()).show(100, truncate=False)"
   ]
  },
  {
   "cell_type": "markdown",
   "id": "bfa53515-afd6-46b0-b056-363ceed97e72",
   "metadata": {
    "jp-MarkdownHeadingCollapsed": true
   },
   "source": [
    "#### 8.listing_color (grupo de cores dominante). ####"
   ]
  },
  {
   "cell_type": "code",
   "execution_count": 60,
   "id": "8f8aded4-7707-4aa0-9ef4-b565720973ab",
   "metadata": {},
   "outputs": [
    {
     "name": "stdout",
     "output_type": "stream",
     "text": [
      "+------------------------------+------+\n",
      "|listing_color                 |count |\n",
      "+------------------------------+------+\n",
      "|WHITE                         |387772|\n",
      "|BLACK                         |348987|\n",
      "|UNKNOWN                       |244777|\n",
      "|SILVER                        |237568|\n",
      "|GRAY                          |230209|\n",
      "|BLUE                          |153486|\n",
      "|RED                           |150335|\n",
      "|NULL                          |61223 |\n",
      "|False                         |23823 |\n",
      "|Front anti-roll bar           |19933 |\n",
      "|Dual front side impact airbags|18194 |\n",
      "|BROWN                         |17143 |\n",
      "|True                          |16413 |\n",
      "|GREEN                         |16077 |\n",
      "|Low tire pressure warning     |15899 |\n",
      "|Brake assist                  |15841 |\n",
      "|Dual front impact airbags     |15815 |\n",
      "|4-Wheel Disc Brakes           |15345 |\n",
      "|Fully automatic headlights    |13772 |\n",
      "|Electronic Stability Control  |13533 |\n",
      "+------------------------------+------+\n",
      "only showing top 20 rows\n",
      "\n"
     ]
    }
   ],
   "source": [
    "# Agrupa e conta primeiro\n",
    "grouped_df = dataframe.groupBy(\"listing_color\").count()\n",
    "\n",
    "# Printando os grupos do listing_color\n",
    "grouped_df.orderBy(col(\"count\").desc()).show(20, truncate=False)"
   ]
  },
  {
   "cell_type": "code",
   "execution_count": 61,
   "id": "0ec44e9a-e95d-45a3-ba02-5a0d5edc3843",
   "metadata": {},
   "outputs": [
    {
     "name": "stdout",
     "output_type": "stream",
     "text": [
      "+-------------------------------------------------------+-------+\n",
      "|listing_color                                          |count  |\n",
      "+-------------------------------------------------------+-------+\n",
      "|NULL                                                   |2985658|\n",
      "|Black                                                  |1968   |\n",
      "|Jet Black                                              |471    |\n",
      "|Black (Ebony)                                          |468    |\n",
      "|Gray                                                   |424    |\n",
      "|Black (Charcoal)                                       |403    |\n",
      "|Black Exterior Mirrors                                 |339    |\n",
      "|Charcoal Black                                         |218    |\n",
      "|Black (charcoal)                                       |178    |\n",
      "|Front Frame-Mounted Black Recovery Hooks               |126    |\n",
      "|Brown (Beige)                                          |119    |\n",
      "| Front Frame-Mounted Black Recovery Hooks              |118    |\n",
      "|Semi-Gloss Black Step Rails                            |111    |\n",
      "|Black Roof Rails                                       |108    |\n",
      "|Black Headlamp Bezels                                  |108    |\n",
      "|Medium Earth Gray                                      |105    |\n",
      "|Summit White                                           |99     |\n",
      "|White                                                  |82     |\n",
      "|Black Side Windows Trim and Black Front Windshield Trim|81     |\n",
      "|Black 3-Piece Hard Top                                 |75     |\n",
      "+-------------------------------------------------------+-------+\n",
      "only showing top 20 rows\n",
      "\n"
     ]
    }
   ],
   "source": [
    "# Lista das cores base\n",
    "cores_validas3 = [\n",
    "    \"Black\", \"White\", \"Silver\", \"Gray\", \"Blue\", \"Red\", \"Green\", \"Brown\",\n",
    "    \"Gold\", \"Yellow\", \"Orange\", \"Purple\", \"Beige\", \"Maroon\"\n",
    "]\n",
    "\n",
    "# Esta a expressão é usada para filtrar grupos que sao variaçoes de cores\n",
    "regex_cores = r\"\\b(\" + \"|\".join(cores_validas3) + r\")\\b\"\n",
    "\n",
    "dataframe = dataframe.withColumn(\n",
    "    \"listing_color\",\n",
    "    when(col(\"listing_color\").rlike(regex_cores), col(\"listing_color\")).otherwise(None)\n",
    ")\n",
    "\n",
    "dataframe.groupBy(\"listing_color\").count().orderBy(col(\"count\").desc()).show(20, truncate=False)"
   ]
  },
  {
   "cell_type": "markdown",
   "id": "da0f4037-be5d-47a5-a2c4-a6657d04d76f",
   "metadata": {
    "jp-MarkdownHeadingCollapsed": true
   },
   "source": [
    "#### 9.make_name (nome da marca). ####"
   ]
  },
  {
   "cell_type": "code",
   "execution_count": 62,
   "id": "329eab8d-9689-4ed9-9d02-ca9c22145a65",
   "metadata": {},
   "outputs": [
    {
     "name": "stdout",
     "output_type": "stream",
     "text": [
      "+-------------+------+\n",
      "|make_name    |count |\n",
      "+-------------+------+\n",
      "|Ford         |286435|\n",
      "|Chevrolet    |188171|\n",
      "|Toyota       |169544|\n",
      "|Honda        |158464|\n",
      "|Nissan       |135681|\n",
      "|Hyundai      |103593|\n",
      "|Jeep         |77151 |\n",
      "|Kia          |75628 |\n",
      "|GMC          |50137 |\n",
      "|Volkswagen   |46596 |\n",
      "|Subaru       |45580 |\n",
      "|Dodge        |45164 |\n",
      "|BMW          |42933 |\n",
      "|Mercedes-Benz|39902 |\n",
      "|RAM          |39737 |\n",
      "|Mazda        |35845 |\n",
      "|Buick        |35770 |\n",
      "|NULL         |28086 |\n",
      "|Lexus        |26246 |\n",
      "|Acura        |23993 |\n",
      "+-------------+------+\n",
      "only showing top 20 rows\n",
      "\n"
     ]
    }
   ],
   "source": [
    "# Agrupa e conta primeiro\n",
    "grouped_df = dataframe.groupBy(\"make_name\").count()\n",
    "\n",
    "# Estou listando as primeiras com groupby,\n",
    "grouped_df.orderBy(col(\"count\").desc()).show(20, truncate=False)"
   ]
  },
  {
   "cell_type": "code",
   "execution_count": 63,
   "id": "ef188b2a-cf5b-430f-8994-e1642e6916e1",
   "metadata": {},
   "outputs": [
    {
     "name": "stdout",
     "output_type": "stream",
     "text": [
      "+-------------+-------+\n",
      "|make_name    |count  |\n",
      "+-------------+-------+\n",
      "|NULL         |1196890|\n",
      "|Ford         |286435 |\n",
      "|Chevrolet    |188171 |\n",
      "|Toyota       |169544 |\n",
      "|Honda        |158464 |\n",
      "|Nissan       |135681 |\n",
      "|Hyundai      |103593 |\n",
      "|Jeep         |77151  |\n",
      "|Kia          |75628  |\n",
      "|GMC          |50137  |\n",
      "|Volkswagen   |46596  |\n",
      "|Subaru       |45580  |\n",
      "|Dodge        |45164  |\n",
      "|BMW          |42933  |\n",
      "|Mercedes-Benz|39902  |\n",
      "|RAM          |39737  |\n",
      "|Mazda        |35845  |\n",
      "|Buick        |35770  |\n",
      "|Lexus        |26246  |\n",
      "|Acura        |23993  |\n",
      "+-------------+-------+\n",
      "only showing top 20 rows\n",
      "\n"
     ]
    }
   ],
   "source": [
    "# Lista de marcas para filtro\n",
    "tipos_validos_make = [\n",
    "    \"Ford\", \"Chevrolet\", \"Toyota\", \"Honda\", \"Nissan\", \"Hyundai\", \"Jeep\", \"Kia\", \n",
    "    \"GMC\", \"Volkswagen\", \"Subaru\", \"Dodge\", \"BMW\", \"Mercedes-Benz\", \"RAM\", \"Mazda\", \n",
    "    \"Buick\", \"Lexus\", \"Acura\", \"Audi\", \"Cadillac\", \"INFINITI\", \"Lincoln\", \"Chrysler\", \n",
    "    \"Volvo\", \"Mitsubishi\", \"Porsche\", \"Jaguar\", \"Land Rover\", \"MINI\", \"Genesis\", \n",
    "    \"Pontiac\", \"Scion\", \"FIAT\", \"Tesla\", \"Alfa Romeo\", \"Mercury\", \"Saturn\"\n",
    "]\n",
    "\n",
    "# Filtra a coluna \"make_name\" e coloca NULL para os valores que nao estao na lista tipos_validos_make\n",
    "dataframe = dataframe.withColumn(\n",
    "    \"make_name\",\n",
    "    when(col(\"make_name\").isin(tipos_validos_make), col(\"make_name\")).otherwise(None)\n",
    ")\n",
    "\n",
    "# Conta as linhas repetidas e printa a tabela\n",
    "dataframe.groupBy(\"make_name\").count().orderBy(\"count\", ascending=False).show(truncate=False)"
   ]
  },
  {
   "cell_type": "markdown",
   "id": "2a26004a-5be9-4a81-96fd-d2b8b5061720",
   "metadata": {
    "jp-MarkdownHeadingCollapsed": true
   },
   "source": [
    "#### 10.model_name (nome do modelo). PAREI AQUI ####"
   ]
  },
  {
   "cell_type": "code",
   "execution_count": 64,
   "id": "dc954c09-a6ad-409b-832e-47a237ae8bc3",
   "metadata": {},
   "outputs": [
    {
     "name": "stdout",
     "output_type": "stream",
     "text": [
      "+------------------------------+-----+\n",
      "|model_name                    |count|\n",
      "+------------------------------+-----+\n",
      "|F-150                         |64858|\n",
      "|Escape                        |38920|\n",
      "|Camry                         |33630|\n",
      "|Rogue                         |31678|\n",
      "|Equinox                       |30903|\n",
      "|Silverado 1500                |30495|\n",
      "|CR-V                          |30245|\n",
      "|Accord                        |29354|\n",
      "|Civic                         |27664|\n",
      "|Explorer                      |27629|\n",
      "|Fusion                        |26660|\n",
      "|1500                          |25635|\n",
      "|NULL                          |24773|\n",
      "|Altima                        |23997|\n",
      "|Tucson                        |23952|\n",
      "|Corolla                       |23092|\n",
      "|RAV4                          |21393|\n",
      "|Grand Cherokee                |20865|\n",
      "|Highlander                    |19440|\n",
      "|Sonata                        |19401|\n",
      "|Elantra                       |18708|\n",
      "|Edge                          |18617|\n",
      "|Malibu                        |17732|\n",
      "|Low tire pressure warning     |17073|\n",
      "|Trax                          |16887|\n",
      "|CX-5                          |16422|\n",
      "|Sentra                        |16350|\n",
      "|5 seats                       |16130|\n",
      "|Occupant sensing airbag       |16016|\n",
      "|Pilot                         |15836|\n",
      "|Odyssey                       |15384|\n",
      "|Overhead airbag               |14646|\n",
      "|Front anti-roll bar           |14481|\n",
      "|Fully automatic headlights    |14422|\n",
      "|Cherokee                      |14395|\n",
      "|Panic alarm                   |14296|\n",
      "|Outback                       |13098|\n",
      "|Jetta                         |13008|\n",
      "|Traverse                      |12991|\n",
      "|Delay-off headlights          |12966|\n",
      "|Compass                       |12704|\n",
      "|Expedition                    |12598|\n",
      "|Soul                          |12479|\n",
      "|Sportage                      |12464|\n",
      "|Kona                          |12454|\n",
      "|Sierra 1500                   |12305|\n",
      "|Brake assist                  |12090|\n",
      "|Wrangler Unlimited            |12081|\n",
      "|Dual front side impact airbags|12073|\n",
      "|Terrain                       |12021|\n",
      "|Mustang                       |11844|\n",
      "|Grand Caravan                 |11533|\n",
      "|Power door mirrors            |11482|\n",
      "|Heated door mirrors           |11418|\n",
      "|Passenger vanity mirror       |11207|\n",
      "|F-250 Super Duty              |11082|\n",
      "|Electronic Stability Control  |10890|\n",
      "|Sorento                       |10851|\n",
      "|Encore                        |10749|\n",
      "|Dual front impact airbags     |10742|\n",
      "|Forte                         |10683|\n",
      "|Tacoma                        |10584|\n",
      "|ABS brakes                    |10329|\n",
      "|HR-V                          |10296|\n",
      "|3 Series                      |10284|\n",
      "|Acadia                        |10227|\n",
      "|Illuminated entry             |10171|\n",
      "|Driver door bin               |10152|\n",
      "|False                         |10017|\n",
      "|EcoSport                      |9986 |\n",
      "|Tahoe                         |9929 |\n",
      "|Tiguan                        |9743 |\n",
      "|Forester                      |9625 |\n",
      "|MP3 Player                    |9457 |\n",
      "|Power steering                |9419 |\n",
      "|Santa Fe                      |9398 |\n",
      "|Front reading lights          |9247 |\n",
      "|Front fog lights              |9103 |\n",
      "|Bumpers: body-color           |9088 |\n",
      "|Murano                        |8943 |\n",
      "|MDX                           |8937 |\n",
      "|Auxiliary Audio Input         |8905 |\n",
      "|Outside temperature display   |8850 |\n",
      "|Pathfinder                    |8835 |\n",
      "|Optima                        |8759 |\n",
      "|4-Wheel Disc Brakes           |8669 |\n",
      "|Passat                        |8598 |\n",
      "|Focus                         |8523 |\n",
      "|Versa                         |8202 |\n",
      "|Driver vanity mirror          |8059 |\n",
      "|Cruze                         |8032 |\n",
      "|Journey                       |7944 |\n",
      "|Knee airbag                   |7852 |\n",
      "|Ford                          |7787 |\n",
      "|Bluetooth Connection          |7781 |\n",
      "|Fusion Hybrid                 |7741 |\n",
      "|Sienna                        |7648 |\n",
      "|4Runner                       |7622 |\n",
      "|Prius                         |7515 |\n",
      "|C-Class                       |7352 |\n",
      "+------------------------------+-----+\n",
      "only showing top 100 rows\n",
      "\n"
     ]
    }
   ],
   "source": [
    "# Agrupa e conta primeiro\n",
    "grouped_df = dataframe.groupBy(\"model_name\").count()\n",
    "\n",
    "# EStou listando as primeiras 100 linhas do groupby,\n",
    "grouped_df.orderBy(col(\"count\").desc()).show(100, truncate=False)"
   ]
  },
  {
   "cell_type": "code",
   "execution_count": 65,
   "id": "adf0f30c-63c3-49e3-bbae-adf8e9bf4dd4",
   "metadata": {},
   "outputs": [
    {
     "name": "stdout",
     "output_type": "stream",
     "text": [
      "+--------------+-------+\n",
      "|model_name    |count  |\n",
      "+--------------+-------+\n",
      "|NULL          |1652253|\n",
      "|F-150         |64858  |\n",
      "|Escape        |38920  |\n",
      "|Camry         |33630  |\n",
      "|Rogue         |31678  |\n",
      "|Equinox       |30903  |\n",
      "|Silverado 1500|30495  |\n",
      "|CR-V          |30245  |\n",
      "|Accord        |29354  |\n",
      "|Civic         |27664  |\n",
      "|Explorer      |27629  |\n",
      "|Fusion        |26660  |\n",
      "|1500          |25635  |\n",
      "|Altima        |23997  |\n",
      "|Tucson        |23952  |\n",
      "|Corolla       |23092  |\n",
      "|RAV4          |21393  |\n",
      "|Grand Cherokee|20865  |\n",
      "|Highlander    |19440  |\n",
      "|Sonata        |19401  |\n",
      "+--------------+-------+\n",
      "only showing top 20 rows\n",
      "\n"
     ]
    }
   ],
   "source": [
    "from pyspark.sql.functions import col, when\n",
    "\n",
    "# Lista de modelos válidos (você pode expandir conforme necessário)\n",
    "tipos_validos_model = [\n",
    "    \"F-150\", \"Escape\", \"Camry\", \"Rogue\", \"Equinox\", \"Silverado 1500\", \"CR-V\", \"Accord\", \n",
    "    \"Civic\", \"Explorer\", \"Fusion\", \"1500\", \"Altima\", \"Tucson\", \"Corolla\", \"RAV4\", \n",
    "    \"Grand Cherokee\", \"Highlander\", \"Sonata\", \"Elantra\", \"Edge\", \"Malibu\", \"Trax\", \n",
    "    \"CX-5\", \"Sentra\", \"Pilot\", \"Odyssey\", \"Cherokee\", \"Outback\", \"Jetta\", \"Traverse\", \n",
    "    \"Compass\", \"Expedition\", \"Soul\", \"Sportage\", \"Kona\", \"Sierra 1500\", \"Mustang\", \n",
    "    \"Grand Caravan\", \"F-250 Super Duty\", \"Sorento\", \"Encore\", \"Forte\", \"Tacoma\", \n",
    "    \"HR-V\", \"3 Series\", \"Acadia\", \"EcoSport\", \"Tahoe\", \"Tiguan\", \"Forester\", \n",
    "    \"Santa Fe\", \"Murano\", \"MDX\", \"Optima\", \"Passat\", \"Focus\", \"Versa\", \"Cruze\", \"Journey\", \n",
    "    \"Ford\", \"Fusion Hybrid\", \"Sienna\", \"4Runner\", \"Prius\", \"C-Class\", \"Renegade\", \n",
    "    \"Charger\", \"Enclave\", \"QX60\", \"Ranger\", \"Chevrolet\", \"2500\", \"RDX\", \"MAZDA3\", \n",
    "    \"Envision\", \"Crosstrek\", \"Encore GX\", \"E-Class\", \"Fit\", \"Impala\", \"F-350 Super Duty\", \n",
    "    \"Impreza\", \"Rogue Sport\", \"Durango\", \"Kicks\", \"Colorado\", \"Silverado 2500HD\", \"X5\", \n",
    "    \"Pacifica\", \"Tundra\", \"Suburban\", \"Highlander Hybrid\", \"XT5\", \"Camaro\", \"Challenger\", \n",
    "    \"Transit Connect\", \"MKZ\", \"Maxima\", \"Frontier\", \"XC90\", \"Blazer\", \"Atlas\", \"Yukon\", \n",
    "    \"RX 350\", \"Gladiator\", \"Outlander Sport\", \"Q5\", \"Legacy\", \"Q50\", \"Fiesta\", \"CX-9\", \n",
    "    \"Armada\", \"Accent\", \"Yukon XL\", \"Town & Country\"\n",
    "]\n",
    "\n",
    "# Filtra a coluna \"model_name\" e coloca NULL para os valores que não são válidos\n",
    "dataframe = dataframe.withColumn(\n",
    "    \"model_name\",\n",
    "    when(col(\"model_name\").isin(tipos_validos_model), col(\"model_name\")).otherwise(None)\n",
    ")\n",
    "\n",
    "# Contagem das linhas repetidas e exibição da tabela\n",
    "dataframe.groupBy(\"model_name\").count().orderBy(\"count\", ascending=False).show(truncate=False)\n"
   ]
  },
  {
   "cell_type": "markdown",
   "id": "34dfc05d-9e0f-4f1f-80ed-6431842ae188",
   "metadata": {},
   "source": [
    "#### 11.transmission (tipo de transmissão). ####"
   ]
  },
  {
   "cell_type": "code",
   "execution_count": 66,
   "id": "198c68be-4aa4-4d2b-9535-515f9472644e",
   "metadata": {},
   "outputs": [
    {
     "name": "stdout",
     "output_type": "stream",
     "text": [
      "+---------------------------+-------+\n",
      "|transmission               |count  |\n",
      "+---------------------------+-------+\n",
      "|A                          |1444366|\n",
      "|CVT                        |276290 |\n",
      "|NULL                       |81957  |\n",
      "|M                          |34594  |\n",
      "|False                      |30870  |\n",
      "|Passenger vanity mirror    |14438  |\n",
      "|Power door mirrors         |13686  |\n",
      "|Panic alarm                |12502  |\n",
      "|Overhead airbag            |12093  |\n",
      "|Illuminated entry          |11296  |\n",
      "|Fully automatic headlights |10907  |\n",
      "|Occupant sensing airbag    |10892  |\n",
      "|Speed control              |10857  |\n",
      "|Rear anti-roll bar         |10619  |\n",
      "|Power Door Locks           |10540  |\n",
      "|Outside temperature display|10311  |\n",
      "|Heated door mirrors        |10083  |\n",
      "|Power windows              |9780   |\n",
      "|Low tire pressure warning  |9554   |\n",
      "|Driver door bin            |9520   |\n",
      "+---------------------------+-------+\n",
      "only showing top 20 rows\n",
      "\n"
     ]
    }
   ],
   "source": [
    "# Agrupa e conta primeiro\n",
    "grouped_df = dataframe.groupBy(\"transmission\").count()\n",
    "\n",
    "# Fazendo groupby e printando uma tabela\n",
    "grouped_df.orderBy(col(\"count\").desc()).show(20, truncate=False)"
   ]
  },
  {
   "cell_type": "code",
   "execution_count": null,
   "id": "b4c1f6f5-88a5-4509-810c-d627c1259cf1",
   "metadata": {},
   "outputs": [],
   "source": [
    "# Lista de transmissões válidas (exemplo com algumas transmissões válidas\n",
    "tipos_validos_transmission = [\n",
    "    \"A\", \"CVT\", \"M\", \"Dual Clutch\", \"0\", \"True\", \"False\"\n",
    "]\n",
    "\n",
    "# Filtra a coluna \"transmission\" e coloca NULL para os valores que não são válidos\n",
    "dataframe = dataframe.withColumn(\n",
    "    \"transmission\",\n",
    "    when(col(\"transmission\").isin(tipos_validos_transmission), col(\"transmission\")).otherwise(None)\n",
    ")\n",
    "\n",
    "# Contagem das linhas repetidas e exibição da tabela\n",
    "dataframe.groupBy(\"transmission\").count().orderBy(\"count\", ascending=False).show(truncate=False)\n"
   ]
  },
  {
   "cell_type": "markdown",
   "id": "bd0ca100-35de-4c91-8740-2b8f13578db7",
   "metadata": {
    "jp-MarkdownHeadingCollapsed": true
   },
   "source": [
    "#### 12.transmission_display (tipo de transmissão legível). ####"
   ]
  },
  {
   "cell_type": "code",
   "execution_count": null,
   "id": "def24171-4a44-4a77-942b-84b20b40b5f8",
   "metadata": {},
   "outputs": [],
   "source": [
    "# Agrupa e conta primeiro\n",
    "grouped_df = dataframe.groupBy(\"transmission_display\").count()\n",
    "\n",
    "# EStou listando as primeiras 100 linhas do groupby,\n",
    "grouped_df.orderBy(col(\"count\").desc()).show(20, truncate=False)"
   ]
  },
  {
   "cell_type": "code",
   "execution_count": null,
   "id": "3a047ca7-4af2-448d-9e58-c733fc2fca17",
   "metadata": {},
   "outputs": [],
   "source": [
    "# Lista de valores válidos para transmission_display\n",
    "tipos_validos_transmission_display = [\n",
    "    \"Automatic\",\"Continuously Variable Transmission\",\"6-Speed Automatic\",\"8-Speed Automatic\",\"9-Speed Automatic\",\"5-Speed Automatic\",\"6-Speed Manual\",\"Manual\",\n",
    "    \"7-Speed Automatic\",\"8-Speed Automatic Overdrive\",\"5-Speed Automatic Overdrive\",\"6-Speed Automatic Overdrive\",\"1-Speed Automatic\",\"6-Speed Dual Clutch\",\"5-Speed Manual\",\n",
    "    \"7-Speed CVT\",\"8-Speed Dual Clutch\",\"9-Speed Automatic Overdrive\",\"7-Speed Automatic Overdrive\"\n",
    "]\n",
    "\n",
    "# Filtra a coluna \"transmission_display\" com os valores válidos\n",
    "dataframe = dataframe.withColumn(\n",
    "    \"transmission_display\",\n",
    "    when(col(\"transmission_display\").isin(tipos_validos_transmission_display), col(\"transmission_display\")).otherwise(None)\n",
    ")\n",
    "\n",
    "# Exibe a contagem das transmissões válidas\n",
    "dataframe.groupBy(\"transmission_display\").count().orderBy(\"count\", ascending=False).show(truncate=False)"
   ]
  },
  {
   "cell_type": "markdown",
   "id": "1b7f2b48-f2d6-432f-96e3-08d0e15028f0",
   "metadata": {
    "jp-MarkdownHeadingCollapsed": true
   },
   "source": [
    "#### 13.trim_name (nome do acabamento do veículo). (VERIFICAR PARA REMOVER) ### "
   ]
  },
  {
   "cell_type": "code",
   "execution_count": null,
   "id": "1366a29b-882c-414a-9ba9-3fbb90c5dce7",
   "metadata": {},
   "outputs": [],
   "source": [
    "# Agrupa e conta primeiro\n",
    "grouped_df = dataframe.groupBy(\"trim_name\").count()\n",
    "\n",
    "# EStou listando as primeiras 100 linhas do groupby,\n",
    "grouped_df.orderBy(col(\"count\").desc()).show(20, truncate=False)"
   ]
  },
  {
   "cell_type": "markdown",
   "id": "12bd9c32-cb40-4e31-891d-ff451577e59a",
   "metadata": {
    "jp-MarkdownHeadingCollapsed": true
   },
   "source": [
    "#### 14.wheel_system (tipo de tração). ####"
   ]
  },
  {
   "cell_type": "code",
   "execution_count": null,
   "id": "087307bb-85cc-4fec-840f-988668560f6c",
   "metadata": {},
   "outputs": [],
   "source": [
    "# Agrupa e conta primeiro\n",
    "grouped_df = dataframe.groupBy(\"wheel_system\").count()\n",
    "\n",
    "# EStou listando as primeiras 100 linhas do groupby,\n",
    "grouped_df.orderBy(col(\"count\").desc()).show(400, truncate=False)"
   ]
  },
  {
   "cell_type": "code",
   "execution_count": null,
   "id": "3edf0c41-fcbe-4472-83ae-f34a1f337cfc",
   "metadata": {},
   "outputs": [],
   "source": [
    "# Dicionário de mapeamento entre abreviações e suas versões completas\n",
    "mapa_wheel_system = {\n",
    "    \"FWD\": \"Front-Wheel Drive\",\"RWD\": \"Rear-Wheel Drive\",\"AWD\": \"All-Wheel Drive\",\"4WD\": \"Four-Wheel Drive\",\"4X2\": \"Two-Wheel Drive\"\n",
    "}\n",
    "\n",
    "# Função para gerar a abreviação a partir do nome completo\n",
    "def gerar_abreviacao(frase):\n",
    "    palavras = frase.split()\n",
    "    abreviacao = \"\".join([palavra[0].upper() for palavra in palavras])  # Pega a primeira letra de cada palavra\n",
    "    return abreviacao\n",
    "\n",
    "# Lista de valores válidos para wheel_system, considerando as abreviações e as versões completas\n",
    "tipos_validos_wheel_system = list(mapa_wheel_system.keys()) + [gerar_abreviacao(val) for val in mapa_wheel_system.values()]\n",
    "\n",
    "# Expressão regular para filtrar os valores válidos de wheel_system\n",
    "regex_wheel_system = \"(\" + \"|\".join(tipos_validos_wheel_system) + \")\"\n",
    "\n",
    "# Aplica o filtro mantendo só as linhas que possuem variações desses sistemas de tração\n",
    "dataframe = dataframe.withColumn(\n",
    "    \"wheel_system\",\n",
    "    when(col(\"wheel_system\").rlike(regex_wheel_system), col(\"wheel_system\")).otherwise(None)\n",
    ")\n",
    "\n",
    "# Agrupa e conta os registros por sistema de tração\n",
    "dataframe.groupBy(\"wheel_system\").count().orderBy(col(\"count\").desc()).show(100, truncate=False)\n",
    "\n"
   ]
  },
  {
   "cell_type": "markdown",
   "id": "a452fe71-f7f9-4c23-855a-7b29141986b4",
   "metadata": {
    "jp-MarkdownHeadingCollapsed": true
   },
   "source": [
    "#### 15.wheel_system_display (exibição do sistema de tração). ####"
   ]
  },
  {
   "cell_type": "code",
   "execution_count": null,
   "id": "2730f927-c178-4841-ae9a-b97fc90fb058",
   "metadata": {},
   "outputs": [],
   "source": [
    "# Agrupa e conta primeiro\n",
    "grouped_df = dataframe.groupBy(\"wheel_system_display\").count()\n",
    "\n",
    "# EStou listando as primeiras 100 linhas do groupby,\n",
    "grouped_df.orderBy(col(\"count\").desc()).show(200, truncate=False)"
   ]
  },
  {
   "cell_type": "code",
   "execution_count": null,
   "id": "938f6378-8343-4725-b4c4-2c19b950f005",
   "metadata": {},
   "outputs": [],
   "source": [
    "# Dicionário de mapeamento entre abreviações e suas versões completas\n",
    "mapa_wheel_system = {\n",
    "    \"FWD\": \"Front-Wheel Drive\",\n",
    "    \"RWD\": \"Rear-Wheel Drive\",\n",
    "    \"AWD\": \"All-Wheel Drive\",\n",
    "    \"4WD\": \"Four-Wheel Drive\",\n",
    "    \"4X2\": \"Two-Wheel Drive\"\n",
    "}\n",
    "\n",
    "# Função para gerar a abreviação a partir do nome completo\n",
    "def gerar_abreviacao(frase):\n",
    "    palavras = frase.split()\n",
    "    abreviacao = \"\".join([palavra[0].upper() for palavra in palavras])  # Pega a primeira letra de cada palavra\n",
    "    return abreviacao\n",
    "\n",
    "# Lista de valores válidos para wheel_system, considerando as abreviações e as versões completas\n",
    "tipos_validos_wheel_system = list(mapa_wheel_system.keys()) + [gerar_abreviacao(val) for val in mapa_wheel_system.values()]\n",
    "\n",
    "# Expressão regular para filtrar os valores válidos de wheel_system\n",
    "regex_wheel_system = \"(\" + \"|\".join(tipos_validos_wheel_system) + \")\"\n",
    "\n",
    "# Aplica o filtro mantendo só as linhas que possuem variações desses sistemas de tração\n",
    "dataframe = dataframe.withColumn(\n",
    "    \"wheel_system_display\",\n",
    "    when(col(\"wheel_system_display\").rlike(regex_wheel_system), col(\"wheel_system_display\")).otherwise(None)\n",
    ")\n",
    "\n",
    "# Agrupa e conta os registros por sistema de tração\n",
    "dataframe.groupBy(\"wheel_system_display\").count().orderBy(col(\"count\").desc()).show(100, truncate=False)\n"
   ]
  },
  {
   "cell_type": "markdown",
   "id": "9d967abb-117a-4b5a-85cf-3699772c319a",
   "metadata": {
    "jp-MarkdownHeadingCollapsed": true
   },
   "source": [
    "#### 16.major_options (array). PERRELA VIADAO ####"
   ]
  },
  {
   "cell_type": "code",
   "execution_count": null,
   "id": "eaadecad-c758-4ba1-96f2-dbd0a5301ee7",
   "metadata": {},
   "outputs": [],
   "source": []
  },
  {
   "cell_type": "markdown",
   "id": "29f9c6cb-cf39-468a-8c04-628eed44e7ed",
   "metadata": {
    "jp-MarkdownHeadingCollapsed": true
   },
   "source": [
    "# Data Pré-processing #"
   ]
  },
  {
   "cell_type": "code",
   "execution_count": null,
   "id": "71964afb-fb0a-42b2-b14c-1fdb519e3963",
   "metadata": {},
   "outputs": [],
   "source": []
  },
  {
   "cell_type": "markdown",
   "id": "da7d5bd7-70d3-4dd6-8fb9-ff6f3ed05200",
   "metadata": {
    "jp-MarkdownHeadingCollapsed": true
   },
   "source": [
    "# Model #"
   ]
  },
  {
   "cell_type": "markdown",
   "id": "f561f606-acd0-4081-8274-3c49db587e53",
   "metadata": {
    "jp-MarkdownHeadingCollapsed": true
   },
   "source": [
    "## Regressão Linear ##"
   ]
  },
  {
   "cell_type": "code",
   "execution_count": null,
   "id": "ef6828b0-d273-4ff9-955e-c6894006da79",
   "metadata": {},
   "outputs": [],
   "source": [
    "# Regressão Linear, dados que apresentam uma relação linear entre as variáveis."
   ]
  },
  {
   "cell_type": "markdown",
   "id": "1f8f19ee-fbf1-4f4f-b55c-beb86cb0a3d4",
   "metadata": {
    "jp-MarkdownHeadingCollapsed": true
   },
   "source": [
    "## DecisionTree ##"
   ]
  },
  {
   "cell_type": "code",
   "execution_count": null,
   "id": "3ed6df77-7437-4f47-b056-2400b2a5530e",
   "metadata": {},
   "outputs": [],
   "source": [
    "# DecisionTree, usado para dados com outliers"
   ]
  }
 ],
 "metadata": {
  "kernelspec": {
   "display_name": "Python 3 (ipykernel)",
   "language": "python",
   "name": "python3"
  },
  "language_info": {
   "codemirror_mode": {
    "name": "ipython",
    "version": 3
   },
   "file_extension": ".py",
   "mimetype": "text/x-python",
   "name": "python",
   "nbconvert_exporter": "python",
   "pygments_lexer": "ipython3",
   "version": "3.11.6"
  }
 },
 "nbformat": 4,
 "nbformat_minor": 5
}
